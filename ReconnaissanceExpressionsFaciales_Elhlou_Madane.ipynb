{
 "cells": [
  {
   "cell_type": "code",
   "execution_count": null,
   "metadata": {
    "colab": {
     "base_uri": "https://localhost:8080/"
    },
    "executionInfo": {
     "elapsed": 4268,
     "status": "ok",
     "timestamp": 1608650049087,
     "user": {
      "displayName": "Khalil El hlou",
      "photoUrl": "",
      "userId": "14483746033637310854"
     },
     "user_tz": -60
    },
    "id": "ZqIFjawgA4Iy",
    "outputId": "e3ddb1e9-a4ad-449f-85c9-ce237bfbcb9f"
   },
   "outputs": [
    {
     "name": "stdout",
     "output_type": "stream",
     "text": [
      "Collecting brewer2mpl\n",
      "  Downloading https://files.pythonhosted.org/packages/84/57/00c45a199719e617db0875181134fcb3aeef701deae346547ac722eaaf5e/brewer2mpl-1.4.1-py2.py3-none-any.whl\n",
      "Installing collected packages: brewer2mpl\n",
      "Successfully installed brewer2mpl-1.4.1\n"
     ]
    }
   ],
   "source": [
    "!pip install brewer2mpl"
   ]
  },
  {
   "cell_type": "code",
   "execution_count": null,
   "metadata": {
    "colab": {
     "base_uri": "https://localhost:8080/"
    },
    "executionInfo": {
     "elapsed": 2840,
     "status": "ok",
     "timestamp": 1609406628957,
     "user": {
      "displayName": "Abdellah Madane",
      "photoUrl": "",
      "userId": "06482294700582109576"
     },
     "user_tz": -60
    },
    "id": "dzYuR-auyiBa",
    "outputId": "ce583fff-998f-4728-b1ff-0fd68ba95428"
   },
   "outputs": [
    {
     "name": "stderr",
     "output_type": "stream",
     "text": [
      "/usr/local/lib/python3.6/dist-packages/sklearn/externals/six.py:31: FutureWarning: The module is deprecated in version 0.21 and will be removed in version 0.23 since we've dropped support for Python 2.7. Please rely on the official version of six (https://pypi.org/project/six/).\n",
      "  \"(https://pypi.org/project/six/).\", FutureWarning)\n",
      "/usr/local/lib/python3.6/dist-packages/sklearn/utils/deprecation.py:144: FutureWarning: The sklearn.neighbors.base module is  deprecated in version 0.22 and will be removed in version 0.24. The corresponding classes / functions should instead be imported from sklearn.neighbors. Anything that cannot be imported from sklearn.neighbors is now part of the private API.\n",
      "  warnings.warn(message, FutureWarning)\n"
     ]
    }
   ],
   "source": [
    "import pandas as pd\n",
    "import numpy as np\n",
    "import matplotlib.pyplot as plt\n",
    "import csv\n",
    "import keras\n",
    "from keras import models\n",
    "from keras.layers import Dense, Dropout, Flatten, Conv2D, MaxPool2D, Input, Add, Activation, ZeroPadding2D,BatchNormalization, AveragePooling2D, MaxPooling2D, GlobalMaxPooling2D\n",
    "from keras.optimizers import RMSprop,Adam\n",
    "from keras.utils import to_categorical\n",
    "from keras.applications.resnet50 import ResNet50\n",
    "from PIL import Image    \n",
    "from sklearn.model_selection import train_test_split\n",
    "from tqdm import tqdm\n",
    "from numpy import asarray\n",
    "from sklearn.preprocessing import OneHotEncoder\n",
    "from sklearn.datasets import make_classification\n",
    "from imblearn.over_sampling import RandomOverSampler\n",
    "import collections\n",
    "import tensorflow as tf\n",
    "from keras.preprocessing import image\n",
    "from keras.preprocessing.image import load_img\n",
    "from keras.preprocessing.image import img_to_array\n",
    "from keras.preprocessing.image import ImageDataGenerator\n",
    "from keras.layers.normalization import BatchNormalization\n",
    "from tensorflow.keras import datasets, layers, models\n",
    "import random\n",
    "import sys\n",
    "import warnings \n",
    "warnings.filterwarnings('ignore')\n",
    "#import brewer2mpl\n",
    "%matplotlib inline"
   ]
  },
  {
   "cell_type": "code",
   "execution_count": null,
   "metadata": {
    "id": "ecbR8LTKzxWI"
   },
   "outputs": [],
   "source": [
    "#MODEL1\n",
    "data = pd.read_csv('icml_face_data.csv')"
   ]
  },
  {
   "cell_type": "code",
   "execution_count": null,
   "metadata": {
    "colab": {
     "base_uri": "https://localhost:8080/",
     "height": 204
    },
    "executionInfo": {
     "elapsed": 889,
     "status": "ok",
     "timestamp": 1608067175267,
     "user": {
      "displayName": "Abdellah Madane",
      "photoUrl": "",
      "userId": "06482294700582109576"
     },
     "user_tz": -60
    },
    "id": "Q_xnj8Xfz1E3",
    "outputId": "053f39c6-9bf2-4243-9b4d-de5f92c5a8a2"
   },
   "outputs": [
    {
     "data": {
      "text/html": [
       "<div>\n",
       "<style scoped>\n",
       "    .dataframe tbody tr th:only-of-type {\n",
       "        vertical-align: middle;\n",
       "    }\n",
       "\n",
       "    .dataframe tbody tr th {\n",
       "        vertical-align: top;\n",
       "    }\n",
       "\n",
       "    .dataframe thead th {\n",
       "        text-align: right;\n",
       "    }\n",
       "</style>\n",
       "<table border=\"1\" class=\"dataframe\">\n",
       "  <thead>\n",
       "    <tr style=\"text-align: right;\">\n",
       "      <th></th>\n",
       "      <th>emotion</th>\n",
       "      <th>Usage</th>\n",
       "      <th>pixels</th>\n",
       "    </tr>\n",
       "  </thead>\n",
       "  <tbody>\n",
       "    <tr>\n",
       "      <th>0</th>\n",
       "      <td>0</td>\n",
       "      <td>Training</td>\n",
       "      <td>70 80 82 72 58 58 60 63 54 58 60 48 89 115 121...</td>\n",
       "    </tr>\n",
       "    <tr>\n",
       "      <th>1</th>\n",
       "      <td>0</td>\n",
       "      <td>Training</td>\n",
       "      <td>151 150 147 155 148 133 111 140 170 174 182 15...</td>\n",
       "    </tr>\n",
       "    <tr>\n",
       "      <th>2</th>\n",
       "      <td>2</td>\n",
       "      <td>Training</td>\n",
       "      <td>231 212 156 164 174 138 161 173 182 200 106 38...</td>\n",
       "    </tr>\n",
       "    <tr>\n",
       "      <th>3</th>\n",
       "      <td>4</td>\n",
       "      <td>Training</td>\n",
       "      <td>24 32 36 30 32 23 19 20 30 41 21 22 32 34 21 1...</td>\n",
       "    </tr>\n",
       "    <tr>\n",
       "      <th>4</th>\n",
       "      <td>6</td>\n",
       "      <td>Training</td>\n",
       "      <td>4 0 0 0 0 0 0 0 0 0 0 0 3 15 23 28 48 50 58 84...</td>\n",
       "    </tr>\n",
       "  </tbody>\n",
       "</table>\n",
       "</div>"
      ],
      "text/plain": [
       "   emotion     Usage                                             pixels\n",
       "0        0  Training  70 80 82 72 58 58 60 63 54 58 60 48 89 115 121...\n",
       "1        0  Training  151 150 147 155 148 133 111 140 170 174 182 15...\n",
       "2        2  Training  231 212 156 164 174 138 161 173 182 200 106 38...\n",
       "3        4  Training  24 32 36 30 32 23 19 20 30 41 21 22 32 34 21 1...\n",
       "4        6  Training  4 0 0 0 0 0 0 0 0 0 0 0 3 15 23 28 48 50 58 84..."
      ]
     },
     "execution_count": 36,
     "metadata": {
      "tags": []
     },
     "output_type": "execute_result"
    }
   ],
   "source": [
    "data.head()\n"
   ]
  },
  {
   "cell_type": "code",
   "execution_count": null,
   "metadata": {
    "id": "2Ec6wQdF7jWs"
   },
   "outputs": [],
   "source": [
    "def prepare_data(data):\n",
    "    \"\"\"\n",
    "        input: data frame with labels und pixel data\n",
    "        output: image and label array \"\"\"\n",
    "    \n",
    "    image_array = np.zeros(shape=(len(data), 48, 48))\n",
    "    image_label = np.array(list(map(int, data['emotion'])))\n",
    "    \n",
    "    for i, row in enumerate(data.index):\n",
    "        image = np.fromstring(data.loc[row, ' pixels'], dtype=int, sep=' ')\n",
    "        image = np.reshape(image, (48, 48))\n",
    "        image_array[i] = image\n",
    "        \n",
    "    return image_array, image_label"
   ]
  },
  {
   "cell_type": "code",
   "execution_count": null,
   "metadata": {
    "id": "PZE9uoMP7J4X"
   },
   "outputs": [],
   "source": [
    "def plot_all_emotions():\n",
    "    fig, axs = plt.subplots(1, 7, figsize=(30, 12))\n",
    "    fig.subplots_adjust(hspace = .2, wspace=.2)\n",
    "    axs = axs.ravel()\n",
    "    for i in range(7):\n",
    "        idx = data[data['emotion']==i].index[i]\n",
    "        axs[i].imshow(train_images[idx][:,:,0], cmap='gray')\n",
    "        axs[i].set_title(emotions[train_labels[idx].argmax()])\n",
    "        axs[i].set_xticklabels([])\n",
    "        axs[i].set_yticklabels([])"
   ]
  },
  {
   "cell_type": "code",
   "execution_count": null,
   "metadata": {
    "id": "pKpITa_W7aZn"
   },
   "outputs": [],
   "source": [
    "emotions = {0: 'Angry', 1: 'Disgust', 2: 'Fear', 3: 'Happy', 4: 'Sad', 5: 'Surprise', 6: 'Neutral'}"
   ]
  },
  {
   "cell_type": "code",
   "execution_count": null,
   "metadata": {
    "id": "YeWK7Jq4775F"
   },
   "outputs": [],
   "source": [
    "train_image_array, train_image_label = prepare_data(data[data[' Usage']=='Training'])\n",
    "test_image_array, test_image_label = prepare_data(data[data[' Usage']=='PublicTest'])"
   ]
  },
  {
   "cell_type": "code",
   "execution_count": null,
   "metadata": {
    "id": "X-pxHGos8EYT"
   },
   "outputs": [],
   "source": [
    "train_images = train_image_array.reshape((train_image_array.shape[0], 48, 48, 1))\n",
    "train_images = train_images.astype('float32')/255\n",
    "test_images = test_image_array.reshape((test_image_array.shape[0], 48, 48, 1))\n",
    "test_images = test_images.astype('float32')/255"
   ]
  },
  {
   "cell_type": "code",
   "execution_count": null,
   "metadata": {
    "id": "Nk9e9Nxw8GTL"
   },
   "outputs": [],
   "source": [
    "train_labels = to_categorical(train_image_label)\n",
    "test_labels = to_categorical(test_image_label)"
   ]
  },
  {
   "cell_type": "code",
   "execution_count": null,
   "metadata": {
    "colab": {
     "base_uri": "https://localhost:8080/",
     "height": 228
    },
    "executionInfo": {
     "elapsed": 2368,
     "status": "ok",
     "timestamp": 1608067428947,
     "user": {
      "displayName": "Abdellah Madane",
      "photoUrl": "",
      "userId": "06482294700582109576"
     },
     "user_tz": -60
    },
    "id": "pw0xWdqfRvkh",
    "outputId": "7961d103-0efb-4689-c98a-5722b01ddb77"
   },
   "outputs": [
    {
     "data": {
      "image/png": "[encoded data removed]",
      "text/plain": [
       "<Figure size 2160x864 with 7 Axes>"
      ]
     },
     "metadata": {
      "tags": []
     },
     "output_type": "display_data"
    }
   ],
   "source": [
    "plot_all_emotions()"
   ]
  },
  {
   "cell_type": "code",
   "execution_count": null,
   "metadata": {
    "id": "0lf0e3AySmVe"
   },
   "outputs": [],
   "source": [
    "model = models.Sequential()\n",
    "model.add(Conv2D(32, (3, 3), activation='relu', input_shape=(48, 48, 1)))\n",
    "model.add(MaxPool2D((2, 2)))\n",
    "model.add(Conv2D(64, (3, 3), activation='relu'))\n",
    "model.add(MaxPool2D((2, 2)))\n",
    "model.add(Conv2D(64, (3, 3), activation='relu'))\n",
    "model.add(Flatten())\n",
    "model.add(Dense(64, activation='relu'))\n",
    "model.add(Dense(7, activation='softmax'))"
   ]
  },
  {
   "cell_type": "code",
   "execution_count": null,
   "metadata": {
    "id": "J4GvOAJ-SpLd"
   },
   "outputs": [],
   "source": [
    "model.compile(optimizer=Adam(lr=1e-3), loss='categorical_crossentropy', metrics=['accuracy'])"
   ]
  },
  {
   "cell_type": "code",
   "execution_count": null,
   "metadata": {
    "colab": {
     "base_uri": "https://localhost:8080/"
    },
    "executionInfo": {
     "elapsed": 738,
     "status": "ok",
     "timestamp": 1608067505712,
     "user": {
      "displayName": "Abdellah Madane",
      "photoUrl": "",
      "userId": "06482294700582109576"
     },
     "user_tz": -60
    },
    "id": "kV27n5GJSs4l",
    "outputId": "3ff36d6d-7d08-45cb-dc40-b63215d02c4a"
   },
   "outputs": [
    {
     "name": "stdout",
     "output_type": "stream",
     "text": [
      "Model: \"sequential\"\n",
      "_________________________________________________________________\n",
      "Layer (type)                 Output Shape              Param #   \n",
      "=================================================================\n",
      "conv2d (Conv2D)              (None, 46, 46, 32)        320       \n",
      "_________________________________________________________________\n",
      "max_pooling2d (MaxPooling2D) (None, 23, 23, 32)        0         \n",
      "_________________________________________________________________\n",
      "conv2d_1 (Conv2D)            (None, 21, 21, 64)        18496     \n",
      "_________________________________________________________________\n",
      "max_pooling2d_1 (MaxPooling2 (None, 10, 10, 64)        0         \n",
      "_________________________________________________________________\n",
      "conv2d_2 (Conv2D)            (None, 8, 8, 64)          36928     \n",
      "_________________________________________________________________\n",
      "flatten (Flatten)            (None, 4096)              0         \n",
      "_________________________________________________________________\n",
      "dense (Dense)                (None, 64)                262208    \n",
      "_________________________________________________________________\n",
      "dense_1 (Dense)              (None, 7)                 455       \n",
      "=================================================================\n",
      "Total params: 318,407\n",
      "Trainable params: 318,407\n",
      "Non-trainable params: 0\n",
      "_________________________________________________________________\n"
     ]
    }
   ],
   "source": [
    "model.summary()"
   ]
  },
  {
   "cell_type": "code",
   "execution_count": null,
   "metadata": {
    "id": "YH4l9MP2Ul_j"
   },
   "outputs": [],
   "source": [
    "class_weight = dict(zip(range(0, 7), (((data[data[' Usage']=='Training']['emotion'].value_counts()).sort_index())/len(data[data[' Usage']=='Training']['emotion'])).tolist()))"
   ]
  },
  {
   "cell_type": "code",
   "execution_count": null,
   "metadata": {
    "colab": {
     "base_uri": "https://localhost:8080/"
    },
    "executionInfo": {
     "elapsed": 981813,
     "status": "ok",
     "timestamp": 1608068996541,
     "user": {
      "displayName": "Abdellah Madane",
      "photoUrl": "",
      "userId": "06482294700582109576"
     },
     "user_tz": -60
    },
    "id": "QJCQbPp4Sv8d",
    "outputId": "0de55fd4-106b-402a-d99c-de762ec95cb4"
   },
   "outputs": [
    {
     "name": "stdout",
     "output_type": "stream",
     "text": [
      "Epoch 1/12\n",
      "449/449 [==============================] - 82s 182ms/step - loss: 0.2469 - accuracy: 0.3844\n",
      "Epoch 2/12\n",
      "449/449 [==============================] - 82s 182ms/step - loss: 0.2360 - accuracy: 0.4113\n",
      "Epoch 3/12\n",
      "449/449 [==============================] - 82s 182ms/step - loss: 0.2233 - accuracy: 0.4428\n",
      "Epoch 4/12\n",
      "449/449 [==============================] - 81s 181ms/step - loss: 0.2113 - accuracy: 0.4741\n",
      "Epoch 5/12\n",
      "449/449 [==============================] - 82s 182ms/step - loss: 0.2028 - accuracy: 0.4973\n",
      "Epoch 6/12\n",
      "449/449 [==============================] - 82s 182ms/step - loss: 0.1960 - accuracy: 0.5154\n",
      "Epoch 7/12\n",
      "449/449 [==============================] - 82s 182ms/step - loss: 0.1895 - accuracy: 0.5335\n",
      "Epoch 8/12\n",
      "449/449 [==============================] - 81s 181ms/step - loss: 0.1830 - accuracy: 0.5489\n",
      "Epoch 9/12\n",
      "449/449 [==============================] - 81s 181ms/step - loss: 0.1774 - accuracy: 0.5655\n",
      "Epoch 10/12\n",
      "449/449 [==============================] - 81s 181ms/step - loss: 0.1706 - accuracy: 0.5811\n",
      "Epoch 11/12\n",
      "449/449 [==============================] - 82s 182ms/step - loss: 0.1649 - accuracy: 0.5986\n",
      "Epoch 12/12\n",
      "449/449 [==============================] - 81s 181ms/step - loss: 0.1580 - accuracy: 0.6131\n"
     ]
    }
   ],
   "source": [
    "history = model.fit(train_images, train_labels,\n",
    "                    class_weight = class_weight,\n",
    "                    epochs=12,\n",
    "                    batch_size=64)"
   ]
  },
  {
   "cell_type": "code",
   "execution_count": null,
   "metadata": {
    "colab": {
     "base_uri": "https://localhost:8080/"
    },
    "executionInfo": {
     "elapsed": 3885,
     "status": "ok",
     "timestamp": 1608069005608,
     "user": {
      "displayName": "Abdellah Madane",
      "photoUrl": "",
      "userId": "06482294700582109576"
     },
     "user_tz": -60
    },
    "id": "J2jF8-0tX-Fq",
    "outputId": "98d99c39-072e-4cfc-d805-f2d9eb4fb9cb"
   },
   "outputs": [
    {
     "name": "stdout",
     "output_type": "stream",
     "text": [
      "113/113 [==============================] - 3s 28ms/step - loss: 1.3485 - accuracy: 0.5277\n",
      "test caccuracy: 0.5277236104011536\n"
     ]
    }
   ],
   "source": [
    "test_loss, test_acc = model.evaluate(test_images, test_labels)\n",
    "print('test caccuracy:', test_acc)"
   ]
  },
  {
   "cell_type": "code",
   "execution_count": null,
   "metadata": {
    "id": "FdgmxFbPhjHc"
   },
   "outputs": [],
   "source": [
    "#MODEL2 - ResNet50\n",
    "data_set = pd.read_csv('/content/drive/MyDrive/train.csv')\n",
    "examples = pd.read_csv('/content/drive/MyDrive/test.csv')"
   ]
  },
  {
   "cell_type": "code",
   "execution_count": null,
   "metadata": {
    "colab": {
     "base_uri": "https://localhost:8080/",
     "height": 185
    },
    "executionInfo": {
     "elapsed": 14168,
     "status": "error",
     "timestamp": 1608451533248,
     "user": {
      "displayName": "Abdellah Madane",
      "photoUrl": "",
      "userId": "06482294700582109576"
     },
     "user_tz": -60
    },
    "id": "qMZB1dGvh7Ty",
    "outputId": "b8079a10-8b44-49c1-ae5f-0536dce51870"
   },
   "outputs": [
    {
     "ename": "NameError",
     "evalue": "ignored",
     "output_type": "error",
     "traceback": [
      "\u001b[0;31m---------------------------------------------------------------------------\u001b[0m",
      "\u001b[0;31mNameError\u001b[0m                                 Traceback (most recent call last)",
      "\u001b[0;32m<ipython-input-2-cc302de1b20f>\u001b[0m in \u001b[0;36m<module>\u001b[0;34m()\u001b[0m\n\u001b[0;32m----> 1\u001b[0;31m \u001b[0max\u001b[0m \u001b[0;34m=\u001b[0m \u001b[0mnp\u001b[0m\u001b[0;34m.\u001b[0m\u001b[0marray\u001b[0m\u001b[0;34m(\u001b[0m\u001b[0mdata_set\u001b[0m\u001b[0;34m.\u001b[0m\u001b[0memotion\u001b[0m\u001b[0;34m)\u001b[0m\u001b[0;34m\u001b[0m\u001b[0;34m\u001b[0m\u001b[0m\n\u001b[0m\u001b[1;32m      2\u001b[0m \u001b[0mcollections\u001b[0m\u001b[0;34m.\u001b[0m\u001b[0mCounter\u001b[0m\u001b[0;34m(\u001b[0m\u001b[0max\u001b[0m\u001b[0;34m)\u001b[0m\u001b[0;34m\u001b[0m\u001b[0;34m\u001b[0m\u001b[0m\n",
      "\u001b[0;31mNameError\u001b[0m: name 'np' is not defined"
     ]
    }
   ],
   "source": [
    "ax = np.array(data_set.emotion)\n",
    "collections.Counter(ax)"
   ]
  },
  {
   "cell_type": "code",
   "execution_count": null,
   "metadata": {
    "colab": {
     "base_uri": "https://localhost:8080/",
     "height": 238
    },
    "executionInfo": {
     "elapsed": 13168,
     "status": "error",
     "timestamp": 1608451533251,
     "user": {
      "displayName": "Abdellah Madane",
      "photoUrl": "",
      "userId": "06482294700582109576"
     },
     "user_tz": -60
    },
    "id": "VW92B2efiA5w",
    "outputId": "6e4c14f3-dee3-4315-da4e-e7f1cf5d2696"
   },
   "outputs": [
    {
     "ename": "NameError",
     "evalue": "ignored",
     "output_type": "error",
     "traceback": [
      "\u001b[0;31m---------------------------------------------------------------------------\u001b[0m",
      "\u001b[0;31mNameError\u001b[0m                                 Traceback (most recent call last)",
      "\u001b[0;32m<ipython-input-3-59d4db916794>\u001b[0m in \u001b[0;36m<module>\u001b[0;34m()\u001b[0m\n\u001b[0;32m----> 1\u001b[0;31m \u001b[0moversample\u001b[0m \u001b[0;34m=\u001b[0m \u001b[0mRandomOverSampler\u001b[0m\u001b[0;34m(\u001b[0m\u001b[0msampling_strategy\u001b[0m\u001b[0;34m=\u001b[0m\u001b[0;34m'auto'\u001b[0m\u001b[0;34m)\u001b[0m\u001b[0;34m\u001b[0m\u001b[0;34m\u001b[0m\u001b[0m\n\u001b[0m\u001b[1;32m      2\u001b[0m \u001b[0;31m# fit and apply the transform\u001b[0m\u001b[0;34m\u001b[0m\u001b[0;34m\u001b[0m\u001b[0;34m\u001b[0m\u001b[0m\n\u001b[1;32m      3\u001b[0m \u001b[0mX_over\u001b[0m\u001b[0;34m,\u001b[0m \u001b[0my_over\u001b[0m \u001b[0;34m=\u001b[0m \u001b[0moversample\u001b[0m\u001b[0;34m.\u001b[0m\u001b[0mfit_resample\u001b[0m\u001b[0;34m(\u001b[0m\u001b[0;34m(\u001b[0m\u001b[0mdata_set\u001b[0m\u001b[0;34m.\u001b[0m\u001b[0mpixels\u001b[0m\u001b[0;34m)\u001b[0m\u001b[0;34m.\u001b[0m\u001b[0mvalues\u001b[0m\u001b[0;34m.\u001b[0m\u001b[0mreshape\u001b[0m\u001b[0;34m(\u001b[0m\u001b[0;34m-\u001b[0m\u001b[0;36m1\u001b[0m\u001b[0;34m,\u001b[0m \u001b[0;36m1\u001b[0m\u001b[0;34m)\u001b[0m\u001b[0;34m,\u001b[0m \u001b[0mdata_set\u001b[0m\u001b[0;34m.\u001b[0m\u001b[0memotion\u001b[0m\u001b[0;34m)\u001b[0m\u001b[0;34m\u001b[0m\u001b[0;34m\u001b[0m\u001b[0m\n\u001b[1;32m      4\u001b[0m \u001b[0;34m\u001b[0m\u001b[0m\n\u001b[1;32m      5\u001b[0m \u001b[0;34m\u001b[0m\u001b[0m\n",
      "\u001b[0;31mNameError\u001b[0m: name 'RandomOverSampler' is not defined"
     ]
    }
   ],
   "source": [
    "oversample = RandomOverSampler(sampling_strategy='auto')\n",
    "# fit and apply the transform\n",
    "X_over, y_over = oversample.fit_resample((data_set.pixels).values.reshape(-1, 1), data_set.emotion)\n",
    "\n",
    "\n",
    "a = np.array(y_over)\n",
    "collections.Counter(a)"
   ]
  },
  {
   "cell_type": "code",
   "execution_count": null,
   "metadata": {
    "id": "luTCavkeiLhC"
   },
   "outputs": [],
   "source": [
    "y_over = pd.Series(y_over)\n",
    "y_over= y_over.values.reshape(len(y_over),1)\n",
    "\n",
    "X_train,X_test,Y_train,Y_test = train_test_split(X_over,y_over, test_size=0.2)\n",
    "#print(X_train[11])\n",
    "print (\"X_train shape: \" + str(X_train.shape))\n",
    "print (\"Y_train shape: \" + str(Y_train.shape))\n",
    "print (\"X_test shape: \" + str(X_test.shape))\n",
    "print (\"Y_test shape: \" + str(Y_test.shape))"
   ]
  },
  {
   "cell_type": "code",
   "execution_count": null,
   "metadata": {
    "id": "JUwIrmD_ilxf"
   },
   "outputs": [],
   "source": [
    "def preprocessing(pixels):\n",
    "    a = []\n",
    "    \n",
    "    for i in range(len(pixels)):\n",
    "            image_string = (pixels)[i].split(' ') \n",
    "            image_data = np.asarray(image_string, dtype=np.uint8).reshape(48,48,1)\n",
    "            a.append(image_data)\n",
    "\n",
    "    return a"
   ]
  },
  {
   "cell_type": "code",
   "execution_count": null,
   "metadata": {
    "colab": {
     "base_uri": "https://localhost:8080/",
     "height": 238
    },
    "executionInfo": {
     "elapsed": 4989,
     "status": "error",
     "timestamp": 1608451542421,
     "user": {
      "displayName": "Abdellah Madane",
      "photoUrl": "",
      "userId": "06482294700582109576"
     },
     "user_tz": -60
    },
    "id": "qjak3e-NippW",
    "outputId": "360845ac-0ce2-40e7-eb8e-0d470f80c2bf"
   },
   "outputs": [
    {
     "ename": "NameError",
     "evalue": "ignored",
     "output_type": "error",
     "traceback": [
      "\u001b[0;31m---------------------------------------------------------------------------\u001b[0m",
      "\u001b[0;31mNameError\u001b[0m                                 Traceback (most recent call last)",
      "\u001b[0;32m<ipython-input-5-94a011a52a11>\u001b[0m in \u001b[0;36m<module>\u001b[0;34m()\u001b[0m\n\u001b[1;32m      2\u001b[0m \u001b[0ma\u001b[0m\u001b[0;34m=\u001b[0m \u001b[0;34m[\u001b[0m\u001b[0;34m]\u001b[0m\u001b[0;34m\u001b[0m\u001b[0;34m\u001b[0m\u001b[0m\n\u001b[1;32m      3\u001b[0m \u001b[0;34m\u001b[0m\u001b[0m\n\u001b[0;32m----> 4\u001b[0;31m \u001b[0mX_train\u001b[0m \u001b[0;34m=\u001b[0m \u001b[0mpd\u001b[0m\u001b[0;34m.\u001b[0m\u001b[0mSeries\u001b[0m\u001b[0;34m(\u001b[0m\u001b[0mX_train\u001b[0m\u001b[0;34m.\u001b[0m\u001b[0mflatten\u001b[0m\u001b[0;34m(\u001b[0m\u001b[0;34m)\u001b[0m\u001b[0;34m)\u001b[0m\u001b[0;34m\u001b[0m\u001b[0;34m\u001b[0m\u001b[0m\n\u001b[0m\u001b[1;32m      5\u001b[0m \u001b[0mX_train_resnet50\u001b[0m \u001b[0;34m=\u001b[0m\u001b[0mX_train\u001b[0m\u001b[0;34m\u001b[0m\u001b[0;34m\u001b[0m\u001b[0m\n\u001b[1;32m      6\u001b[0m \u001b[0ma\u001b[0m \u001b[0;34m=\u001b[0m \u001b[0mpreprocessing\u001b[0m\u001b[0;34m(\u001b[0m\u001b[0mX_train\u001b[0m\u001b[0;34m)\u001b[0m\u001b[0;34m\u001b[0m\u001b[0;34m\u001b[0m\u001b[0m\n",
      "\u001b[0;31mNameError\u001b[0m: name 'pd' is not defined"
     ]
    }
   ],
   "source": [
    "%matplotlib inline\n",
    "a= []\n",
    "\n",
    "X_train = pd.Series(X_train.flatten())\n",
    "X_train_resnet50 =X_train\n",
    "a = preprocessing(X_train)\n",
    "\n",
    "\n",
    "\n",
    "X_train = np.array(a)\n",
    "#X_test =test\n",
    "# Y_train = y_over\n",
    "\n",
    "print (\"number of training examples = \" + str(X_train.shape[0]))\n",
    "print (\"X_train shape: \" + str(X_train.shape))\n",
    "print (\"Y_train shape: \" + str(Y_train.shape))"
   ]
  },
  {
   "cell_type": "code",
   "execution_count": null,
   "metadata": {
    "colab": {
     "base_uri": "https://localhost:8080/",
     "height": 238
    },
    "executionInfo": {
     "elapsed": 4412,
     "status": "error",
     "timestamp": 1608451544446,
     "user": {
      "displayName": "Abdellah Madane",
      "photoUrl": "",
      "userId": "06482294700582109576"
     },
     "user_tz": -60
    },
    "id": "6bW_1IPmis5X",
    "outputId": "8c84e963-59af-46eb-c332-1d26118e3729"
   },
   "outputs": [
    {
     "ename": "NameError",
     "evalue": "ignored",
     "output_type": "error",
     "traceback": [
      "\u001b[0;31m---------------------------------------------------------------------------\u001b[0m",
      "\u001b[0;31mNameError\u001b[0m                                 Traceback (most recent call last)",
      "\u001b[0;32m<ipython-input-6-a2c5848c4bb8>\u001b[0m in \u001b[0;36m<module>\u001b[0;34m()\u001b[0m\n\u001b[1;32m      1\u001b[0m \u001b[0;31m# ResNet50\u001b[0m\u001b[0;34m\u001b[0m\u001b[0;34m\u001b[0m\u001b[0;34m\u001b[0m\u001b[0m\n\u001b[1;32m      2\u001b[0m \u001b[0ma\u001b[0m \u001b[0;34m=\u001b[0m \u001b[0;34m[\u001b[0m\u001b[0;34m]\u001b[0m\u001b[0;34m\u001b[0m\u001b[0;34m\u001b[0m\u001b[0m\n\u001b[0;32m----> 3\u001b[0;31m \u001b[0;32mfor\u001b[0m \u001b[0mi\u001b[0m \u001b[0;32min\u001b[0m \u001b[0mrange\u001b[0m\u001b[0;34m(\u001b[0m\u001b[0mlen\u001b[0m\u001b[0;34m(\u001b[0m\u001b[0mX_train_resnet50\u001b[0m\u001b[0;34m)\u001b[0m\u001b[0;34m)\u001b[0m\u001b[0;34m:\u001b[0m\u001b[0;34m\u001b[0m\u001b[0;34m\u001b[0m\u001b[0m\n\u001b[0m\u001b[1;32m      4\u001b[0m             \u001b[0mimage_string\u001b[0m \u001b[0;34m=\u001b[0m \u001b[0;34m(\u001b[0m\u001b[0mX_train_resnet50\u001b[0m\u001b[0;34m)\u001b[0m\u001b[0;34m[\u001b[0m\u001b[0mi\u001b[0m\u001b[0;34m]\u001b[0m\u001b[0;34m.\u001b[0m\u001b[0msplit\u001b[0m\u001b[0;34m(\u001b[0m\u001b[0;34m' '\u001b[0m\u001b[0;34m)\u001b[0m\u001b[0;34m\u001b[0m\u001b[0;34m\u001b[0m\u001b[0m\n\u001b[1;32m      5\u001b[0m             \u001b[0mimage_data\u001b[0m \u001b[0;34m=\u001b[0m \u001b[0mnp\u001b[0m\u001b[0;34m.\u001b[0m\u001b[0masarray\u001b[0m\u001b[0;34m(\u001b[0m\u001b[0mimage_string\u001b[0m\u001b[0;34m,\u001b[0m \u001b[0mdtype\u001b[0m\u001b[0;34m=\u001b[0m\u001b[0mnp\u001b[0m\u001b[0;34m.\u001b[0m\u001b[0muint8\u001b[0m\u001b[0;34m)\u001b[0m\u001b[0;34m.\u001b[0m\u001b[0mreshape\u001b[0m\u001b[0;34m(\u001b[0m\u001b[0;36m48\u001b[0m\u001b[0;34m,\u001b[0m\u001b[0;36m48\u001b[0m\u001b[0;34m)\u001b[0m\u001b[0;34m\u001b[0m\u001b[0;34m\u001b[0m\u001b[0m\n",
      "\u001b[0;31mNameError\u001b[0m: name 'X_train_resnet50' is not defined"
     ]
    }
   ],
   "source": [
    "# ResNet50\n",
    "a = []\n",
    "for i in range(len(X_train_resnet50)):\n",
    "            image_string = (X_train_resnet50)[i].split(' ') \n",
    "            image_data = np.asarray(image_string, dtype=np.uint8).reshape(48,48)\n",
    "            a.append(image_data)\n"
   ]
  },
  {
   "cell_type": "code",
   "execution_count": null,
   "metadata": {
    "colab": {
     "base_uri": "https://localhost:8080/"
    },
    "executionInfo": {
     "elapsed": 1171752,
     "status": "ok",
     "timestamp": 1608299564423,
     "user": {
      "displayName": "Abdellah Madane",
      "photoUrl": "",
      "userId": "06482294700582109576"
     },
     "user_tz": -60
    },
    "id": "lnvrgLbPK-NV",
    "outputId": "60ccbaea-7db2-4a86-c210-ef669bb74a88"
   },
   "outputs": [
    {
     "name": "stdout",
     "output_type": "stream",
     "text": [
      "(40404, 48, 48, 3)\n",
      "Epoch 1/6\n",
      "315/315 [==============================] - 2607s 8s/step - loss: 2.3512 - accuracy: 0.3412 - val_loss: 1.4390 - val_accuracy: 0.4409\n",
      "Epoch 2/6\n",
      "315/315 [==============================] - 2601s 8s/step - loss: 1.2701 - accuracy: 0.5333 - val_loss: 1.3803 - val_accuracy: 0.5004\n",
      "Epoch 3/6\n",
      "315/315 [==============================] - 2646s 8s/step - loss: 1.2073 - accuracy: 0.5598 - val_loss: 1.0802 - val_accuracy: 0.5727\n",
      "Epoch 4/6\n",
      "315/315 [==============================] - 2643s 8s/step - loss: 0.8688 - accuracy: 0.6775 - val_loss: 3.5438 - val_accuracy: 0.2350\n",
      "Epoch 5/6\n",
      "315/315 [==============================] - 2637s 8s/step - loss: 1.2170 - accuracy: 0.5703 - val_loss: 2.0001 - val_accuracy: 0.3510\n",
      "Epoch 6/6\n",
      "315/315 [==============================] - 2660s 8s/step - loss: 1.1925 - accuracy: 0.5683 - val_loss: 1.3183 - val_accuracy: 0.5468\n",
      "INFO:tensorflow:Assets written to: ResNEt50/assets\n"
     ]
    }
   ],
   "source": [
    "X_train_resnet50 = np.array(a)\n",
    "rgb_X_train = np.repeat(X_train_resnet50[..., np.newaxis], 3, -1)\n",
    "print(rgb_X_train.shape)  # (size, 48, 48, 3)\n",
    "\n",
    "model1 = ResNet50(weights='imagenet', include_top=False, input_shape=(48, 48, 3))\n",
    "\n",
    "x = model1.output\n",
    "x= Flatten()(x)\n",
    "x = Dense(7, activation='softmax')(x)\n",
    "model50 = keras.Model(inputs=model1.input, outputs=x)\n",
    "\n",
    "\n",
    "model50.compile(optimizer='adam',\n",
    "              loss=tf.keras.losses.SparseCategoricalCrossentropy(from_logits=True),\n",
    "              metrics=['accuracy'])\n",
    "\n",
    "model50.fit(rgb_X_train, Y_train, batch_size=64, epochs=6, steps_per_epoch=len(X_train)/128, validation_split = 0.25)\n",
    "model50.save('ResNEt50')"
   ]
  },
  {
   "cell_type": "code",
   "execution_count": null,
   "metadata": {
    "colab": {
     "base_uri": "https://localhost:8080/",
     "height": 355
    },
    "executionInfo": {
     "elapsed": 129984,
     "status": "ok",
     "timestamp": 1608303410556,
     "user": {
      "displayName": "Abdellah Madane",
      "photoUrl": "",
      "userId": "06482294700582109576"
     },
     "user_tz": -60
    },
    "id": "ez0lVHZwj4Q0",
    "outputId": "6e3f12dc-33fb-4797-9e77-f74efff2da82"
   },
   "outputs": [
    {
     "name": "stdout",
     "output_type": "stream",
     "text": [
      "X_test shape: (10101, 1)\n",
      "(10101, 48, 48)\n",
      "316/316 [==============================] - 63s 199ms/step - loss: 1.2910 - accuracy: 0.5613\n",
      "Neutral\n"
     ]
    },
    {
     "data": {
      "text/plain": [
       "<matplotlib.image.AxesImage at 0x7fd522471fd0>"
      ]
     },
     "execution_count": 42,
     "metadata": {
      "tags": []
     },
     "output_type": "execute_result"
    },
    {
     "data": {
      "image/png": "[encoded data removed]",
      "text/plain": [
       "<Figure size 432x288 with 1 Axes>"
      ]
     },
     "metadata": {
      "tags": []
     },
     "output_type": "display_data"
    }
   ],
   "source": [
    "Expressions = [\"Angry\",\"Disgust\",\"Fear\",\"Happy\",\"Sad\",\"Surprise\",\"Neutral\"]\n",
    "a= []\n",
    "print (\"X_test shape: \" + str(X_test.shape))\n",
    "X_test50 = pd.Series(X_test.flatten())\n",
    "a = []\n",
    "for i in range(len(X_test50)):\n",
    "            image_string = (X_test50)[i].split(' ') \n",
    "            image_data = np.asarray(image_string, dtype=np.uint8).reshape(48,48)\n",
    "            a.append(image_data)\n",
    "\n",
    "\n",
    "X_testing_array = np.array(a)\n",
    "print(X_testing_array.shape)  # (size, 48, 48)\n",
    "rgb_X_test = np.repeat(X_testing_array[..., np.newaxis], 3, -1)\n",
    "# print(rgb_X_test.shape)  # (size, 48, 48, 3)\n",
    "\n",
    "prediction = model50.predict(rgb_X_test)\n",
    "model50.evaluate(rgb_X_test,Y_test)\n",
    "    \n",
    "results = Expressions[np.argmax(prediction[100])]\n",
    "print(results)\n",
    "\n",
    "image_string = X_test50[100].split(' ') \n",
    "image_data = np.asarray(image_string, dtype=np.uint8).reshape(48,48)\n",
    "plt.imshow(image_data)"
   ]
  },
  {
   "cell_type": "code",
   "execution_count": null,
   "metadata": {
    "id": "JkY8UQ6dnV2l"
   },
   "outputs": [],
   "source": [
    "#MODEL3 - InceptionResNetV2\n",
    "train_csv = pd.read_csv('/content/drive/MyDrive/train.csv')\n",
    "test_csv = pd.read_csv('/content/drive/MyDrive/test.csv')\n",
    "split_df = pd.DataFrame([train_csv['pixels'][i].split() for i in range(train_csv.shape[0])])\n",
    "train_joined = train_csv.join(split_df)\n",
    "train_joined.drop('pixels',axis = 1,inplace = True)\n",
    "Y_train = train_joined['emotion']\n",
    "X_train = train_joined.iloc[:,1:2305]\n",
    "\n",
    "x_train_raw = X_train.to_numpy()\n",
    "y_train_raw = Y_train.to_numpy()\n",
    "\n",
    "x_train = x_train_raw.astype(np.float64)\n",
    "y_train = y_train_raw.astype(np.int)\n",
    "\n",
    "x_train/=255\n",
    "x_train,x_val, y_train,y_val = train_test_split(x_train,y_train,test_size = 0.2,stratify = y_train_raw)\n",
    "x_train = np.reshape(x_train,(x_train.shape[0],48,48,1))\n",
    "x_val = np.reshape(x_val,(x_val.shape[0],48,48,1))\n",
    "y_train = to_categorical(y_train)\n",
    "y_val = to_categorical(y_val)"
   ]
  },
  {
   "cell_type": "code",
   "execution_count": null,
   "metadata": {
    "colab": {
     "base_uri": "https://localhost:8080/"
    },
    "executionInfo": {
     "elapsed": 1346,
     "status": "ok",
     "timestamp": 1609843236652,
     "user": {
      "displayName": "Abdellah Madane",
      "photoUrl": "",
      "userId": "06482294700582109576"
     },
     "user_tz": -60
    },
    "id": "sTKZruWZNMhg",
    "outputId": "5e5e6409-7885-41b8-e52d-137d7fdc2050"
   },
   "outputs": [
    {
     "name": "stdout",
     "output_type": "stream",
     "text": [
      "Drive already mounted at /content/drive; to attempt to forcibly remount, call drive.mount(\"/content/drive\", force_remount=True).\n"
     ]
    }
   ],
   "source": [
    "from google.colab import drive\n",
    "drive.mount('/content/drive')"
   ]
  },
  {
   "cell_type": "code",
   "execution_count": null,
   "metadata": {
    "colab": {
     "background_save": true,
     "base_uri": "https://localhost:8080/"
    },
    "id": "70oZy-2Wo4A5",
    "outputId": "e162179f-bb90-4ece-ede2-c451093fd39a"
   },
   "outputs": [
    {
     "name": "stdout",
     "output_type": "stream",
     "text": [
      "Model: \"sequential\"\n",
      "_________________________________________________________________\n",
      "Layer (type)                 Output Shape              Param #   \n",
      "=================================================================\n",
      "conv2d (Conv2D)              (None, 48, 48, 256)       2560      \n",
      "_________________________________________________________________\n",
      "max_pooling2d (MaxPooling2D) (None, 24, 24, 256)       0         \n",
      "_________________________________________________________________\n",
      "dropout (Dropout)            (None, 24, 24, 256)       0         \n",
      "_________________________________________________________________\n",
      "conv2d_1 (Conv2D)            (None, 24, 24, 256)       1638656   \n",
      "_________________________________________________________________\n",
      "max_pooling2d_1 (MaxPooling2 (None, 12, 12, 256)       0         \n",
      "_________________________________________________________________\n",
      "dropout_1 (Dropout)          (None, 12, 12, 256)       0         \n",
      "_________________________________________________________________\n",
      "conv2d_2 (Conv2D)            (None, 12, 12, 256)       1638656   \n",
      "_________________________________________________________________\n",
      "max_pooling2d_2 (MaxPooling2 (None, 6, 6, 256)         0         \n",
      "_________________________________________________________________\n",
      "dropout_2 (Dropout)          (None, 6, 6, 256)         0         \n",
      "_________________________________________________________________\n",
      "conv2d_3 (Conv2D)            (None, 6, 6, 256)         1638656   \n",
      "_________________________________________________________________\n",
      "max_pooling2d_3 (MaxPooling2 (None, 3, 3, 256)         0         \n",
      "_________________________________________________________________\n",
      "dropout_3 (Dropout)          (None, 3, 3, 256)         0         \n",
      "_________________________________________________________________\n",
      "flatten (Flatten)            (None, 2304)              0         \n",
      "_________________________________________________________________\n",
      "dense (Dense)                (None, 256)               590080    \n",
      "_________________________________________________________________\n",
      "dense_1 (Dense)              (None, 256)               65792     \n",
      "_________________________________________________________________\n",
      "dense_2 (Dense)              (None, 7)                 1799      \n",
      "=================================================================\n",
      "Total params: 5,576,199\n",
      "Trainable params: 5,576,199\n",
      "Non-trainable params: 0\n",
      "_________________________________________________________________\n",
      "Epoch 1/7\n",
      "180/180 [==============================] - 4021s 22s/step - loss: 2.2383 - accuracy: 0.2336 - val_loss: 1.8079 - val_accuracy: 0.2194\n",
      "Epoch 2/7\n",
      "180/180 [==============================] - 4000s 22s/step - loss: 1.7620 - accuracy: 0.2722 - val_loss: 1.5922 - val_accuracy: 0.3777\n",
      "Epoch 3/7\n",
      "180/180 [==============================] - 3964s 22s/step - loss: 1.5429 - accuracy: 0.3939 - val_loss: 1.4403 - val_accuracy: 0.4404\n",
      "Epoch 4/7\n",
      "180/180 [==============================] - 3965s 22s/step - loss: 1.3798 - accuracy: 0.4674 - val_loss: 1.3969 - val_accuracy: 0.4554\n",
      "Epoch 5/7\n",
      "180/180 [==============================] - 3929s 22s/step - loss: 1.2877 - accuracy: 0.5078 - val_loss: 1.2682 - val_accuracy: 0.5070\n",
      "Epoch 6/7\n",
      "180/180 [==============================] - 3905s 22s/step - loss: 1.2145 - accuracy: 0.5387 - val_loss: 1.2725 - val_accuracy: 0.5178\n",
      "Epoch 7/7\n",
      "180/180 [==============================] - 3904s 22s/step - loss: 1.1277 - accuracy: 0.5766 - val_loss: 1.2105 - val_accuracy: 0.5449\n"
     ]
    },
    {
     "data": {
      "image/png": "[encoded data removed]",
      "text/plain": [
       "<Figure size 432x288 with 1 Axes>"
      ]
     },
     "metadata": {
      "tags": []
     },
     "output_type": "display_data"
    },
    {
     "data": {
      "image/png": "[encoded data removed]",
      "text/plain": [
       "<Figure size 432x288 with 1 Axes>"
      ]
     },
     "metadata": {
      "tags": []
     },
     "output_type": "display_data"
    }
   ],
   "source": [
    "model_3 = keras.Sequential()\n",
    "\n",
    "model_3.add(Conv2D(256,(3,3),activation = 'relu', padding = 'same',input_shape = (48,48,1)))\n",
    "model_3.add(MaxPooling2D(2,2))\n",
    "model_3.add(Dropout(0.3))\n",
    "\n",
    "\n",
    "model_3.add(Conv2D(256,(5,5),activation = 'relu', padding = 'same'))\n",
    "model_3.add(MaxPooling2D(2,2))\n",
    "model_3.add(Dropout(0.3))\n",
    "\n",
    "\n",
    "model_3.add(Conv2D(256,(5,5),activation = 'relu', padding = 'same'))\n",
    "model_3.add(MaxPooling2D(2,2))\n",
    "model_3.add(Dropout(0.3))\n",
    "\n",
    "\n",
    "model_3.add(Conv2D(256,(5,5),activation = 'relu', padding = 'same'))\n",
    "model_3.add(MaxPooling2D(2,2))\n",
    "model_3.add(Dropout(0.3))\n",
    "\n",
    "\n",
    "model_3.add(Flatten())\n",
    "model_3.add(Dense(256,activation='relu'))\n",
    "model_3.add(Dense(256,activation='relu'))\n",
    "model_3.add(Dense(7,activation='softmax'))\n",
    "model_3.summary()\n",
    "\n",
    "model_3.compile(optimizer='rmsprop',loss='categorical_crossentropy',metrics=['accuracy'])\n",
    "history = model_3.fit(x_train,y_train,validation_data = (x_val,y_val),epochs = 7, batch_size = 128,verbose=1)\n",
    "\n",
    "loss = history.history['loss']\n",
    "val_loss = history.history['val_loss']\n",
    "acc = history.history['accuracy']\n",
    "val_acc = history.history['val_accuracy']\n",
    "\n",
    "epochs = range(1,len(loss)+1)\n",
    "\n",
    "plt.plot(epochs[1:],loss[1:],'bo',label='training loss')\n",
    "plt.plot(epochs[1:],val_loss[1:],'b',label='val loss')\n",
    "plt.legend()\n",
    "plt.xlabel('epochs')\n",
    "plt.ylabel('losses')\n",
    "plt.show()\n",
    "\n",
    "plt.plot(epochs,acc,'bo',label='training acc')\n",
    "plt.plot(epochs,val_acc,'b',label='val acc')\n",
    "plt.legend()\n",
    "plt.xlabel('epochs')\n",
    "plt.ylabel('accuracies')\n",
    "plt.show()\n"
   ]
  },
  {
   "cell_type": "code",
   "execution_count": null,
   "metadata": {
    "colab": {
     "base_uri": "https://localhost:8080/",
     "height": 766
    },
    "executionInfo": {
     "elapsed": 146268,
     "status": "ok",
     "timestamp": 1608699039429,
     "user": {
      "displayName": "Abdellah Madane",
      "photoUrl": "",
      "userId": "06482294700582109576"
     },
     "user_tz": -60
    },
    "id": "Ik1mGx_ao9kU",
    "outputId": "eeb6981c-3012-4ce7-cc8a-fca6c0f48559"
   },
   "outputs": [
    {
     "data": {
      "image/png": "[encoded data removed]",
      "text/plain": [
       "<Figure size 432x288 with 1 Axes>"
      ]
     },
     "metadata": {
      "tags": []
     },
     "output_type": "display_data"
    },
    {
     "data": {
      "image/png": "[encoded data removed]",
      "text/plain": [
       "<Figure size 432x288 with 1 Axes>"
      ]
     },
     "metadata": {
      "tags": []
     },
     "output_type": "display_data"
    },
    {
     "data": {
      "image/png": "[encoded data removed]",
      "text/plain": [
       "<Figure size 432x288 with 1 Axes>"
      ]
     },
     "metadata": {
      "tags": []
     },
     "output_type": "display_data"
    }
   ],
   "source": [
    "#InceptionResNetV2m_pre = Sequential()\n",
    "from tensorflow.keras.applications import InceptionResNetV2\n",
    "\n",
    "# Since ResNetV2 expects 3 input channels we repeat the image\n",
    "\n",
    "x_train_3c = x_train[:,:,:,:,np.newaxis]\n",
    "x_train_3c.shape\n",
    "x_train_rgb = np.repeat(x_train, 3, -1)\n",
    "\n",
    "plt.imshow(x_train_rgb[0,:,:,0].reshape(48,48))\n",
    "plt.show()\n",
    "plt.imshow(x_train_rgb[0,:,:,1].reshape(48,48))\n",
    "plt.show()\n",
    "plt.imshow(x_train_rgb[0,:,:,2].reshape(48,48))\n",
    "plt.show()\n",
    "\n",
    "x_val_rgb = np.repeat(x_val,3,-1)"
   ]
  },
  {
   "cell_type": "code",
   "execution_count": null,
   "metadata": {
    "colab": {
     "base_uri": "https://localhost:8080/"
    },
    "executionInfo": {
     "elapsed": 829,
     "status": "ok",
     "timestamp": 1608699040285,
     "user": {
      "displayName": "Abdellah Madane",
      "photoUrl": "",
      "userId": "06482294700582109576"
     },
     "user_tz": -60
    },
    "id": "KpA48m9QpNPq",
    "outputId": "fe5f7de5-1315-4427-e68e-68a88cf6bd2c"
   },
   "outputs": [
    {
     "name": "stdout",
     "output_type": "stream",
     "text": [
      "(5742, 48, 48, 3)\n",
      "(22967, 48, 48, 3)\n"
     ]
    }
   ],
   "source": [
    "print(x_val_rgb.shape)\n",
    "print(x_train_rgb.shape)"
   ]
  },
  {
   "cell_type": "code",
   "execution_count": null,
   "metadata": {
    "colab": {
     "base_uri": "https://localhost:8080/"
    },
    "executionInfo": {
     "elapsed": 10104,
     "status": "ok",
     "timestamp": 1608699049573,
     "user": {
      "displayName": "Abdellah Madane",
      "photoUrl": "",
      "userId": "06482294700582109576"
     },
     "user_tz": -60
    },
    "id": "y_xk0wuSpqUC",
    "outputId": "6cc2290c-d57e-49a4-cc64-383e2fb2f9a8"
   },
   "outputs": [
    {
     "name": "stdout",
     "output_type": "stream",
     "text": [
      "Downloading data from https://storage.googleapis.com/tensorflow/keras-applications/inception_resnet_v2/inception_resnet_v2_weights_tf_dim_ordering_tf_kernels_notop.h5\n",
      "219062272/219055592 [==============================] - 2s 0us/step\n"
     ]
    }
   ],
   "source": [
    "conv_base = InceptionResNetV2(include_top = False,weights ='imagenet')\n",
    "conv_base.trainable = False"
   ]
  },
  {
   "cell_type": "code",
   "execution_count": null,
   "metadata": {
    "id": "kpFDh_1XptsK"
   },
   "outputs": [],
   "source": [
    "model = keras.Sequential()\n",
    "model.add(keras.layers.ZeroPadding2D((75,75), input_shape = (48,48,3)))"
   ]
  },
  {
   "cell_type": "code",
   "execution_count": null,
   "metadata": {
    "colab": {
     "base_uri": "https://localhost:8080/"
    },
    "executionInfo": {
     "elapsed": 11922,
     "status": "ok",
     "timestamp": 1608699051408,
     "user": {
      "displayName": "Abdellah Madane",
      "photoUrl": "",
      "userId": "06482294700582109576"
     },
     "user_tz": -60
    },
    "id": "vudpf0f_pvPO",
    "outputId": "30132cdf-dd80-4421-e6cd-31d1d6eca6ef"
   },
   "outputs": [
    {
     "name": "stdout",
     "output_type": "stream",
     "text": [
      "Model: \"sequential\"\n",
      "_________________________________________________________________\n",
      "Layer (type)                 Output Shape              Param #   \n",
      "=================================================================\n",
      "zero_padding2d (ZeroPadding2 (None, 198, 198, 3)       0         \n",
      "_________________________________________________________________\n",
      "inception_resnet_v2 (Functio (None, None, None, 1536)  54336736  \n",
      "_________________________________________________________________\n",
      "flatten (Flatten)            (None, 24576)             0         \n",
      "_________________________________________________________________\n",
      "dense (Dense)                (None, 128)               3145856   \n",
      "_________________________________________________________________\n",
      "dense_1 (Dense)              (None, 7)                 903       \n",
      "=================================================================\n",
      "Total params: 57,483,495\n",
      "Trainable params: 3,146,759\n",
      "Non-trainable params: 54,336,736\n",
      "_________________________________________________________________\n"
     ]
    }
   ],
   "source": [
    "model.add(conv_base)\n",
    "model.add(Flatten())\n",
    "model.add(Dense(128, activation ='relu'))\n",
    "model.add(Dense(7,activation='softmax'))\n",
    "\n",
    "model.summary()\n",
    "\n",
    "model.compile(optimizer='rmsprop',metrics = ['accuracy'],loss='categorical_crossentropy')"
   ]
  },
  {
   "cell_type": "code",
   "execution_count": null,
   "metadata": {
    "colab": {
     "background_save": true,
     "base_uri": "https://localhost:8080/"
    },
    "id": "R9k1fEAUpwhZ",
    "outputId": "c6ed7ec9-9fa9-4df1-d544-1cb0d4122100"
   },
   "outputs": [
    {
     "name": "stdout",
     "output_type": "stream",
     "text": [
      "Epoch 1/7\n",
      "90/90 [==============================] - 4677s 52s/step - loss: 21.5951 - accuracy: 0.2052 - val_loss: 5.1444 - val_accuracy: 0.1536\n",
      "Epoch 2/7\n",
      "90/90 [==============================] - 4683s 52s/step - loss: 4.8435 - accuracy: 0.2483 - val_loss: 3.9805 - val_accuracy: 0.3614\n",
      "Epoch 3/7\n",
      "90/90 [==============================] - 4667s 52s/step - loss: 3.5311 - accuracy: 0.2701 - val_loss: 1.7973 - val_accuracy: 0.4006\n",
      "Epoch 4/7\n",
      "90/90 [==============================] - 4668s 52s/step - loss: 3.0744 - accuracy: 0.2958 - val_loss: 3.4208 - val_accuracy: 0.2335\n",
      "Epoch 5/7\n",
      "90/90 [==============================] - 4671s 52s/step - loss: 2.9180 - accuracy: 0.3000 - val_loss: 3.0120 - val_accuracy: 0.3447\n",
      "Epoch 6/7\n",
      "90/90 [==============================] - 4689s 52s/step - loss: 2.5847 - accuracy: 0.3253 - val_loss: 2.2157 - val_accuracy: 0.3497\n",
      "Epoch 7/7\n",
      "90/90 [==============================] - 4693s 52s/step - loss: 2.0756 - accuracy: 0.3285 - val_loss: 1.6492 - val_accuracy: 0.3748\n"
     ]
    }
   ],
   "source": [
    "history = model.fit(x_train_rgb,y_train, validation_data = (x_val_rgb,y_val), epochs = 7, batch_size = 256)"
   ]
  },
  {
   "cell_type": "code",
   "execution_count": null,
   "metadata": {
    "id": "raGO5VKIjNvy"
   },
   "outputs": [],
   "source": [
    "def emotion_count(y_train, classes):\n",
    "    \"\"\"\n",
    "    The function re-classify picture with disgust label into angry label\n",
    "    \"\"\"\n",
    "    emo_classcount = {}\n",
    "    print ('Disgust classified as Angry')\n",
    "    y_train.loc[y_train == 1] = 0\n",
    "    classes.remove('Disgust')\n",
    "    for new_num, _class in enumerate(classes):\n",
    "        y_train.loc[(y_train == emotion[_class])] = new_num\n",
    "        class_count = sum(y_train == (new_num))\n",
    "        emo_classcount[_class] = (new_num, class_count)\n",
    "    return y_train.values, emo_classcount\n",
    "\n",
    "def load_data(sample_split=0.3, usage='Training',classes=['Angry',\"Happy\"], filepath='/content/drive/MyDrive/face_data.csv'):\n",
    "    \"\"\"\n",
    "    The function load provided CSV dataset and further reshape, rescale the data for feeding\n",
    "    \"\"\"\n",
    "    df = pd.read_csv(filepath)\n",
    "    df = df[df[' Usage'] == usage]\n",
    "    frames = []\n",
    "    classes.append('Disgust')\n",
    "    for _class in classes:\n",
    "        class_df = df[df['emotion'] == emotion[_class]]\n",
    "        frames.append(class_df)\n",
    "    data = pd.concat(frames, axis=0)\n",
    "    rows = random.sample(list(data.index), int(len(data)*sample_split))\n",
    "    data = data.loc[rows]\n",
    "    x = list(data[\" pixels\"])\n",
    "    X = []\n",
    "    for i in range(len(x)):\n",
    "        each_pixel = [int(num) for num in x[i].split()]\n",
    "        X.append(each_pixel)\n",
    "    ## reshape into 48*48*1 and rescale\n",
    "    X = np.array(X)\n",
    "    X = X.reshape(X.shape[0], 48, 48,1)\n",
    "    X = X.astype(\"float32\")\n",
    "    X /= 255\n",
    "    \n",
    "    y_train, new_dict = emotion_count(data.emotion, classes)\n",
    "    y_train = to_categorical(y_train)\n",
    "    return X, y_train"
   ]
  },
  {
   "cell_type": "code",
   "execution_count": null,
   "metadata": {
    "colab": {
     "base_uri": "https://localhost:8080/"
    },
    "executionInfo": {
     "elapsed": 43740,
     "status": "ok",
     "timestamp": 1608650241904,
     "user": {
      "displayName": "Khalil El hlou",
      "photoUrl": "",
      "userId": "14483746033637310854"
     },
     "user_tz": -60
    },
    "id": "iPE_MJ42jNR6",
    "outputId": "8f07fde7-2549-4836-a660-7c20274ada08"
   },
   "outputs": [
    {
     "name": "stdout",
     "output_type": "stream",
     "text": [
      "Disgust classified as Angry\n",
      "Disgust classified as Angry\n",
      "Disgust classified as Angry\n"
     ]
    }
   ],
   "source": [
    "## All three datasets are well loaded accordingly\n",
    "emotion = {'Angry': 0, 'Disgust': 1, 'Fear': 2, 'Happy': 3,\n",
    "           'Sad': 4, 'Surprise': 5, 'Neutral': 6}\n",
    "emo     = ['Angry', 'Fear', 'Happy',\n",
    "           'Sad', 'Surprise', 'Neutral']\n",
    "\n",
    "X_test, y_test = load_data(sample_split=1.0,classes=emo,usage='PrivateTest')\n",
    "\n",
    "X_train, y_train = load_data(sample_split=1.0,classes=emo,usage= 'Training')\n",
    "\n",
    "X_val,y_val = load_data(sample_split=1.0,classes=emo,usage= 'PublicTest')"
   ]
  },
  {
   "cell_type": "code",
   "execution_count": null,
   "metadata": {
    "colab": {
     "base_uri": "https://localhost:8080/"
    },
    "executionInfo": {
     "elapsed": 705,
     "status": "ok",
     "timestamp": 1608650246498,
     "user": {
      "displayName": "Khalil El hlou",
      "photoUrl": "",
      "userId": "14483746033637310854"
     },
     "user_tz": -60
    },
    "id": "TQeoeX2zkuZm",
    "outputId": "a83ef628-9a3e-4bde-92f0-18c2887f53ea"
   },
   "outputs": [
    {
     "name": "stdout",
     "output_type": "stream",
     "text": [
      "(28709, 48, 48, 1)\n",
      "(28709, 6)\n",
      "(3589, 48, 48, 1)\n",
      "(3589, 6)\n",
      "(3589, 48, 48, 1)\n",
      "(3589, 6)\n"
     ]
    }
   ],
   "source": [
    "print(X_train.shape)\n",
    "print(y_train.shape)\n",
    "print(X_test.shape)\n",
    "print(y_test.shape)\n",
    "print(X_val.shape)\n",
    "print(y_val.shape)"
   ]
  },
  {
   "cell_type": "code",
   "execution_count": null,
   "metadata": {
    "colab": {
     "base_uri": "https://localhost:8080/"
    },
    "executionInfo": {
     "elapsed": 689,
     "status": "ok",
     "timestamp": 1608650249151,
     "user": {
      "displayName": "Khalil El hlou",
      "photoUrl": "",
      "userId": "14483746033637310854"
     },
     "user_tz": -60
    },
    "id": "L3nSwNjmsLME",
    "outputId": "74461f0e-b0a0-47bc-b10f-3753d84c3c01"
   },
   "outputs": [
    {
     "name": "stdout",
     "output_type": "stream",
     "text": [
      "Private test set\n",
      "<zip object at 0x7f09c88badc8>\n"
     ]
    }
   ],
   "source": [
    "def save_data(X_test, y_test, fname=''):\n",
    "    \"\"\"\n",
    "    The function stores loaded data into numpy form for further processing\n",
    "    \"\"\"\n",
    "    np.save( 'X_test' + fname, X_test)\n",
    "    np.save( 'y_test' + fname, y_test)\n",
    "save_data(X_test, y_test,\"_privatetest6_100pct\")\n",
    "X_fname = 'X_test_privatetest6_100pct.npy'\n",
    "y_fname = 'y_test_privatetest6_100pct.npy'\n",
    "X = np.load(X_fname)\n",
    "y = np.load(y_fname)\n",
    "print ('Private test set')\n",
    "y_labels = [np.argmax(lst) for lst in y]\n",
    "counts = np.bincount(y_labels)\n",
    "labels = ['angry', 'fear', 'happy', 'sad', 'surprise', 'neutral']\n",
    "print (zip(labels, counts))"
   ]
  },
  {
   "cell_type": "code",
   "execution_count": null,
   "metadata": {
    "id": "3Hw_cg56wQUw"
   },
   "outputs": [],
   "source": [
    "y_train = y_train \n",
    "y_public = y_val \n",
    "y_private = y_test \n",
    "y_train_labels  = [np.argmax(lst) for lst in y_train]\n",
    "y_public_labels = [np.argmax(lst) for lst in y_public]\n",
    "y_private_labels = [np.argmax(lst) for lst in y_private]"
   ]
  },
  {
   "cell_type": "code",
   "execution_count": null,
   "metadata": {
    "colab": {
     "base_uri": "https://localhost:8080/"
    },
    "executionInfo": {
     "elapsed": 3904201,
     "status": "ok",
     "timestamp": 1608654304384,
     "user": {
      "displayName": "Khalil El hlou",
      "photoUrl": "",
      "userId": "14483746033637310854"
     },
     "user_tz": -60
    },
    "id": "Dq3z1ppQw3fi",
    "outputId": "59071cd3-b0bd-4a9a-a7b6-bda6f4718667"
   },
   "outputs": [
    {
     "name": "stdout",
     "output_type": "stream",
     "text": [
      "Training....\n",
      "Epoch 1/7\n",
      "225/225 [==============================] - 559s 2s/step - loss: 1.7677 - accuracy: 0.2510 - val_loss: 1.7218 - val_accuracy: 0.2669\n",
      "Epoch 2/7\n",
      "225/225 [==============================] - 557s 2s/step - loss: 1.6341 - accuracy: 0.3208 - val_loss: 1.4185 - val_accuracy: 0.4411\n",
      "Epoch 3/7\n",
      "225/225 [==============================] - 557s 2s/step - loss: 1.4034 - accuracy: 0.4387 - val_loss: 1.3071 - val_accuracy: 0.4943\n",
      "Epoch 4/7\n",
      "225/225 [==============================] - 557s 2s/step - loss: 1.2603 - accuracy: 0.5056 - val_loss: 1.2141 - val_accuracy: 0.5261\n",
      "Epoch 5/7\n",
      "225/225 [==============================] - 557s 2s/step - loss: 1.1512 - accuracy: 0.5525 - val_loss: 1.1886 - val_accuracy: 0.5352\n",
      "Epoch 6/7\n",
      "225/225 [==============================] - 558s 2s/step - loss: 1.0715 - accuracy: 0.5860 - val_loss: 1.1528 - val_accuracy: 0.5667\n",
      "Epoch 7/7\n",
      "225/225 [==============================] - 559s 2s/step - loss: 0.9773 - accuracy: 0.6289 - val_loss: 1.1661 - val_accuracy: 0.5614\n"
     ]
    }
   ],
   "source": [
    "# Final Model Architecture:\n",
    "from keras import layers\n",
    "from keras import models\n",
    "from keras import optimizers\n",
    "\n",
    "modelN = models.Sequential()\n",
    "modelN.add(layers.Conv2D(32, (3, 3), padding='same', activation='relu',\n",
    "                        input_shape=(48, 48, 1)))\n",
    "modelN.add(layers.Conv2D(32, (3, 3), padding='same', activation='relu'))\n",
    "modelN.add(layers.Conv2D(32, (3, 3), padding='same', activation='relu'))\n",
    "modelN.add(layers.MaxPooling2D(pool_size=(2, 2)))\n",
    "\n",
    "modelN.add(layers.Conv2D(64, (3, 3), padding='same', activation='relu'))\n",
    "modelN.add(layers.Conv2D(64, (3, 3), padding='same', activation='relu'))\n",
    "modelN.add(layers.Conv2D(64, (3, 3), padding='same', activation='relu'))\n",
    "modelN.add(layers.MaxPooling2D(pool_size=(2, 2)))\n",
    "\n",
    "modelN.add(layers.Conv2D(128, (3, 3), padding='same', activation='relu'))\n",
    "modelN.add(layers.Conv2D(128, (3, 3), padding='same', activation='relu'))\n",
    "modelN.add(layers.Conv2D(128, (3, 3), padding='same', activation='relu'))\n",
    "modelN.add(layers.MaxPooling2D(pool_size=(2, 2)))\n",
    "\n",
    "modelN.add(layers.Flatten())  # this converts our 3D feature maps to 1D feature vectors\n",
    "modelN.add(layers.Dense(64, activation='relu'))\n",
    "modelN.add(layers.Dense(64, activation='relu'))\n",
    "modelN.add(layers.Dense(6, activation='softmax'))\n",
    "\n",
    "# optimizer:\n",
    "modelN.compile(loss='categorical_crossentropy', optimizer='adam', metrics=['accuracy'])\n",
    "print ('Training....')\n",
    "\n",
    "\n",
    "#fit\n",
    "nb_epoch = 7\n",
    "batch_size = 128\n",
    "\n",
    "modelF = modelN.fit(X_train, y_train, epochs=nb_epoch, batch_size=batch_size,validation_data=(X_val, y_val), shuffle=True, verbose=1)"
   ]
  },
  {
   "cell_type": "code",
   "execution_count": null,
   "metadata": {
    "colab": {
     "base_uri": "https://localhost:8080/",
     "height": 562
    },
    "executionInfo": {
     "elapsed": 2624,
     "status": "ok",
     "timestamp": 1608654587511,
     "user": {
      "displayName": "Khalil El hlou",
      "photoUrl": "",
      "userId": "14483746033637310854"
     },
     "user_tz": -60
    },
    "id": "vAp1gQz_w-sP",
    "outputId": "b95e6f01-2a8f-4e56-edbf-b78cc57961fd"
   },
   "outputs": [
    {
     "name": "stdout",
     "output_type": "stream",
     "text": [
      "INFO:tensorflow:Assets written to: facial_1/assets\n"
     ]
    },
    {
     "data": {
      "image/png": "[encoded data removed]",
      "text/plain": [
       "<Figure size 432x288 with 1 Axes>"
      ]
     },
     "metadata": {
      "tags": []
     },
     "output_type": "display_data"
    },
    {
     "data": {
      "image/png": "[encoded data removed]",
      "text/plain": [
       "<Figure size 432x288 with 1 Axes>"
      ]
     },
     "metadata": {
      "tags": []
     },
     "output_type": "display_data"
    }
   ],
   "source": [
    "modelN.save('facial_1')\n",
    "\n",
    "acc = modelF.history['accuracy']\n",
    "val_acc = modelF.history['val_accuracy']\n",
    "loss = modelF.history['loss']\n",
    "val_loss = modelF.history['val_loss']\n",
    "\n",
    "epochs = range(len(acc))\n",
    "\n",
    "plt.plot(epochs, acc, 'bo', label='Training acc')\n",
    "plt.plot(epochs, val_acc, 'b', label='Validation acc')\n",
    "plt.title('Training and validation accuracy')\n",
    "plt.legend()\n",
    "\n",
    "plt.figure()\n",
    "\n",
    "plt.plot(epochs, loss, 'bo', label='Training loss')\n",
    "plt.plot(epochs, val_loss, 'b', label='Validation loss')\n",
    "plt.title('Training and validation loss')\n",
    "plt.legend()\n",
    "\n",
    "plt.show()"
   ]
  },
  {
   "cell_type": "code",
   "execution_count": null,
   "metadata": {
    "id": "CxtAjX9VQVOm"
   },
   "outputs": [],
   "source": [
    "train_csv = pd.read_csv('/content/drive/MyDrive/train.csv')\n",
    "test_csv = pd.read_csv('/content/drive/MyDrive/test.csv')\n",
    "split_df = pd.DataFrame([train_csv['pixels'][i].split() for i in range(train_csv.shape[0])])\n",
    "train_joined = train_csv.join(split_df)\n",
    "train_joined.drop('pixels',axis = 1,inplace = True)\n",
    "Y_train = train_joined['emotion']\n",
    "X_train = train_joined.iloc[:,1:2305]\n",
    "\n",
    "x_train_raw = X_train.to_numpy()\n",
    "y_train_raw = Y_train.to_numpy()\n",
    "\n",
    "x_train = x_train_raw.astype(np.float64)\n",
    "y_train = y_train_raw.astype(np.int)\n",
    "\n",
    "x_train/=255\n",
    "x_train,x_val, y_train,y_val = train_test_split(x_train,y_train,test_size = 0.2,stratify = y_train_raw)\n",
    "x_train = np.reshape(x_train,(x_train.shape[0],48,48,1))\n",
    "x_val = np.reshape(x_val,(x_val.shape[0],48,48,1))\n",
    "y_train = to_categorical(y_train)\n",
    "y_val = to_categorical(y_val)\n",
    "    "
   ]
  },
  {
   "cell_type": "code",
   "execution_count": null,
   "metadata": {
    "colab": {
     "base_uri": "https://localhost:8080/",
     "height": 766
    },
    "executionInfo": {
     "elapsed": 98393,
     "status": "ok",
     "timestamp": 1609240635662,
     "user": {
      "displayName": "Abdellah Madane",
      "photoUrl": "",
      "userId": "06482294700582109576"
     },
     "user_tz": -60
    },
    "id": "nueIDKS_V7OX",
    "outputId": "6715143d-c7e0-4ba7-c3aa-5f14fd0a5415"
   },
   "outputs": [
    {
     "data": {
      "image/png": "[encoded data removed]",
      "text/plain": [
       "<Figure size 432x288 with 1 Axes>"
      ]
     },
     "metadata": {
      "needs_background": "light",
      "tags": []
     },
     "output_type": "display_data"
    },
    {
     "data": {
      "image/png": "[encoded data removed]",
      "text/plain": [
       "<Figure size 432x288 with 1 Axes>"
      ]
     },
     "metadata": {
      "needs_background": "light",
      "tags": []
     },
     "output_type": "display_data"
    },
    {
     "data": {
      "image/png": "[encoded data removed]",
      "text/plain": [
       "<Figure size 432x288 with 1 Axes>"
      ]
     },
     "metadata": {
      "needs_background": "light",
      "tags": []
     },
     "output_type": "display_data"
    }
   ],
   "source": [
    "x_train_3c = x_train[:,:,:,:,np.newaxis]\n",
    "x_train_3c.shape\n",
    "x_train_rgb = np.repeat(x_train, 3, -1)\n",
    "\n",
    "plt.imshow(x_train_rgb[0,:,:,0].reshape(48,48))\n",
    "plt.show()\n",
    "plt.imshow(x_train_rgb[0,:,:,1].reshape(48,48))\n",
    "plt.show()\n",
    "plt.imshow(x_train_rgb[0,:,:,2].reshape(48,48))\n",
    "plt.show()\n",
    "\n",
    "x_val_rgb = np.repeat(x_val,3,-1)"
   ]
  },
  {
   "cell_type": "code",
   "execution_count": null,
   "metadata": {
    "id": "6Lhknsegcmd6"
   },
   "outputs": [],
   "source": [
    "from keras.applications.vgg16 import VGG16\n",
    "from keras import optimizers\n",
    "from keras.models import Model\n",
    "from sklearn import preprocessing"
   ]
  },
  {
   "cell_type": "code",
   "execution_count": null,
   "metadata": {
    "id": "TSdue5gmb3yp"
   },
   "outputs": [],
   "source": [
    "VGG16 = VGG16(weights=\"imagenet\", include_top=False)\n",
    "VGG16.trainable = False"
   ]
  },
  {
   "cell_type": "code",
   "execution_count": null,
   "metadata": {
    "colab": {
     "base_uri": "https://localhost:8080/"
    },
    "executionInfo": {
     "elapsed": 94019,
     "status": "ok",
     "timestamp": 1609240637170,
     "user": {
      "displayName": "Abdellah Madane",
      "photoUrl": "",
      "userId": "06482294700582109576"
     },
     "user_tz": -60
    },
    "id": "YSTYDsEAZo2S",
    "outputId": "b85a842e-95e8-4689-97c7-312082fb741a"
   },
   "outputs": [
    {
     "name": "stdout",
     "output_type": "stream",
     "text": [
      "Model: \"sequential\"\n",
      "_________________________________________________________________\n",
      "Layer (type)                 Output Shape              Param #   \n",
      "=================================================================\n",
      "zero_padding2d (ZeroPadding2 (None, 198, 198, 3)       0         \n",
      "_________________________________________________________________\n",
      "vgg16 (Functional)           (None, None, None, 512)   14714688  \n",
      "_________________________________________________________________\n",
      "flatten (Flatten)            (None, 18432)             0         \n",
      "_________________________________________________________________\n",
      "dense (Dense)                (None, 128)               2359424   \n",
      "_________________________________________________________________\n",
      "dense_1 (Dense)              (None, 7)                 903       \n",
      "=================================================================\n",
      "Total params: 17,075,015\n",
      "Trainable params: 2,360,327\n",
      "Non-trainable params: 14,714,688\n",
      "_________________________________________________________________\n"
     ]
    }
   ],
   "source": [
    "model = keras.Sequential()\n",
    "model.add(keras.layers.ZeroPadding2D((75,75), input_shape = (48,48,3)))\n",
    "model.add(VGG16)\n",
    "model.add(Flatten())\n",
    "model.add(Dense(128, activation ='relu'))\n",
    "model.add(Dense(7,activation='softmax'))\n",
    "\n",
    "model.summary()\n",
    "\n",
    "model.compile(optimizer='rmsprop',metrics = ['accuracy'],loss='categorical_crossentropy')"
   ]
  },
  {
   "cell_type": "code",
   "execution_count": null,
   "metadata": {
    "execution": {
     "iopub.execute_input": "2020-12-29T13:29:13.889963Z",
     "iopub.status.busy": "2020-12-29T13:29:13.889161Z",
     "iopub.status.idle": "2020-12-29T13:57:32.022706Z",
     "shell.execute_reply": "2020-12-29T13:57:32.023212Z"
    },
    "id": "8A9VtPuyk5su",
    "outputId": "1ee1fa1e-d625-4eb8-b859-f54f1fa6f3b8",
    "papermill": {
     "duration": 1698.665422,
     "end_time": "2020-12-29T13:57:32.023395",
     "exception": false,
     "start_time": "2020-12-29T13:29:13.357973",
     "status": "completed"
    },
    "tags": []
   },
   "outputs": [
    {
     "name": "stdout",
     "output_type": "stream",
     "text": [
      "Epoch 1/40\n",
      "90/90 [==============================] - 46s 514ms/step - loss: 2.4500 - accuracy: 0.2297 - val_loss: 1.8441 - val_accuracy: 0.2870\n",
      "Epoch 2/40\n",
      "90/90 [==============================] - 42s 464ms/step - loss: 1.8940 - accuracy: 0.2727 - val_loss: 1.6642 - val_accuracy: 0.3549\n",
      "Epoch 3/40\n",
      "90/90 [==============================] - 42s 464ms/step - loss: 1.7772 - accuracy: 0.3079 - val_loss: 1.8888 - val_accuracy: 0.3177\n",
      "Epoch 4/40\n",
      "90/90 [==============================] - 42s 465ms/step - loss: 1.7089 - accuracy: 0.3293 - val_loss: 1.6214 - val_accuracy: 0.3582\n",
      "Epoch 5/40\n",
      "90/90 [==============================] - 42s 464ms/step - loss: 1.6624 - accuracy: 0.3446 - val_loss: 1.6158 - val_accuracy: 0.3704\n",
      "Epoch 6/40\n",
      "90/90 [==============================] - 42s 465ms/step - loss: 1.6379 - accuracy: 0.3563 - val_loss: 1.6327 - val_accuracy: 0.3555\n",
      "Epoch 7/40\n",
      "90/90 [==============================] - 42s 464ms/step - loss: 1.6148 - accuracy: 0.3633 - val_loss: 1.7273 - val_accuracy: 0.3269\n",
      "Epoch 8/40\n",
      "90/90 [==============================] - 42s 463ms/step - loss: 1.6043 - accuracy: 0.3741 - val_loss: 1.6243 - val_accuracy: 0.3739\n",
      "Epoch 9/40\n",
      "90/90 [==============================] - 42s 464ms/step - loss: 1.5914 - accuracy: 0.3768 - val_loss: 1.6378 - val_accuracy: 0.3622\n",
      "Epoch 10/40\n",
      "90/90 [==============================] - 42s 464ms/step - loss: 1.5841 - accuracy: 0.3791 - val_loss: 1.6237 - val_accuracy: 0.3959\n",
      "Epoch 11/40\n",
      "90/90 [==============================] - 42s 464ms/step - loss: 1.5744 - accuracy: 0.3868 - val_loss: 1.5810 - val_accuracy: 0.3974\n",
      "Epoch 12/40\n",
      "90/90 [==============================] - 42s 464ms/step - loss: 1.5637 - accuracy: 0.3942 - val_loss: 1.5573 - val_accuracy: 0.4094\n",
      "Epoch 13/40\n",
      "90/90 [==============================] - 42s 464ms/step - loss: 1.5569 - accuracy: 0.3984 - val_loss: 1.5773 - val_accuracy: 0.3842\n",
      "Epoch 14/40\n",
      "90/90 [==============================] - 42s 464ms/step - loss: 1.5460 - accuracy: 0.4010 - val_loss: 1.5257 - val_accuracy: 0.4094\n",
      "Epoch 15/40\n",
      "90/90 [==============================] - 42s 464ms/step - loss: 1.5336 - accuracy: 0.4052 - val_loss: 1.5539 - val_accuracy: 0.3927\n",
      "Epoch 16/40\n",
      "90/90 [==============================] - 42s 464ms/step - loss: 1.5329 - accuracy: 0.4062 - val_loss: 1.5622 - val_accuracy: 0.3986\n",
      "Epoch 17/40\n",
      "90/90 [==============================] - 42s 464ms/step - loss: 1.5278 - accuracy: 0.4101 - val_loss: 1.5581 - val_accuracy: 0.3978\n",
      "Epoch 18/40\n",
      "90/90 [==============================] - 42s 464ms/step - loss: 1.5173 - accuracy: 0.4163 - val_loss: 1.5849 - val_accuracy: 0.3708\n",
      "Epoch 19/40\n",
      "90/90 [==============================] - 42s 464ms/step - loss: 1.5158 - accuracy: 0.4153 - val_loss: 1.5012 - val_accuracy: 0.4235\n",
      "Epoch 20/40\n",
      "90/90 [==============================] - 42s 465ms/step - loss: 1.5102 - accuracy: 0.4174 - val_loss: 1.4821 - val_accuracy: 0.4383\n",
      "Epoch 21/40\n",
      "90/90 [==============================] - 42s 464ms/step - loss: 1.5057 - accuracy: 0.4197 - val_loss: 1.5513 - val_accuracy: 0.3950\n",
      "Epoch 22/40\n",
      "90/90 [==============================] - 42s 464ms/step - loss: 1.4974 - accuracy: 0.4254 - val_loss: 1.5191 - val_accuracy: 0.4110\n",
      "Epoch 23/40\n",
      "90/90 [==============================] - 42s 464ms/step - loss: 1.4981 - accuracy: 0.4226 - val_loss: 1.5086 - val_accuracy: 0.4199\n",
      "Epoch 24/40\n",
      "90/90 [==============================] - 42s 465ms/step - loss: 1.4879 - accuracy: 0.4273 - val_loss: 1.5159 - val_accuracy: 0.4256\n",
      "Epoch 25/40\n",
      "90/90 [==============================] - 42s 464ms/step - loss: 1.4798 - accuracy: 0.4280 - val_loss: 1.6310 - val_accuracy: 0.3722\n",
      "Epoch 26/40\n",
      "90/90 [==============================] - 42s 464ms/step - loss: 1.4863 - accuracy: 0.4297 - val_loss: 1.5384 - val_accuracy: 0.4006\n",
      "Epoch 27/40\n",
      "90/90 [==============================] - 42s 464ms/step - loss: 1.4734 - accuracy: 0.4341 - val_loss: 1.5134 - val_accuracy: 0.4230\n",
      "Epoch 28/40\n",
      "90/90 [==============================] - 42s 464ms/step - loss: 1.4728 - accuracy: 0.4334 - val_loss: 1.4780 - val_accuracy: 0.4335\n",
      "Epoch 29/40\n",
      "90/90 [==============================] - 42s 463ms/step - loss: 1.4659 - accuracy: 0.4398 - val_loss: 1.6057 - val_accuracy: 0.4251\n",
      "Epoch 30/40\n",
      "90/90 [==============================] - 42s 464ms/step - loss: 1.4613 - accuracy: 0.4395 - val_loss: 1.6051 - val_accuracy: 0.3816\n",
      "Epoch 31/40\n",
      "90/90 [==============================] - 42s 464ms/step - loss: 1.4617 - accuracy: 0.4412 - val_loss: 1.4941 - val_accuracy: 0.4281\n",
      "Epoch 32/40\n",
      "90/90 [==============================] - 42s 463ms/step - loss: 1.4576 - accuracy: 0.4427 - val_loss: 1.5088 - val_accuracy: 0.4216\n",
      "Epoch 33/40\n",
      "90/90 [==============================] - 42s 464ms/step - loss: 1.4553 - accuracy: 0.4399 - val_loss: 1.5016 - val_accuracy: 0.4342\n",
      "Epoch 34/40\n",
      "90/90 [==============================] - 42s 464ms/step - loss: 1.4470 - accuracy: 0.4451 - val_loss: 1.4693 - val_accuracy: 0.4368\n",
      "Epoch 35/40\n",
      "90/90 [==============================] - 42s 464ms/step - loss: 1.4450 - accuracy: 0.4481 - val_loss: 1.5202 - val_accuracy: 0.4152\n",
      "Epoch 36/40\n",
      "90/90 [==============================] - 42s 465ms/step - loss: 1.4435 - accuracy: 0.4496 - val_loss: 1.4892 - val_accuracy: 0.4371\n",
      "Epoch 37/40\n",
      "90/90 [==============================] - 42s 464ms/step - loss: 1.4384 - accuracy: 0.4468 - val_loss: 1.4788 - val_accuracy: 0.4340\n",
      "Epoch 38/40\n",
      "90/90 [==============================] - 42s 463ms/step - loss: 1.4357 - accuracy: 0.4463 - val_loss: 1.5520 - val_accuracy: 0.4108\n",
      "Epoch 39/40\n",
      "90/90 [==============================] - 42s 463ms/step - loss: 1.4340 - accuracy: 0.4474 - val_loss: 1.5199 - val_accuracy: 0.4279\n",
      "Epoch 40/40\n",
      "90/90 [==============================] - 42s 464ms/step - loss: 1.4286 - accuracy: 0.4558 - val_loss: 1.5577 - val_accuracy: 0.3903\n"
     ]
    }
   ],
   "source": [
    "history = model.fit(x_train_rgb,y_train, validation_data = (x_val_rgb,y_val), epochs = 40, batch_size = 256)"
   ]
  },
  {
   "cell_type": "markdown",
   "metadata": {
    "id": "Y2yUOfktUj1d"
   },
   "source": [
    "PARTIE2"
   ]
  },
  {
   "cell_type": "code",
   "execution_count": null,
   "metadata": {
    "colab": {
     "base_uri": "https://localhost:8080/",
     "height": 352
    },
    "executionInfo": {
     "elapsed": 3005,
     "status": "error",
     "timestamp": 1609843170099,
     "user": {
      "displayName": "Abdellah Madane",
      "photoUrl": "",
      "userId": "06482294700582109576"
     },
     "user_tz": -60
    },
    "id": "RqwOEnAAcUl7",
    "outputId": "a1ba9f1e-41b0-4222-d733-f0c4d746fc87"
   },
   "outputs": [
    {
     "ename": "KeyboardInterrupt",
     "evalue": "ignored",
     "output_type": "error",
     "traceback": [
      "\u001b[0;31m---------------------------------------------------------------------------\u001b[0m",
      "\u001b[0;31mKeyboardInterrupt\u001b[0m                         Traceback (most recent call last)",
      "\u001b[0;32m<ipython-input-8-42131c55d562>\u001b[0m in \u001b[0;36m<module>\u001b[0;34m()\u001b[0m\n\u001b[1;32m      1\u001b[0m \u001b[0;32mimport\u001b[0m \u001b[0mtarfile\u001b[0m\u001b[0;34m\u001b[0m\u001b[0;34m\u001b[0m\u001b[0m\n\u001b[1;32m      2\u001b[0m \u001b[0mtf\u001b[0m \u001b[0;34m=\u001b[0m \u001b[0mtarfile\u001b[0m\u001b[0;34m.\u001b[0m\u001b[0mopen\u001b[0m\u001b[0;34m(\u001b[0m\u001b[0;34m\"/content/drive/MyDrive/fer2013 (1).tar.gz\"\u001b[0m\u001b[0;34m)\u001b[0m\u001b[0;34m\u001b[0m\u001b[0;34m\u001b[0m\u001b[0m\n\u001b[0;32m----> 3\u001b[0;31m \u001b[0mtf\u001b[0m\u001b[0;34m.\u001b[0m\u001b[0mextractall\u001b[0m\u001b[0;34m(\u001b[0m\u001b[0;34m)\u001b[0m\u001b[0;34m\u001b[0m\u001b[0;34m\u001b[0m\u001b[0m\n\u001b[0m",
      "\u001b[0;32m/usr/lib/python3.6/tarfile.py\u001b[0m in \u001b[0;36mextractall\u001b[0;34m(self, path, members, numeric_owner)\u001b[0m\n\u001b[1;32m   2010\u001b[0m             \u001b[0;31m# Do not set_attrs directories, as we will do that further down\u001b[0m\u001b[0;34m\u001b[0m\u001b[0;34m\u001b[0m\u001b[0;34m\u001b[0m\u001b[0m\n\u001b[1;32m   2011\u001b[0m             self.extract(tarinfo, path, set_attrs=not tarinfo.isdir(),\n\u001b[0;32m-> 2012\u001b[0;31m                          numeric_owner=numeric_owner)\n\u001b[0m\u001b[1;32m   2013\u001b[0m \u001b[0;34m\u001b[0m\u001b[0m\n\u001b[1;32m   2014\u001b[0m         \u001b[0;31m# Reverse sort directories.\u001b[0m\u001b[0;34m\u001b[0m\u001b[0;34m\u001b[0m\u001b[0;34m\u001b[0m\u001b[0m\n",
      "\u001b[0;32m/usr/lib/python3.6/tarfile.py\u001b[0m in \u001b[0;36mextract\u001b[0;34m(self, member, path, set_attrs, numeric_owner)\u001b[0m\n\u001b[1;32m   2052\u001b[0m             self._extract_member(tarinfo, os.path.join(path, tarinfo.name),\n\u001b[1;32m   2053\u001b[0m                                  \u001b[0mset_attrs\u001b[0m\u001b[0;34m=\u001b[0m\u001b[0mset_attrs\u001b[0m\u001b[0;34m,\u001b[0m\u001b[0;34m\u001b[0m\u001b[0;34m\u001b[0m\u001b[0m\n\u001b[0;32m-> 2054\u001b[0;31m                                  numeric_owner=numeric_owner)\n\u001b[0m\u001b[1;32m   2055\u001b[0m         \u001b[0;32mexcept\u001b[0m \u001b[0mOSError\u001b[0m \u001b[0;32mas\u001b[0m \u001b[0me\u001b[0m\u001b[0;34m:\u001b[0m\u001b[0;34m\u001b[0m\u001b[0;34m\u001b[0m\u001b[0m\n\u001b[1;32m   2056\u001b[0m             \u001b[0;32mif\u001b[0m \u001b[0mself\u001b[0m\u001b[0;34m.\u001b[0m\u001b[0merrorlevel\u001b[0m \u001b[0;34m>\u001b[0m \u001b[0;36m0\u001b[0m\u001b[0;34m:\u001b[0m\u001b[0;34m\u001b[0m\u001b[0;34m\u001b[0m\u001b[0m\n",
      "\u001b[0;32m/usr/lib/python3.6/tarfile.py\u001b[0m in \u001b[0;36m_extract_member\u001b[0;34m(self, tarinfo, targetpath, set_attrs, numeric_owner)\u001b[0m\n\u001b[1;32m   2122\u001b[0m \u001b[0;34m\u001b[0m\u001b[0m\n\u001b[1;32m   2123\u001b[0m         \u001b[0;32mif\u001b[0m \u001b[0mtarinfo\u001b[0m\u001b[0;34m.\u001b[0m\u001b[0misreg\u001b[0m\u001b[0;34m(\u001b[0m\u001b[0;34m)\u001b[0m\u001b[0;34m:\u001b[0m\u001b[0;34m\u001b[0m\u001b[0;34m\u001b[0m\u001b[0m\n\u001b[0;32m-> 2124\u001b[0;31m             \u001b[0mself\u001b[0m\u001b[0;34m.\u001b[0m\u001b[0mmakefile\u001b[0m\u001b[0;34m(\u001b[0m\u001b[0mtarinfo\u001b[0m\u001b[0;34m,\u001b[0m \u001b[0mtargetpath\u001b[0m\u001b[0;34m)\u001b[0m\u001b[0;34m\u001b[0m\u001b[0;34m\u001b[0m\u001b[0m\n\u001b[0m\u001b[1;32m   2125\u001b[0m         \u001b[0;32melif\u001b[0m \u001b[0mtarinfo\u001b[0m\u001b[0;34m.\u001b[0m\u001b[0misdir\u001b[0m\u001b[0;34m(\u001b[0m\u001b[0;34m)\u001b[0m\u001b[0;34m:\u001b[0m\u001b[0;34m\u001b[0m\u001b[0;34m\u001b[0m\u001b[0m\n\u001b[1;32m   2126\u001b[0m             \u001b[0mself\u001b[0m\u001b[0;34m.\u001b[0m\u001b[0mmakedir\u001b[0m\u001b[0;34m(\u001b[0m\u001b[0mtarinfo\u001b[0m\u001b[0;34m,\u001b[0m \u001b[0mtargetpath\u001b[0m\u001b[0;34m)\u001b[0m\u001b[0;34m\u001b[0m\u001b[0;34m\u001b[0m\u001b[0m\n",
      "\u001b[0;32m/usr/lib/python3.6/tarfile.py\u001b[0m in \u001b[0;36mmakefile\u001b[0;34m(self, tarinfo, targetpath)\u001b[0m\n\u001b[1;32m   2171\u001b[0m                 \u001b[0mtarget\u001b[0m\u001b[0;34m.\u001b[0m\u001b[0mtruncate\u001b[0m\u001b[0;34m(\u001b[0m\u001b[0;34m)\u001b[0m\u001b[0;34m\u001b[0m\u001b[0;34m\u001b[0m\u001b[0m\n\u001b[1;32m   2172\u001b[0m             \u001b[0;32melse\u001b[0m\u001b[0;34m:\u001b[0m\u001b[0;34m\u001b[0m\u001b[0;34m\u001b[0m\u001b[0m\n\u001b[0;32m-> 2173\u001b[0;31m                 \u001b[0mcopyfileobj\u001b[0m\u001b[0;34m(\u001b[0m\u001b[0msource\u001b[0m\u001b[0;34m,\u001b[0m \u001b[0mtarget\u001b[0m\u001b[0;34m,\u001b[0m \u001b[0mtarinfo\u001b[0m\u001b[0;34m.\u001b[0m\u001b[0msize\u001b[0m\u001b[0;34m,\u001b[0m \u001b[0mReadError\u001b[0m\u001b[0;34m,\u001b[0m \u001b[0mbufsize\u001b[0m\u001b[0;34m)\u001b[0m\u001b[0;34m\u001b[0m\u001b[0;34m\u001b[0m\u001b[0m\n\u001b[0m\u001b[1;32m   2174\u001b[0m \u001b[0;34m\u001b[0m\u001b[0m\n\u001b[1;32m   2175\u001b[0m     \u001b[0;32mdef\u001b[0m \u001b[0mmakeunknown\u001b[0m\u001b[0;34m(\u001b[0m\u001b[0mself\u001b[0m\u001b[0;34m,\u001b[0m \u001b[0mtarinfo\u001b[0m\u001b[0;34m,\u001b[0m \u001b[0mtargetpath\u001b[0m\u001b[0;34m)\u001b[0m\u001b[0;34m:\u001b[0m\u001b[0;34m\u001b[0m\u001b[0;34m\u001b[0m\u001b[0m\n",
      "\u001b[0;32m/usr/lib/python3.6/tarfile.py\u001b[0m in \u001b[0;36mcopyfileobj\u001b[0;34m(src, dst, length, exception, bufsize)\u001b[0m\n\u001b[1;32m    247\u001b[0m     \u001b[0mblocks\u001b[0m\u001b[0;34m,\u001b[0m \u001b[0mremainder\u001b[0m \u001b[0;34m=\u001b[0m \u001b[0mdivmod\u001b[0m\u001b[0;34m(\u001b[0m\u001b[0mlength\u001b[0m\u001b[0;34m,\u001b[0m \u001b[0mbufsize\u001b[0m\u001b[0;34m)\u001b[0m\u001b[0;34m\u001b[0m\u001b[0;34m\u001b[0m\u001b[0m\n\u001b[1;32m    248\u001b[0m     \u001b[0;32mfor\u001b[0m \u001b[0mb\u001b[0m \u001b[0;32min\u001b[0m \u001b[0mrange\u001b[0m\u001b[0;34m(\u001b[0m\u001b[0mblocks\u001b[0m\u001b[0;34m)\u001b[0m\u001b[0;34m:\u001b[0m\u001b[0;34m\u001b[0m\u001b[0;34m\u001b[0m\u001b[0m\n\u001b[0;32m--> 249\u001b[0;31m         \u001b[0mbuf\u001b[0m \u001b[0;34m=\u001b[0m \u001b[0msrc\u001b[0m\u001b[0;34m.\u001b[0m\u001b[0mread\u001b[0m\u001b[0;34m(\u001b[0m\u001b[0mbufsize\u001b[0m\u001b[0;34m)\u001b[0m\u001b[0;34m\u001b[0m\u001b[0;34m\u001b[0m\u001b[0m\n\u001b[0m\u001b[1;32m    250\u001b[0m         \u001b[0;32mif\u001b[0m \u001b[0mlen\u001b[0m\u001b[0;34m(\u001b[0m\u001b[0mbuf\u001b[0m\u001b[0;34m)\u001b[0m \u001b[0;34m<\u001b[0m \u001b[0mbufsize\u001b[0m\u001b[0;34m:\u001b[0m\u001b[0;34m\u001b[0m\u001b[0;34m\u001b[0m\u001b[0m\n\u001b[1;32m    251\u001b[0m             \u001b[0;32mraise\u001b[0m \u001b[0mexception\u001b[0m\u001b[0;34m(\u001b[0m\u001b[0;34m\"unexpected end of data\"\u001b[0m\u001b[0;34m)\u001b[0m\u001b[0;34m\u001b[0m\u001b[0;34m\u001b[0m\u001b[0m\n",
      "\u001b[0;32m/usr/lib/python3.6/gzip.py\u001b[0m in \u001b[0;36mread\u001b[0;34m(self, size)\u001b[0m\n\u001b[1;32m    274\u001b[0m             \u001b[0;32mimport\u001b[0m \u001b[0merrno\u001b[0m\u001b[0;34m\u001b[0m\u001b[0;34m\u001b[0m\u001b[0m\n\u001b[1;32m    275\u001b[0m             \u001b[0;32mraise\u001b[0m \u001b[0mOSError\u001b[0m\u001b[0;34m(\u001b[0m\u001b[0merrno\u001b[0m\u001b[0;34m.\u001b[0m\u001b[0mEBADF\u001b[0m\u001b[0;34m,\u001b[0m \u001b[0;34m\"read() on write-only GzipFile object\"\u001b[0m\u001b[0;34m)\u001b[0m\u001b[0;34m\u001b[0m\u001b[0;34m\u001b[0m\u001b[0m\n\u001b[0;32m--> 276\u001b[0;31m         \u001b[0;32mreturn\u001b[0m \u001b[0mself\u001b[0m\u001b[0;34m.\u001b[0m\u001b[0m_buffer\u001b[0m\u001b[0;34m.\u001b[0m\u001b[0mread\u001b[0m\u001b[0;34m(\u001b[0m\u001b[0msize\u001b[0m\u001b[0;34m)\u001b[0m\u001b[0;34m\u001b[0m\u001b[0;34m\u001b[0m\u001b[0m\n\u001b[0m\u001b[1;32m    277\u001b[0m \u001b[0;34m\u001b[0m\u001b[0m\n\u001b[1;32m    278\u001b[0m     \u001b[0;32mdef\u001b[0m \u001b[0mread1\u001b[0m\u001b[0;34m(\u001b[0m\u001b[0mself\u001b[0m\u001b[0;34m,\u001b[0m \u001b[0msize\u001b[0m\u001b[0;34m=\u001b[0m\u001b[0;34m-\u001b[0m\u001b[0;36m1\u001b[0m\u001b[0;34m)\u001b[0m\u001b[0;34m:\u001b[0m\u001b[0;34m\u001b[0m\u001b[0;34m\u001b[0m\u001b[0m\n",
      "\u001b[0;32m/usr/lib/python3.6/_compression.py\u001b[0m in \u001b[0;36mreadinto\u001b[0;34m(self, b)\u001b[0m\n\u001b[1;32m     66\u001b[0m     \u001b[0;32mdef\u001b[0m \u001b[0mreadinto\u001b[0m\u001b[0;34m(\u001b[0m\u001b[0mself\u001b[0m\u001b[0;34m,\u001b[0m \u001b[0mb\u001b[0m\u001b[0;34m)\u001b[0m\u001b[0;34m:\u001b[0m\u001b[0;34m\u001b[0m\u001b[0;34m\u001b[0m\u001b[0m\n\u001b[1;32m     67\u001b[0m         \u001b[0;32mwith\u001b[0m \u001b[0mmemoryview\u001b[0m\u001b[0;34m(\u001b[0m\u001b[0mb\u001b[0m\u001b[0;34m)\u001b[0m \u001b[0;32mas\u001b[0m \u001b[0mview\u001b[0m\u001b[0;34m,\u001b[0m \u001b[0mview\u001b[0m\u001b[0;34m.\u001b[0m\u001b[0mcast\u001b[0m\u001b[0;34m(\u001b[0m\u001b[0;34m\"B\"\u001b[0m\u001b[0;34m)\u001b[0m \u001b[0;32mas\u001b[0m \u001b[0mbyte_view\u001b[0m\u001b[0;34m:\u001b[0m\u001b[0;34m\u001b[0m\u001b[0;34m\u001b[0m\u001b[0m\n\u001b[0;32m---> 68\u001b[0;31m             \u001b[0mdata\u001b[0m \u001b[0;34m=\u001b[0m \u001b[0mself\u001b[0m\u001b[0;34m.\u001b[0m\u001b[0mread\u001b[0m\u001b[0;34m(\u001b[0m\u001b[0mlen\u001b[0m\u001b[0;34m(\u001b[0m\u001b[0mbyte_view\u001b[0m\u001b[0;34m)\u001b[0m\u001b[0;34m)\u001b[0m\u001b[0;34m\u001b[0m\u001b[0;34m\u001b[0m\u001b[0m\n\u001b[0m\u001b[1;32m     69\u001b[0m             \u001b[0mbyte_view\u001b[0m\u001b[0;34m[\u001b[0m\u001b[0;34m:\u001b[0m\u001b[0mlen\u001b[0m\u001b[0;34m(\u001b[0m\u001b[0mdata\u001b[0m\u001b[0;34m)\u001b[0m\u001b[0;34m]\u001b[0m \u001b[0;34m=\u001b[0m \u001b[0mdata\u001b[0m\u001b[0;34m\u001b[0m\u001b[0;34m\u001b[0m\u001b[0m\n\u001b[1;32m     70\u001b[0m         \u001b[0;32mreturn\u001b[0m \u001b[0mlen\u001b[0m\u001b[0;34m(\u001b[0m\u001b[0mdata\u001b[0m\u001b[0;34m)\u001b[0m\u001b[0;34m\u001b[0m\u001b[0;34m\u001b[0m\u001b[0m\n",
      "\u001b[0;32m/usr/lib/python3.6/gzip.py\u001b[0m in \u001b[0;36mread\u001b[0;34m(self, size)\u001b[0m\n\u001b[1;32m    467\u001b[0m \u001b[0;34m\u001b[0m\u001b[0m\n\u001b[1;32m    468\u001b[0m             \u001b[0;31m# Read a chunk of data from the file\u001b[0m\u001b[0;34m\u001b[0m\u001b[0;34m\u001b[0m\u001b[0;34m\u001b[0m\u001b[0m\n\u001b[0;32m--> 469\u001b[0;31m             \u001b[0mbuf\u001b[0m \u001b[0;34m=\u001b[0m \u001b[0mself\u001b[0m\u001b[0;34m.\u001b[0m\u001b[0m_fp\u001b[0m\u001b[0;34m.\u001b[0m\u001b[0mread\u001b[0m\u001b[0;34m(\u001b[0m\u001b[0mio\u001b[0m\u001b[0;34m.\u001b[0m\u001b[0mDEFAULT_BUFFER_SIZE\u001b[0m\u001b[0;34m)\u001b[0m\u001b[0;34m\u001b[0m\u001b[0;34m\u001b[0m\u001b[0m\n\u001b[0m\u001b[1;32m    470\u001b[0m \u001b[0;34m\u001b[0m\u001b[0m\n\u001b[1;32m    471\u001b[0m             \u001b[0muncompress\u001b[0m \u001b[0;34m=\u001b[0m \u001b[0mself\u001b[0m\u001b[0;34m.\u001b[0m\u001b[0m_decompressor\u001b[0m\u001b[0;34m.\u001b[0m\u001b[0mdecompress\u001b[0m\u001b[0;34m(\u001b[0m\u001b[0mbuf\u001b[0m\u001b[0;34m,\u001b[0m \u001b[0msize\u001b[0m\u001b[0;34m)\u001b[0m\u001b[0;34m\u001b[0m\u001b[0;34m\u001b[0m\u001b[0m\n",
      "\u001b[0;32m/usr/lib/python3.6/gzip.py\u001b[0m in \u001b[0;36mread\u001b[0;34m(self, size)\u001b[0m\n\u001b[1;32m     89\u001b[0m             \u001b[0mself\u001b[0m\u001b[0;34m.\u001b[0m\u001b[0m_read\u001b[0m \u001b[0;34m=\u001b[0m \u001b[0;32mNone\u001b[0m\u001b[0;34m\u001b[0m\u001b[0;34m\u001b[0m\u001b[0m\n\u001b[1;32m     90\u001b[0m             \u001b[0;32mreturn\u001b[0m \u001b[0mself\u001b[0m\u001b[0;34m.\u001b[0m\u001b[0m_buffer\u001b[0m\u001b[0;34m[\u001b[0m\u001b[0mread\u001b[0m\u001b[0;34m:\u001b[0m\u001b[0;34m]\u001b[0m \u001b[0;34m+\u001b[0m\u001b[0;31m \u001b[0m\u001b[0;31m\\\u001b[0m\u001b[0;34m\u001b[0m\u001b[0;34m\u001b[0m\u001b[0m\n\u001b[0;32m---> 91\u001b[0;31m                    \u001b[0mself\u001b[0m\u001b[0;34m.\u001b[0m\u001b[0mfile\u001b[0m\u001b[0;34m.\u001b[0m\u001b[0mread\u001b[0m\u001b[0;34m(\u001b[0m\u001b[0msize\u001b[0m\u001b[0;34m-\u001b[0m\u001b[0mself\u001b[0m\u001b[0;34m.\u001b[0m\u001b[0m_length\u001b[0m\u001b[0;34m+\u001b[0m\u001b[0mread\u001b[0m\u001b[0;34m)\u001b[0m\u001b[0;34m\u001b[0m\u001b[0;34m\u001b[0m\u001b[0m\n\u001b[0m\u001b[1;32m     92\u001b[0m \u001b[0;34m\u001b[0m\u001b[0m\n\u001b[1;32m     93\u001b[0m     \u001b[0;32mdef\u001b[0m \u001b[0mprepend\u001b[0m\u001b[0;34m(\u001b[0m\u001b[0mself\u001b[0m\u001b[0;34m,\u001b[0m \u001b[0mprepend\u001b[0m\u001b[0;34m=\u001b[0m\u001b[0;34mb''\u001b[0m\u001b[0;34m)\u001b[0m\u001b[0;34m:\u001b[0m\u001b[0;34m\u001b[0m\u001b[0;34m\u001b[0m\u001b[0m\n",
      "\u001b[0;31mKeyboardInterrupt\u001b[0m: "
     ]
    }
   ],
   "source": [
    "import tarfile\n",
    "tf = tarfile.open(\"/content/drive/MyDrive/fer2013 (1).tar.gz\")\n",
    "tf.extractall()"
   ]
  },
  {
   "cell_type": "code",
   "execution_count": null,
   "metadata": {
    "colab": {
     "base_uri": "https://localhost:8080/",
     "height": 406
    },
    "executionInfo": {
     "elapsed": 2992,
     "status": "ok",
     "timestamp": 1609843473458,
     "user": {
      "displayName": "Abdellah Madane",
      "photoUrl": "",
      "userId": "06482294700582109576"
     },
     "user_tz": -60
    },
    "id": "gScnyoplcb4b",
    "outputId": "48bcb847-56b6-4353-91e9-efc20490237a"
   },
   "outputs": [
    {
     "data": {
      "text/html": [
       "<div>\n",
       "<style scoped>\n",
       "    .dataframe tbody tr th:only-of-type {\n",
       "        vertical-align: middle;\n",
       "    }\n",
       "\n",
       "    .dataframe tbody tr th {\n",
       "        vertical-align: top;\n",
       "    }\n",
       "\n",
       "    .dataframe thead th {\n",
       "        text-align: right;\n",
       "    }\n",
       "</style>\n",
       "<table border=\"1\" class=\"dataframe\">\n",
       "  <thead>\n",
       "    <tr style=\"text-align: right;\">\n",
       "      <th></th>\n",
       "      <th>emotion</th>\n",
       "      <th>pixels</th>\n",
       "      <th>Usage</th>\n",
       "    </tr>\n",
       "  </thead>\n",
       "  <tbody>\n",
       "    <tr>\n",
       "      <th>0</th>\n",
       "      <td>0</td>\n",
       "      <td>70 80 82 72 58 58 60 63 54 58 60 48 89 115 121...</td>\n",
       "      <td>Training</td>\n",
       "    </tr>\n",
       "    <tr>\n",
       "      <th>1</th>\n",
       "      <td>0</td>\n",
       "      <td>151 150 147 155 148 133 111 140 170 174 182 15...</td>\n",
       "      <td>Training</td>\n",
       "    </tr>\n",
       "    <tr>\n",
       "      <th>2</th>\n",
       "      <td>2</td>\n",
       "      <td>231 212 156 164 174 138 161 173 182 200 106 38...</td>\n",
       "      <td>Training</td>\n",
       "    </tr>\n",
       "    <tr>\n",
       "      <th>3</th>\n",
       "      <td>4</td>\n",
       "      <td>24 32 36 30 32 23 19 20 30 41 21 22 32 34 21 1...</td>\n",
       "      <td>Training</td>\n",
       "    </tr>\n",
       "    <tr>\n",
       "      <th>4</th>\n",
       "      <td>6</td>\n",
       "      <td>4 0 0 0 0 0 0 0 0 0 0 0 3 15 23 28 48 50 58 84...</td>\n",
       "      <td>Training</td>\n",
       "    </tr>\n",
       "    <tr>\n",
       "      <th>...</th>\n",
       "      <td>...</td>\n",
       "      <td>...</td>\n",
       "      <td>...</td>\n",
       "    </tr>\n",
       "    <tr>\n",
       "      <th>24780</th>\n",
       "      <td>4</td>\n",
       "      <td>196 190 128 96 185 195 155 98 49 77 90 89 78 4...</td>\n",
       "      <td>Training</td>\n",
       "    </tr>\n",
       "    <tr>\n",
       "      <th>24781</th>\n",
       "      <td>3</td>\n",
       "      <td>119 120 130 161 180 186 189 188 197 203 206 21...</td>\n",
       "      <td>Training</td>\n",
       "    </tr>\n",
       "    <tr>\n",
       "      <th>24782</th>\n",
       "      <td>2</td>\n",
       "      <td>147 143 136 130 135 150 150 138 120 130 133 13...</td>\n",
       "      <td>Training</td>\n",
       "    </tr>\n",
       "    <tr>\n",
       "      <th>24783</th>\n",
       "      <td>3</td>\n",
       "      <td>207 209 202 197 183 203 178 109 125 127 127 12...</td>\n",
       "      <td>Training</td>\n",
       "    </tr>\n",
       "    <tr>\n",
       "      <th>24784</th>\n",
       "      <td>4</td>\n",
       "      <td>46 69 43 45 43 44 55 44 45 39 34 35 42 39 32 3...</td>\n",
       "      <td>NaN</td>\n",
       "    </tr>\n",
       "  </tbody>\n",
       "</table>\n",
       "<p>24785 rows × 3 columns</p>\n",
       "</div>"
      ],
      "text/plain": [
       "       emotion                                             pixels     Usage\n",
       "0            0  70 80 82 72 58 58 60 63 54 58 60 48 89 115 121...  Training\n",
       "1            0  151 150 147 155 148 133 111 140 170 174 182 15...  Training\n",
       "2            2  231 212 156 164 174 138 161 173 182 200 106 38...  Training\n",
       "3            4  24 32 36 30 32 23 19 20 30 41 21 22 32 34 21 1...  Training\n",
       "4            6  4 0 0 0 0 0 0 0 0 0 0 0 3 15 23 28 48 50 58 84...  Training\n",
       "...        ...                                                ...       ...\n",
       "24780        4  196 190 128 96 185 195 155 98 49 77 90 89 78 4...  Training\n",
       "24781        3  119 120 130 161 180 186 189 188 197 203 206 21...  Training\n",
       "24782        2  147 143 136 130 135 150 150 138 120 130 133 13...  Training\n",
       "24783        3  207 209 202 197 183 203 178 109 125 127 127 12...  Training\n",
       "24784        4  46 69 43 45 43 44 55 44 45 39 34 35 42 39 32 3...       NaN\n",
       "\n",
       "[24785 rows x 3 columns]"
      ]
     },
     "execution_count": 22,
     "metadata": {
      "tags": []
     },
     "output_type": "execute_result"
    }
   ],
   "source": [
    "import pandas as pd\n",
    "import numpy as np\n",
    "import matplotlib.pyplot as plt\n",
    "import cv2\n",
    "df = pd.read_csv('/content/fer2013/fer2013.csv')\n",
    "df"
   ]
  },
  {
   "cell_type": "code",
   "execution_count": null,
   "metadata": {
    "colab": {
     "base_uri": "https://localhost:8080/",
     "height": 266
    },
    "executionInfo": {
     "elapsed": 23278,
     "status": "ok",
     "timestamp": 1609843500164,
     "user": {
      "displayName": "Abdellah Madane",
      "photoUrl": "",
      "userId": "06482294700582109576"
     },
     "user_tz": -60
    },
    "id": "1K6jq5qEcuW7",
    "outputId": "91d60d22-23cd-4f2b-b620-edd29ae006c3"
   },
   "outputs": [
    {
     "data": {
      "image/png": "[encoded data removed]",
      "text/plain": [
       "<Figure size 432x288 with 1 Axes>"
      ]
     },
     "metadata": {
      "needs_background": "light",
      "tags": []
     },
     "output_type": "display_data"
    }
   ],
   "source": [
    "img = df['pixels'][0]\n",
    "img = img.split()\n",
    "img = [float(i) for i in img]\n",
    "img = np.array(img)\n",
    "img = img.reshape((48,48))\n",
    "train = df[df['Usage'] == 'Training']\n",
    "test = df[df['Usage'] == 'PrivateTest']\n",
    "plt.imshow(img)\n",
    "import os\n",
    "from skimage.color import gray2rgb\n",
    "\"\"\"\n",
    "os.mkdir(\"/content/train/\")\n",
    "os.mkdir(\"/content/test/\")\n",
    "for cat in df.emotion.unique():\n",
    "  os.mkdir(\"/content/train/{}\".format(cat))\n",
    "  os.mkdir(\"/content/test/{}\".format(cat))\n",
    "\"\"\"\n",
    "count = 0\n",
    "X = []\n",
    "Y = []\n",
    "for img,em in zip(train['pixels'],train['emotion']):\n",
    "  img = img.split()\n",
    "  img = [float(i) for i in img]\n",
    "  img = np.array(img)\n",
    "  X.append(img.reshape(48*48,))\n",
    "  count += 1\n",
    "  img = gray2rgb(img.reshape((48,48)))\n",
    "  Y.append(em)\n",
    "  cv2.imwrite(\"/content/train/{}/{}\".format(em,'img{}.png'.format(count)),img)"
   ]
  },
  {
   "cell_type": "code",
   "execution_count": null,
   "metadata": {
    "id": "LDRaBplqc_f7"
   },
   "outputs": [],
   "source": [
    "xtest = []\n",
    "ytest = []\n",
    "for img,em in zip(test['pixels'],test['emotion']):\n",
    "  img = img.split()\n",
    "  img = [float(i) for i in img]\n",
    "  img = np.array(img)\n",
    "  img = img.reshape((48,48,1))\n",
    "  \n",
    "  xtest.append(img.reshape(48*48,))\n",
    "  count += 1\n",
    "  ytest.append(em)\n",
    "  img = gray2rgb(img.reshape((48,48)))\n",
    "  cv2.imwrite(\"/content/test/{}/{}\".format(em,'img{}.png'.format(count)),img)"
   ]
  },
  {
   "cell_type": "code",
   "execution_count": null,
   "metadata": {
    "colab": {
     "base_uri": "https://localhost:8080/"
    },
    "executionInfo": {
     "elapsed": 915585,
     "status": "ok",
     "timestamp": 1609778995780,
     "user": {
      "displayName": "Abdellah Madane",
      "photoUrl": "",
      "userId": "06482294700582109576"
     },
     "user_tz": -60
    },
    "id": "AD3SarmViXQe",
    "outputId": "d5fc118e-1877-4a25-955f-5dfe8b3c21dc"
   },
   "outputs": [
    {
     "name": "stdout",
     "output_type": "stream",
     "text": [
      "WARNING:tensorflow:`input_shape` is undefined or non-square, or `rows` is not in [128, 160, 192, 224]. Weights for input shape (224, 224) will be loaded as the default.\n",
      "Model: \"sequential_4\"\n",
      "_________________________________________________________________\n",
      "Layer (type)                 Output Shape              Param #   \n",
      "=================================================================\n",
      "mobilenet_1.00_224 (Function (None, 1, 1, 1024)        3228864   \n",
      "_________________________________________________________________\n",
      "batch_normalization_4 (Batch (None, 1, 1, 1024)        4096      \n",
      "_________________________________________________________________\n",
      "global_average_pooling2d_4 ( (None, 1024)              0         \n",
      "_________________________________________________________________\n",
      "dropout_8 (Dropout)          (None, 1024)              0         \n",
      "_________________________________________________________________\n",
      "dense_12 (Dense)             (None, 30)                30750     \n",
      "_________________________________________________________________\n",
      "dropout_9 (Dropout)          (None, 30)                0         \n",
      "_________________________________________________________________\n",
      "dense_13 (Dense)             (None, 15)                465       \n",
      "_________________________________________________________________\n",
      "dense_14 (Dense)             (None, 7)                 112       \n",
      "=================================================================\n",
      "Total params: 3,264,287\n",
      "Trainable params: 3,240,351\n",
      "Non-trainable params: 23,936\n",
      "_________________________________________________________________\n",
      "Found 28709 images belonging to 7 classes.\n",
      "Found 3589 images belonging to 7 classes.\n"
     ]
    },
    {
     "name": "stderr",
     "output_type": "stream",
     "text": [
      "/usr/local/lib/python3.6/dist-packages/tensorflow/python/keras/engine/training.py:1844: UserWarning: `Model.fit_generator` is deprecated and will be removed in a future version. Please use `Model.fit`, which supports generators.\n",
      "  warnings.warn('`Model.fit_generator` is deprecated and '\n"
     ]
    },
    {
     "name": "stdout",
     "output_type": "stream",
     "text": [
      "Epoch 1/30\n",
      "1794/1794 [==============================] - 39s 17ms/step - loss: 2.0855 - accuracy: 0.2307 - val_loss: 1.5767 - val_accuracy: 0.4026\n",
      "Epoch 2/30\n",
      "1794/1794 [==============================] - 30s 17ms/step - loss: 1.5982 - accuracy: 0.3780 - val_loss: 1.4860 - val_accuracy: 0.4199\n",
      "Epoch 3/30\n",
      "1794/1794 [==============================] - 30s 17ms/step - loss: 1.5164 - accuracy: 0.4166 - val_loss: 1.4264 - val_accuracy: 0.4654\n",
      "Epoch 4/30\n",
      "1794/1794 [==============================] - 30s 17ms/step - loss: 1.4513 - accuracy: 0.4448 - val_loss: 1.4392 - val_accuracy: 0.4528\n",
      "Epoch 5/30\n",
      "1794/1794 [==============================] - 30s 17ms/step - loss: 1.4322 - accuracy: 0.4591 - val_loss: 1.3793 - val_accuracy: 0.4791\n",
      "Epoch 6/30\n",
      "1794/1794 [==============================] - 30s 17ms/step - loss: 1.3663 - accuracy: 0.4890 - val_loss: 1.3303 - val_accuracy: 0.5100\n",
      "Epoch 7/30\n",
      "1794/1794 [==============================] - 31s 17ms/step - loss: 1.3249 - accuracy: 0.5042 - val_loss: 1.3392 - val_accuracy: 0.5193\n",
      "Epoch 8/30\n",
      "1794/1794 [==============================] - 30s 17ms/step - loss: 1.2763 - accuracy: 0.5287 - val_loss: 1.3240 - val_accuracy: 0.5176\n",
      "Epoch 9/30\n",
      "1794/1794 [==============================] - 30s 17ms/step - loss: 1.2580 - accuracy: 0.5309 - val_loss: 1.2841 - val_accuracy: 0.5438\n",
      "Epoch 10/30\n",
      "1794/1794 [==============================] - 30s 17ms/step - loss: 1.2013 - accuracy: 0.5599 - val_loss: 1.2873 - val_accuracy: 0.5366\n",
      "Epoch 11/30\n",
      "1794/1794 [==============================] - 30s 17ms/step - loss: 1.1716 - accuracy: 0.5710 - val_loss: 1.3126 - val_accuracy: 0.5385\n",
      "Epoch 12/30\n",
      "1794/1794 [==============================] - 30s 17ms/step - loss: 1.1428 - accuracy: 0.5847 - val_loss: 1.2523 - val_accuracy: 0.5505\n",
      "Epoch 13/30\n",
      "1794/1794 [==============================] - 30s 17ms/step - loss: 1.1084 - accuracy: 0.5933 - val_loss: 1.2101 - val_accuracy: 0.5656\n",
      "Epoch 14/30\n",
      "1794/1794 [==============================] - 30s 17ms/step - loss: 1.0955 - accuracy: 0.6065 - val_loss: 1.2367 - val_accuracy: 0.5711\n",
      "Epoch 15/30\n",
      "1794/1794 [==============================] - 30s 17ms/step - loss: 1.0635 - accuracy: 0.6085 - val_loss: 1.2246 - val_accuracy: 0.5547\n",
      "Epoch 16/30\n",
      "1794/1794 [==============================] - 30s 17ms/step - loss: 1.0383 - accuracy: 0.6203 - val_loss: 1.2252 - val_accuracy: 0.5672\n",
      "Epoch 17/30\n",
      "1794/1794 [==============================] - 30s 17ms/step - loss: 1.0062 - accuracy: 0.6346 - val_loss: 1.2084 - val_accuracy: 0.5385\n",
      "Epoch 18/30\n",
      "1794/1794 [==============================] - 30s 17ms/step - loss: 0.9835 - accuracy: 0.6471 - val_loss: 1.1674 - val_accuracy: 0.5843\n",
      "Epoch 19/30\n",
      "1794/1794 [==============================] - 30s 17ms/step - loss: 0.9904 - accuracy: 0.6460 - val_loss: 1.1784 - val_accuracy: 0.5714\n",
      "Epoch 20/30\n",
      "1794/1794 [==============================] - 30s 17ms/step - loss: 0.9576 - accuracy: 0.6535 - val_loss: 1.1639 - val_accuracy: 0.5904\n",
      "Epoch 21/30\n",
      "1794/1794 [==============================] - 30s 17ms/step - loss: 0.9295 - accuracy: 0.6673 - val_loss: 1.1861 - val_accuracy: 0.5890\n",
      "Epoch 22/30\n",
      "1794/1794 [==============================] - 30s 17ms/step - loss: 0.9301 - accuracy: 0.6665 - val_loss: 1.2087 - val_accuracy: 0.5636\n",
      "Epoch 23/30\n",
      "1794/1794 [==============================] - 30s 17ms/step - loss: 0.9042 - accuracy: 0.6803 - val_loss: 1.1949 - val_accuracy: 0.5731\n",
      "Epoch 24/30\n",
      "1794/1794 [==============================] - 30s 17ms/step - loss: 0.8872 - accuracy: 0.6880 - val_loss: 1.2009 - val_accuracy: 0.5505\n",
      "Epoch 25/30\n",
      "1794/1794 [==============================] - 30s 17ms/step - loss: 0.8885 - accuracy: 0.6889 - val_loss: 1.1841 - val_accuracy: 0.5628\n",
      "Epoch 26/30\n",
      "1794/1794 [==============================] - 30s 17ms/step - loss: 0.8513 - accuracy: 0.7023 - val_loss: 1.1986 - val_accuracy: 0.5583\n",
      "Epoch 27/30\n",
      "1794/1794 [==============================] - 30s 17ms/step - loss: 0.8396 - accuracy: 0.7046 - val_loss: 1.2105 - val_accuracy: 0.5642\n",
      "Epoch 28/30\n",
      "1794/1794 [==============================] - 30s 17ms/step - loss: 0.8310 - accuracy: 0.7143 - val_loss: 1.1597 - val_accuracy: 0.5748\n",
      "Epoch 29/30\n",
      "1794/1794 [==============================] - 30s 17ms/step - loss: 0.7990 - accuracy: 0.7220 - val_loss: 1.1685 - val_accuracy: 0.5887\n",
      "Epoch 30/30\n",
      "1794/1794 [==============================] - 30s 17ms/step - loss: 0.7705 - accuracy: 0.7318 - val_loss: 1.1942 - val_accuracy: 0.5684\n"
     ]
    },
    {
     "data": {
      "text/plain": [
       "<tensorflow.python.keras.callbacks.History at 0x7fcf9f2e7320>"
      ]
     },
     "execution_count": 15,
     "metadata": {
      "tags": []
     },
     "output_type": "execute_result"
    }
   ],
   "source": [
    "#MobileNet\n",
    "#imports\n",
    "import keras \n",
    "from keras import models\n",
    "from keras.applications import DenseNet201, MobileNet\n",
    "\n",
    "from keras.layers import Dense, Dropout, Flatten, BatchNormalization, GlobalAveragePooling2D\n",
    "from keras import regularizers\n",
    "from keras.preprocessing.image import ImageDataGenerator\n",
    "from keras.optimizers import Adam\n",
    "import os\n",
    "import numpy as np\n",
    "from google.colab import drive,files\n",
    "import cv2\n",
    "from keras import layers\n",
    "import matplotlib.pyplot as  plt\n",
    "from keras import models\n",
    "from keras.models import load_model,model_from_json\n",
    "base_model = MobileNet(weights='imagenet',input_shape=(48,48,3),include_top=False)\n",
    "model = models.Sequential()\n",
    "model.add(base_model)\n",
    "model.add(BatchNormalization())\n",
    "model.add(GlobalAveragePooling2D())\n",
    "model.add(Dropout(0.5))\n",
    "model.add(Dense(30, activation='relu'))\n",
    "model.add(Dropout(0.5))\n",
    "model.add(Dense(15, activation='relu'))\n",
    "model.add(Dense(7, activation='softmax'))\n",
    "\n",
    "model.summary()\n",
    "model.compile(optimizer='adam', loss='categorical_crossentropy', metrics=['accuracy'])\n",
    "# batch size\n",
    "bs = 16\n",
    "\n",
    "data_gen = ImageDataGenerator(rescale=1/255.,)\n",
    "train_gen = data_gen.flow_from_directory('/content/train',target_size=(48,48),batch_size=bs)\n",
    "test_gen = data_gen.flow_from_directory('/content/test',target_size=(48,48),batch_size=bs)\n",
    "model.fit_generator(train_gen, train_gen.n//bs,\n",
    "                    validation_data=test_gen, validation_steps=test_gen.n//bs ,\n",
    "                    epochs=30)"
   ]
  },
  {
   "cell_type": "code",
   "execution_count": null,
   "metadata": {
    "colab": {
     "base_uri": "https://localhost:8080/"
    },
    "executionInfo": {
     "elapsed": 1907187,
     "status": "ok",
     "timestamp": 1609849769434,
     "user": {
      "displayName": "Abdellah Madane",
      "photoUrl": "",
      "userId": "06482294700582109576"
     },
     "user_tz": -60
    },
    "id": "awc7CKisdEnk",
    "outputId": "f21f55eb-d3bc-47f4-f212-f41e1b775177"
   },
   "outputs": [
    {
     "name": "stdout",
     "output_type": "stream",
     "text": [
      "Downloading data from https://storage.googleapis.com/keras-applications/efficientnetb0_notop.h5\n",
      "16711680/16705208 [==============================] - 0s 0us/step\n",
      "Model: \"sequential\"\n",
      "_________________________________________________________________\n",
      "Layer (type)                 Output Shape              Param #   \n",
      "=================================================================\n",
      "efficientnetb0 (Functional)  (None, 2, 2, 1280)        4049571   \n",
      "_________________________________________________________________\n",
      "batch_normalization (BatchNo (None, 2, 2, 1280)        5120      \n",
      "_________________________________________________________________\n",
      "global_average_pooling2d (Gl (None, 1280)              0         \n",
      "_________________________________________________________________\n",
      "dropout (Dropout)            (None, 1280)              0         \n",
      "_________________________________________________________________\n",
      "dense (Dense)                (None, 30)                38430     \n",
      "_________________________________________________________________\n",
      "dropout_1 (Dropout)          (None, 30)                0         \n",
      "_________________________________________________________________\n",
      "dense_1 (Dense)              (None, 15)                465       \n",
      "_________________________________________________________________\n",
      "dense_2 (Dense)              (None, 7)                 112       \n",
      "=================================================================\n",
      "Total params: 4,093,698\n",
      "Trainable params: 4,049,115\n",
      "Non-trainable params: 44,583\n",
      "_________________________________________________________________\n",
      "Found 28709 images belonging to 7 classes.\n",
      "Found 3589 images belonging to 7 classes.\n"
     ]
    },
    {
     "name": "stderr",
     "output_type": "stream",
     "text": [
      "/usr/local/lib/python3.6/dist-packages/tensorflow/python/keras/engine/training.py:1844: UserWarning: `Model.fit_generator` is deprecated and will be removed in a future version. Please use `Model.fit`, which supports generators.\n",
      "  warnings.warn('`Model.fit_generator` is deprecated and '\n"
     ]
    },
    {
     "name": "stdout",
     "output_type": "stream",
     "text": [
      "Epoch 1/30\n",
      "1794/1794 [==============================] - 78s 36ms/step - loss: 1.8838 - accuracy: 0.2536 - val_loss: 1.9366 - val_accuracy: 0.1663\n",
      "Epoch 2/30\n",
      "1794/1794 [==============================] - 63s 35ms/step - loss: 1.5329 - accuracy: 0.4184 - val_loss: 1.8741 - val_accuracy: 0.1822\n",
      "Epoch 3/30\n",
      "1794/1794 [==============================] - 62s 35ms/step - loss: 1.4024 - accuracy: 0.4744 - val_loss: 1.9911 - val_accuracy: 0.1655\n",
      "Epoch 4/30\n",
      "1794/1794 [==============================] - 62s 35ms/step - loss: 1.3382 - accuracy: 0.5026 - val_loss: 2.1269 - val_accuracy: 0.1657\n",
      "Epoch 5/30\n",
      "1794/1794 [==============================] - 62s 35ms/step - loss: 1.2689 - accuracy: 0.5331 - val_loss: 1.9758 - val_accuracy: 0.1878\n",
      "Epoch 6/30\n",
      "1794/1794 [==============================] - 62s 34ms/step - loss: 1.2230 - accuracy: 0.5517 - val_loss: 2.1626 - val_accuracy: 0.1992\n",
      "Epoch 7/30\n",
      "1794/1794 [==============================] - 61s 34ms/step - loss: 1.1633 - accuracy: 0.5718 - val_loss: 3.4878 - val_accuracy: 0.1610\n",
      "Epoch 8/30\n",
      "1794/1794 [==============================] - 61s 34ms/step - loss: 1.1262 - accuracy: 0.5897 - val_loss: 2.0595 - val_accuracy: 0.1761\n",
      "Epoch 9/30\n",
      "1794/1794 [==============================] - 61s 34ms/step - loss: 1.0823 - accuracy: 0.6043 - val_loss: 1.8551 - val_accuracy: 0.2218\n",
      "Epoch 10/30\n",
      "1794/1794 [==============================] - 61s 34ms/step - loss: 1.0529 - accuracy: 0.6175 - val_loss: 2.0222 - val_accuracy: 0.2188\n",
      "Epoch 11/30\n",
      "1794/1794 [==============================] - 61s 34ms/step - loss: 1.0106 - accuracy: 0.6324 - val_loss: 1.7920 - val_accuracy: 0.2623\n",
      "Epoch 12/30\n",
      "1794/1794 [==============================] - 61s 34ms/step - loss: 0.9748 - accuracy: 0.6514 - val_loss: 2.1757 - val_accuracy: 0.1526\n",
      "Epoch 13/30\n",
      "1794/1794 [==============================] - 61s 34ms/step - loss: 0.9489 - accuracy: 0.6579 - val_loss: 2.2565 - val_accuracy: 0.1928\n",
      "Epoch 14/30\n",
      "1794/1794 [==============================] - 62s 34ms/step - loss: 0.9195 - accuracy: 0.6679 - val_loss: 7.4080 - val_accuracy: 0.1203\n",
      "Epoch 15/30\n",
      "1794/1794 [==============================] - 61s 34ms/step - loss: 0.8809 - accuracy: 0.6861 - val_loss: 3.1864 - val_accuracy: 0.1618\n",
      "Epoch 16/30\n",
      "1794/1794 [==============================] - 61s 34ms/step - loss: 0.8484 - accuracy: 0.7047 - val_loss: 2.0133 - val_accuracy: 0.3504\n",
      "Epoch 17/30\n",
      "1794/1794 [==============================] - 61s 34ms/step - loss: 0.8319 - accuracy: 0.7027 - val_loss: 2.1372 - val_accuracy: 0.1850\n",
      "Epoch 18/30\n",
      "1794/1794 [==============================] - 61s 34ms/step - loss: 0.8171 - accuracy: 0.7135 - val_loss: 1.9269 - val_accuracy: 0.3357\n",
      "Epoch 19/30\n",
      "1794/1794 [==============================] - 61s 34ms/step - loss: 0.7847 - accuracy: 0.7269 - val_loss: 2.8623 - val_accuracy: 0.1473\n",
      "Epoch 20/30\n",
      "1794/1794 [==============================] - 61s 34ms/step - loss: 0.7589 - accuracy: 0.7362 - val_loss: 2.5302 - val_accuracy: 0.2034\n",
      "Epoch 21/30\n",
      "1794/1794 [==============================] - 61s 34ms/step - loss: 0.7375 - accuracy: 0.7398 - val_loss: 2.8406 - val_accuracy: 0.1484\n",
      "Epoch 22/30\n",
      "1794/1794 [==============================] - 62s 34ms/step - loss: 0.7227 - accuracy: 0.7504 - val_loss: 2.0030 - val_accuracy: 0.2210\n",
      "Epoch 23/30\n",
      "1794/1794 [==============================] - 62s 35ms/step - loss: 0.6924 - accuracy: 0.7590 - val_loss: 2.2701 - val_accuracy: 0.1465\n",
      "Epoch 24/30\n",
      "1794/1794 [==============================] - 61s 34ms/step - loss: 0.6926 - accuracy: 0.7591 - val_loss: 44.2426 - val_accuracy: 0.1655\n",
      "Epoch 25/30\n",
      "1794/1794 [==============================] - 61s 34ms/step - loss: 0.6622 - accuracy: 0.7727 - val_loss: 2.2589 - val_accuracy: 0.2559\n",
      "Epoch 26/30\n",
      "1794/1794 [==============================] - 61s 34ms/step - loss: 0.6547 - accuracy: 0.7706 - val_loss: 2.0452 - val_accuracy: 0.2486\n",
      "Epoch 27/30\n",
      "1794/1794 [==============================] - 61s 34ms/step - loss: 0.6469 - accuracy: 0.7816 - val_loss: 67.0463 - val_accuracy: 0.1175\n",
      "Epoch 28/30\n",
      "1794/1794 [==============================] - 61s 34ms/step - loss: 0.6263 - accuracy: 0.7825 - val_loss: 3.1858 - val_accuracy: 0.1217\n",
      "Epoch 29/30\n",
      "1794/1794 [==============================] - 61s 34ms/step - loss: 0.6025 - accuracy: 0.7953 - val_loss: 2.0185 - val_accuracy: 0.2235\n",
      "Epoch 30/30\n",
      "1794/1794 [==============================] - 61s 34ms/step - loss: 0.6014 - accuracy: 0.7993 - val_loss: 2.1968 - val_accuracy: 0.1426\n"
     ]
    },
    {
     "data": {
      "text/plain": [
       "<tensorflow.python.keras.callbacks.History at 0x7f6c5762c5c0>"
      ]
     },
     "execution_count": 5,
     "metadata": {
      "tags": []
     },
     "output_type": "execute_result"
    }
   ],
   "source": [
    "#EfficientNetB0\n",
    "from tensorflow.keras.applications import EfficientNetB0\n",
    "#imports\n",
    "import keras \n",
    "from keras import models\n",
    "from keras.applications import ResNet50, ResNet50V2, DenseNet201\n",
    "\n",
    "from keras.layers import Dense, Dropout, Flatten, BatchNormalization, GlobalAveragePooling2D\n",
    "from keras import regularizers\n",
    "from keras.preprocessing.image import ImageDataGenerator\n",
    "from keras.optimizers import Adam\n",
    "import os\n",
    "import numpy as np\n",
    "from google.colab import drive,files\n",
    "import cv2\n",
    "from keras import layers\n",
    "import matplotlib.pyplot as  plt\n",
    "from keras import models\n",
    "from keras.models import load_model,model_from_json\n",
    "base_model = EfficientNetB0(weights='imagenet',input_shape=(48,48,3),include_top=False)\n",
    "model = models.Sequential()\n",
    "model.add(base_model)\n",
    "model.add(BatchNormalization())\n",
    "model.add(GlobalAveragePooling2D())\n",
    "model.add(Dropout(0.5))\n",
    "model.add(Dense(30, activation='relu'))\n",
    "model.add(Dropout(0.5))\n",
    "model.add(Dense(15, activation='relu'))\n",
    "model.add(Dense(7, activation='softmax'))\n",
    "\n",
    "model.summary()\n",
    "model.compile(optimizer='adam', loss='categorical_crossentropy', metrics=['accuracy'])\n",
    "# batch size\n",
    "bs = 16\n",
    "\n",
    "data_gen = ImageDataGenerator(rescale=1/255.,)\n",
    "train_gen = data_gen.flow_from_directory('/content/train',target_size=(48,48),batch_size=bs)\n",
    "test_gen = data_gen.flow_from_directory('/content/test',target_size=(48,48),batch_size=bs)\n",
    "model.fit_generator(train_gen, train_gen.n//bs,\n",
    "                    validation_data=test_gen, validation_steps=test_gen.n//bs ,\n",
    "                    epochs=30)"
   ]
  },
  {
   "cell_type": "code",
   "execution_count": null,
   "metadata": {
    "colab": {
     "base_uri": "https://localhost:8080/"
    },
    "executionInfo": {
     "elapsed": 3872,
     "status": "ok",
     "timestamp": 1609850014311,
     "user": {
      "displayName": "Abdellah Madane",
      "photoUrl": "",
      "userId": "06482294700582109576"
     },
     "user_tz": -60
    },
    "id": "ojD9j1F9LheK",
    "outputId": "fedf3275-1048-4fa7-ae6b-b5033177da3c"
   },
   "outputs": [
    {
     "data": {
      "text/plain": [
       "(28709, 2304)"
      ]
     },
     "execution_count": 7,
     "metadata": {
      "tags": []
     },
     "output_type": "execute_result"
    }
   ],
   "source": [
    "X = np.array(X)\n",
    "Y = np.array(Y)\n",
    "X.shape"
   ]
  },
  {
   "cell_type": "code",
   "execution_count": null,
   "metadata": {
    "colab": {
     "base_uri": "https://localhost:8080/"
    },
    "executionInfo": {
     "elapsed": 3858,
     "status": "ok",
     "timestamp": 1609850014314,
     "user": {
      "displayName": "Abdellah Madane",
      "photoUrl": "",
      "userId": "06482294700582109576"
     },
     "user_tz": -60
    },
    "id": "eRvHUTsYNau9",
    "outputId": "2a375f1c-bf75-4c8b-ee0a-3d31245d006f"
   },
   "outputs": [
    {
     "data": {
      "text/plain": [
       "(3589, 2304)"
      ]
     },
     "execution_count": 8,
     "metadata": {
      "tags": []
     },
     "output_type": "execute_result"
    }
   ],
   "source": [
    "xtest = np.array(xtest)\n",
    "ytest = np.array(ytest)\n",
    "xtest.shape"
   ]
  },
  {
   "cell_type": "code",
   "execution_count": null,
   "metadata": {
    "colab": {
     "base_uri": "https://localhost:8080/"
    },
    "executionInfo": {
     "elapsed": 17253702,
     "status": "ok",
     "timestamp": 1609867264172,
     "user": {
      "displayName": "Abdellah Madane",
      "photoUrl": "",
      "userId": "06482294700582109576"
     },
     "user_tz": -60
    },
    "id": "wPMmJVXpDGg5",
    "outputId": "003dc8cd-ff8f-4003-863c-660591859a9e"
   },
   "outputs": [
    {
     "name": "stdout",
     "output_type": "stream",
     "text": [
      "Model: \"sequential\"\n",
      "_________________________________________________________________\n",
      "Layer (type)                 Output Shape              Param #   \n",
      "=================================================================\n",
      "lstm (LSTM)                  (None, 2304, 100)         40800     \n",
      "_________________________________________________________________\n",
      "lstm_1 (LSTM)                (None, 2304, 32)          17024     \n",
      "_________________________________________________________________\n",
      "lstm_2 (LSTM)                (None, 10)                1720      \n",
      "_________________________________________________________________\n",
      "dense (Dense)                (None, 7)                 77        \n",
      "=================================================================\n",
      "Total params: 59,621\n",
      "Trainable params: 59,621\n",
      "Non-trainable params: 0\n",
      "_________________________________________________________________\n",
      "None\n",
      "Epoch 1/30\n",
      "2871/2871 [==============================] - 590s 202ms/step - loss: 1.8139 - accuracy: 0.2460 - val_loss: 1.8095 - val_accuracy: 0.2527\n",
      "Epoch 2/30\n",
      "2871/2871 [==============================] - 579s 202ms/step - loss: 1.7942 - accuracy: 0.2557 - val_loss: 1.7999 - val_accuracy: 0.2474\n",
      "Epoch 3/30\n",
      "2871/2871 [==============================] - 578s 201ms/step - loss: 1.7901 - accuracy: 0.2556 - val_loss: 1.7919 - val_accuracy: 0.2536\n",
      "Epoch 4/30\n",
      "2871/2871 [==============================] - 576s 201ms/step - loss: 1.7889 - accuracy: 0.2543 - val_loss: 1.7849 - val_accuracy: 0.2577\n",
      "Epoch 5/30\n",
      "2871/2871 [==============================] - 578s 201ms/step - loss: 1.7850 - accuracy: 0.2597 - val_loss: 1.7896 - val_accuracy: 0.2591\n",
      "Epoch 6/30\n",
      "2871/2871 [==============================] - 577s 201ms/step - loss: 1.7826 - accuracy: 0.2630 - val_loss: 1.8000 - val_accuracy: 0.2432\n",
      "Epoch 7/30\n",
      "2871/2871 [==============================] - 577s 201ms/step - loss: 1.7858 - accuracy: 0.2611 - val_loss: 1.7910 - val_accuracy: 0.2669\n",
      "Epoch 8/30\n",
      "2871/2871 [==============================] - 576s 201ms/step - loss: 1.7804 - accuracy: 0.2639 - val_loss: 1.7958 - val_accuracy: 0.2683\n",
      "Epoch 9/30\n",
      "2871/2871 [==============================] - 577s 201ms/step - loss: 1.7791 - accuracy: 0.2639 - val_loss: 1.7801 - val_accuracy: 0.2722\n",
      "Epoch 10/30\n",
      "2871/2871 [==============================] - 575s 200ms/step - loss: 1.7773 - accuracy: 0.2677 - val_loss: 1.7811 - val_accuracy: 0.2666\n",
      "Epoch 11/30\n",
      "2871/2871 [==============================] - 573s 200ms/step - loss: 1.7888 - accuracy: 0.2601 - val_loss: 1.7790 - val_accuracy: 0.2644\n",
      "Epoch 12/30\n",
      "2871/2871 [==============================] - 573s 200ms/step - loss: 1.7729 - accuracy: 0.2712 - val_loss: 1.7820 - val_accuracy: 0.2633\n",
      "Epoch 13/30\n",
      "2871/2871 [==============================] - 573s 200ms/step - loss: 1.7844 - accuracy: 0.2625 - val_loss: 1.7907 - val_accuracy: 0.2625\n",
      "Epoch 14/30\n",
      "2871/2871 [==============================] - 574s 200ms/step - loss: 1.7771 - accuracy: 0.2628 - val_loss: 1.7966 - val_accuracy: 0.2594\n",
      "Epoch 15/30\n",
      "2871/2871 [==============================] - 574s 200ms/step - loss: 1.7917 - accuracy: 0.2566 - val_loss: 1.7797 - val_accuracy: 0.2600\n",
      "Epoch 16/30\n",
      "2871/2871 [==============================] - 572s 199ms/step - loss: 1.7859 - accuracy: 0.2607 - val_loss: 1.7874 - val_accuracy: 0.2577\n",
      "Epoch 17/30\n",
      "2871/2871 [==============================] - 572s 199ms/step - loss: 1.7828 - accuracy: 0.2589 - val_loss: 1.7882 - val_accuracy: 0.2633\n",
      "Epoch 18/30\n",
      "2871/2871 [==============================] - 573s 199ms/step - loss: 1.7820 - accuracy: 0.2676 - val_loss: 1.7803 - val_accuracy: 0.2605\n",
      "Epoch 19/30\n",
      "2871/2871 [==============================] - 573s 199ms/step - loss: 1.7816 - accuracy: 0.2610 - val_loss: 1.7900 - val_accuracy: 0.2575\n",
      "Epoch 20/30\n",
      "2871/2871 [==============================] - 574s 200ms/step - loss: 1.7853 - accuracy: 0.2644 - val_loss: 1.7779 - val_accuracy: 0.2675\n",
      "Epoch 21/30\n",
      "2871/2871 [==============================] - 573s 200ms/step - loss: 1.7737 - accuracy: 0.2670 - val_loss: 1.7772 - val_accuracy: 0.2686\n",
      "Epoch 22/30\n",
      "2871/2871 [==============================] - 573s 200ms/step - loss: 1.7775 - accuracy: 0.2638 - val_loss: 1.7775 - val_accuracy: 0.2705\n",
      "Epoch 23/30\n",
      "2871/2871 [==============================] - 573s 200ms/step - loss: 1.7743 - accuracy: 0.2643 - val_loss: 1.7779 - val_accuracy: 0.2650\n",
      "Epoch 24/30\n",
      "2871/2871 [==============================] - 573s 200ms/step - loss: 1.7747 - accuracy: 0.2675 - val_loss: 1.7864 - val_accuracy: 0.2661\n",
      "Epoch 25/30\n",
      "2871/2871 [==============================] - 573s 200ms/step - loss: 1.7743 - accuracy: 0.2688 - val_loss: 1.7877 - val_accuracy: 0.2572\n",
      "Epoch 26/30\n",
      "2871/2871 [==============================] - 573s 200ms/step - loss: 1.7702 - accuracy: 0.2701 - val_loss: 1.7732 - val_accuracy: 0.2719\n",
      "Epoch 27/30\n",
      "2871/2871 [==============================] - 573s 200ms/step - loss: 1.7617 - accuracy: 0.2759 - val_loss: 1.7760 - val_accuracy: 0.2678\n",
      "Epoch 28/30\n",
      "2871/2871 [==============================] - 573s 200ms/step - loss: 1.7711 - accuracy: 0.2687 - val_loss: 1.7676 - val_accuracy: 0.2694\n",
      "Epoch 29/30\n",
      "2871/2871 [==============================] - 572s 199ms/step - loss: 1.7568 - accuracy: 0.2760 - val_loss: 1.7567 - val_accuracy: 0.2764\n",
      "Epoch 30/30\n",
      "2871/2871 [==============================] - 571s 199ms/step - loss: 1.7545 - accuracy: 0.2839 - val_loss: 1.7839 - val_accuracy: 0.2647\n"
     ]
    }
   ],
   "source": [
    "#LSTM Simple\n",
    "from keras.layers import Dense, Conv1D, Input, MaxPooling1D, Flatten, Dropout, LSTM\n",
    "from keras import Sequential\n",
    "from keras.utils import to_categorical\n",
    "cat_Y = to_categorical(Y)\n",
    "\n",
    "X_ = np.reshape(X,(28709, 2304,1))\n",
    "\n",
    "cat_ytest=to_categorical(ytest)\n",
    "xtest_=np.reshape(xtest,(3589, 2304,1))\n",
    "\n",
    "model = Sequential()\n",
    "model.add(LSTM(100,return_sequences=True,  input_shape=(2304, 1)))\n",
    "model.add(LSTM(32,return_sequences = True))\n",
    "model.add(LSTM(10))\n",
    "model.add(Dense(7, activation='softmax', ))\n",
    "model.compile(optimizer='rmsprop', loss='categorical_crossentropy', metrics=['accuracy'])\n",
    "print(model.summary())\n",
    "history = model.fit(X_, cat_Y, batch_size=10, epochs=30, validation_data=(xtest_, cat_ytest))"
   ]
  },
  {
   "cell_type": "code",
   "execution_count": null,
   "metadata": {
    "id": "TgADQnI4KNXW"
   },
   "outputs": [],
   "source": [
    "#CNN+LSTM (CONV1D)\n",
    "model = Sequential()\n",
    "model.add(Conv1D(32, 4, activation='relu', padding='same', input_shape=(2304, 1)))\n",
    "model.add(LSTM(32, return_sequences=True))\n",
    "model.add(MaxPooling1D(2))\n",
    "model.add(Conv1D(16, 8, activation=\"relu\", padding='same'))\n",
    "model.add(LSTM(64, return_sequences=True))\n",
    "model.add(MaxPooling1D(2))\n",
    "model.add(Conv1D(16, 8, activation=\"relu\", padding='same'))\n",
    "model.add(LSTM(128))\n",
    "model.add(Dense(7, activation='softmax'))"
   ]
  },
  {
   "cell_type": "code",
   "execution_count": null,
   "metadata": {
    "colab": {
     "base_uri": "https://localhost:8080/"
    },
    "executionInfo": {
     "elapsed": 5806492,
     "status": "error",
     "timestamp": 1609876064239,
     "user": {
      "displayName": "Abdellah Madane",
      "photoUrl": "",
      "userId": "06482294700582109576"
     },
     "user_tz": -60
    },
    "id": "I3unNKfUKQd6",
    "outputId": "323f1c51-8d44-4264-b909-5be563d9c657"
   },
   "outputs": [
    {
     "name": "stdout",
     "output_type": "stream",
     "text": [
      "Model: \"sequential_1\"\n",
      "_________________________________________________________________\n",
      "Layer (type)                 Output Shape              Param #   \n",
      "=================================================================\n",
      "conv1d (Conv1D)              (None, 2304, 32)          160       \n",
      "_________________________________________________________________\n",
      "lstm_3 (LSTM)                (None, 2304, 32)          8320      \n",
      "_________________________________________________________________\n",
      "max_pooling1d (MaxPooling1D) (None, 1152, 32)          0         \n",
      "_________________________________________________________________\n",
      "conv1d_1 (Conv1D)            (None, 1152, 16)          4112      \n",
      "_________________________________________________________________\n",
      "lstm_4 (LSTM)                (None, 1152, 64)          20736     \n",
      "_________________________________________________________________\n",
      "max_pooling1d_1 (MaxPooling1 (None, 576, 64)           0         \n",
      "_________________________________________________________________\n",
      "conv1d_2 (Conv1D)            (None, 576, 16)           8208      \n",
      "_________________________________________________________________\n",
      "lstm_5 (LSTM)                (None, 128)               74240     \n",
      "_________________________________________________________________\n",
      "dense_1 (Dense)              (None, 7)                 903       \n",
      "=================================================================\n",
      "Total params: 116,679\n",
      "Trainable params: 116,679\n",
      "Non-trainable params: 0\n",
      "_________________________________________________________________\n",
      "None\n",
      "Epoch 1/30\n",
      "2871/2871 [==============================] - 344s 119ms/step - loss: 1.7806 - accuracy: 0.2678 - val_loss: 1.7924 - val_accuracy: 0.2575\n",
      "Epoch 2/30\n",
      "2871/2871 [==============================] - 340s 118ms/step - loss: 1.7822 - accuracy: 0.2665 - val_loss: 1.7807 - val_accuracy: 0.2586\n",
      "Epoch 3/30\n",
      "2871/2871 [==============================] - 339s 118ms/step - loss: 1.7736 - accuracy: 0.2655 - val_loss: 1.7706 - val_accuracy: 0.2692\n",
      "Epoch 4/30\n",
      "2871/2871 [==============================] - 339s 118ms/step - loss: 1.7681 - accuracy: 0.2748 - val_loss: 1.7936 - val_accuracy: 0.2522\n",
      "Epoch 5/30\n",
      "2871/2871 [==============================] - 340s 118ms/step - loss: 1.7584 - accuracy: 0.2791 - val_loss: 1.7689 - val_accuracy: 0.2647\n",
      "Epoch 6/30\n",
      "2871/2871 [==============================] - 341s 119ms/step - loss: 1.7530 - accuracy: 0.2835 - val_loss: 1.7605 - val_accuracy: 0.2689\n",
      "Epoch 7/30\n",
      "2871/2871 [==============================] - 341s 119ms/step - loss: 1.7477 - accuracy: 0.2864 - val_loss: 1.7563 - val_accuracy: 0.2792\n",
      "Epoch 8/30\n",
      "2871/2871 [==============================] - 341s 119ms/step - loss: 1.7400 - accuracy: 0.2933 - val_loss: 1.7537 - val_accuracy: 0.2887\n",
      "Epoch 9/30\n",
      "2871/2871 [==============================] - 341s 119ms/step - loss: 1.7334 - accuracy: 0.2950 - val_loss: 1.7408 - val_accuracy: 0.2953\n",
      "Epoch 10/30\n",
      "2871/2871 [==============================] - 341s 119ms/step - loss: 1.7238 - accuracy: 0.2985 - val_loss: 1.7539 - val_accuracy: 0.2856\n",
      "Epoch 11/30\n",
      "2871/2871 [==============================] - 341s 119ms/step - loss: 1.7169 - accuracy: 0.3076 - val_loss: 1.7540 - val_accuracy: 0.2770\n",
      "Epoch 12/30\n",
      "2871/2871 [==============================] - 341s 119ms/step - loss: 1.6873 - accuracy: 0.3255 - val_loss: 1.7781 - val_accuracy: 0.2680\n",
      "Epoch 13/30\n",
      "2871/2871 [==============================] - 341s 119ms/step - loss: 1.6612 - accuracy: 0.3376 - val_loss: 1.6930 - val_accuracy: 0.3246\n",
      "Epoch 14/30\n",
      "2871/2871 [==============================] - 341s 119ms/step - loss: 1.6528 - accuracy: 0.3394 - val_loss: 1.7167 - val_accuracy: 0.3182\n",
      "Epoch 15/30\n",
      "2871/2871 [==============================] - 341s 119ms/step - loss: 1.6246 - accuracy: 0.3567 - val_loss: 1.6669 - val_accuracy: 0.3327\n",
      "Epoch 16/30\n",
      "2871/2871 [==============================] - 341s 119ms/step - loss: 1.5967 - accuracy: 0.3722 - val_loss: 1.6557 - val_accuracy: 0.3488\n",
      "Epoch 17/30\n",
      "2871/2871 [==============================] - 341s 119ms/step - loss: 1.5766 - accuracy: 0.3842 - val_loss: 1.6528 - val_accuracy: 0.3458\n",
      "Epoch 18/30\n",
      "2871/2871 [==============================] - 341s 119ms/step - loss: 1.5473 - accuracy: 0.3928 - val_loss: 1.6538 - val_accuracy: 0.3502\n",
      "Epoch 19/30\n",
      "2871/2871 [==============================] - 341s 119ms/step - loss: 1.5530 - accuracy: 0.3897 - val_loss: 1.6350 - val_accuracy: 0.3650\n",
      "Epoch 20/30\n",
      "2871/2871 [==============================] - 341s 119ms/step - loss: 1.5098 - accuracy: 0.4149 - val_loss: 1.6596 - val_accuracy: 0.3575\n",
      "Epoch 21/30\n",
      " 539/2871 [====>.........................] - ETA: 4:24 - loss: 1.4591 - accuracy: 0.4380Buffered data was truncated after reaching the output size limit."
     ]
    }
   ],
   "source": [
    "model.compile(loss='categorical_crossentropy', optimizer='adam', metrics=['accuracy'])\n",
    "print(model.summary())\n",
    "history = model.fit(X_, cat_Y, batch_size=10, epochs=30, validation_data=(xtest_, cat_ytest))"
   ]
  },
  {
   "cell_type": "code",
   "execution_count": null,
   "metadata": {
    "colab": {
     "base_uri": "https://localhost:8080/"
    },
    "executionInfo": {
     "elapsed": 366917,
     "status": "ok",
     "timestamp": 1609876937166,
     "user": {
      "displayName": "Abdellah Madane",
      "photoUrl": "",
      "userId": "06482294700582109576"
     },
     "user_tz": -60
    },
    "id": "T5fZcKjivSJm",
    "outputId": "61351923-383e-4f6e-fec5-7ee9a4fd5c6b"
   },
   "outputs": [
    {
     "name": "stdout",
     "output_type": "stream",
     "text": [
      "Model: \"sequential_11\"\n",
      "_________________________________________________________________\n",
      "Layer (type)                 Output Shape              Param #   \n",
      "=================================================================\n",
      "conv2d_4 (Conv2D)            (None, 46, 46, 64)        640       \n",
      "_________________________________________________________________\n",
      "max_pooling2d_4 (MaxPooling2 (None, 23, 23, 64)        0         \n",
      "_________________________________________________________________\n",
      "time_distributed_4 (TimeDist (None, 23, 1472)          0         \n",
      "_________________________________________________________________\n",
      "lstm_10 (LSTM)               (None, 10)                59320     \n",
      "_________________________________________________________________\n",
      "dense_6 (Dense)              (None, 7)                 77        \n",
      "=================================================================\n",
      "Total params: 60,037\n",
      "Trainable params: 60,037\n",
      "Non-trainable params: 0\n",
      "_________________________________________________________________\n",
      "None\n",
      "Epoch 1/30\n",
      "2871/2871 [==============================] - 13s 4ms/step - loss: 1.8545 - accuracy: 0.2132 - val_loss: 1.8154 - val_accuracy: 0.2449\n",
      "Epoch 2/30\n",
      "2871/2871 [==============================] - 12s 4ms/step - loss: 1.8132 - accuracy: 0.2517 - val_loss: 1.8162 - val_accuracy: 0.2449\n",
      "Epoch 3/30\n",
      "2871/2871 [==============================] - 12s 4ms/step - loss: 1.8087 - accuracy: 0.2551 - val_loss: 1.8431 - val_accuracy: 0.2452\n",
      "Epoch 4/30\n",
      "2871/2871 [==============================] - 12s 4ms/step - loss: 1.8216 - accuracy: 0.2469 - val_loss: 1.8152 - val_accuracy: 0.2449\n",
      "Epoch 5/30\n",
      "2871/2871 [==============================] - 12s 4ms/step - loss: 1.8100 - accuracy: 0.2486 - val_loss: 1.8149 - val_accuracy: 0.2449\n",
      "Epoch 6/30\n",
      "2871/2871 [==============================] - 12s 4ms/step - loss: 1.8106 - accuracy: 0.2499 - val_loss: 1.8159 - val_accuracy: 0.2466\n",
      "Epoch 7/30\n",
      "2871/2871 [==============================] - 12s 4ms/step - loss: 1.8164 - accuracy: 0.2434 - val_loss: 1.8166 - val_accuracy: 0.2449\n",
      "Epoch 8/30\n",
      "2871/2871 [==============================] - 12s 4ms/step - loss: 1.8107 - accuracy: 0.2528 - val_loss: 1.8157 - val_accuracy: 0.2446\n",
      "Epoch 9/30\n",
      "2871/2871 [==============================] - 12s 4ms/step - loss: 1.8150 - accuracy: 0.2468 - val_loss: 1.8156 - val_accuracy: 0.2446\n",
      "Epoch 10/30\n",
      "2871/2871 [==============================] - 12s 4ms/step - loss: 1.8083 - accuracy: 0.2554 - val_loss: 1.8157 - val_accuracy: 0.2446\n",
      "Epoch 11/30\n",
      "2871/2871 [==============================] - 12s 4ms/step - loss: 1.8139 - accuracy: 0.2480 - val_loss: 1.8155 - val_accuracy: 0.2446\n",
      "Epoch 12/30\n",
      "2871/2871 [==============================] - 12s 4ms/step - loss: 1.8129 - accuracy: 0.2487 - val_loss: 1.8155 - val_accuracy: 0.2446\n",
      "Epoch 13/30\n",
      "2871/2871 [==============================] - 12s 4ms/step - loss: 1.8101 - accuracy: 0.2516 - val_loss: 1.8152 - val_accuracy: 0.2452\n",
      "Epoch 14/30\n",
      "2871/2871 [==============================] - 12s 4ms/step - loss: 1.8089 - accuracy: 0.2530 - val_loss: 1.8152 - val_accuracy: 0.2452\n",
      "Epoch 15/30\n",
      "2871/2871 [==============================] - 12s 4ms/step - loss: 1.8102 - accuracy: 0.2496 - val_loss: 1.8164 - val_accuracy: 0.2449\n",
      "Epoch 16/30\n",
      "2871/2871 [==============================] - 12s 4ms/step - loss: 1.8144 - accuracy: 0.2512 - val_loss: 1.8157 - val_accuracy: 0.2449\n",
      "Epoch 17/30\n",
      "2871/2871 [==============================] - 12s 4ms/step - loss: 1.8094 - accuracy: 0.2544 - val_loss: 1.8160 - val_accuracy: 0.2449\n",
      "Epoch 18/30\n",
      "2871/2871 [==============================] - 13s 4ms/step - loss: 1.8098 - accuracy: 0.2528 - val_loss: 1.8161 - val_accuracy: 0.2452\n",
      "Epoch 19/30\n",
      "2871/2871 [==============================] - 12s 4ms/step - loss: 1.8084 - accuracy: 0.2508 - val_loss: 1.8156 - val_accuracy: 0.2452\n",
      "Epoch 20/30\n",
      "2871/2871 [==============================] - 12s 4ms/step - loss: 1.8151 - accuracy: 0.2500 - val_loss: 1.8169 - val_accuracy: 0.2452\n",
      "Epoch 21/30\n",
      "2871/2871 [==============================] - 12s 4ms/step - loss: 1.8067 - accuracy: 0.2543 - val_loss: 1.8152 - val_accuracy: 0.2452\n",
      "Epoch 22/30\n",
      "2871/2871 [==============================] - 12s 4ms/step - loss: 1.8119 - accuracy: 0.2526 - val_loss: 1.8152 - val_accuracy: 0.2452\n",
      "Epoch 23/30\n",
      "2871/2871 [==============================] - 12s 4ms/step - loss: 1.8115 - accuracy: 0.2501 - val_loss: 1.8159 - val_accuracy: 0.2452\n",
      "Epoch 24/30\n",
      "2871/2871 [==============================] - 12s 4ms/step - loss: 1.8088 - accuracy: 0.2518 - val_loss: 1.8155 - val_accuracy: 0.2449\n",
      "Epoch 25/30\n",
      "2871/2871 [==============================] - 12s 4ms/step - loss: 1.8095 - accuracy: 0.2508 - val_loss: 1.8158 - val_accuracy: 0.2452\n",
      "Epoch 26/30\n",
      "2871/2871 [==============================] - 12s 4ms/step - loss: 1.8086 - accuracy: 0.2521 - val_loss: 1.8167 - val_accuracy: 0.2452\n",
      "Epoch 27/30\n",
      "2871/2871 [==============================] - 12s 4ms/step - loss: 1.8120 - accuracy: 0.2520 - val_loss: 1.8151 - val_accuracy: 0.2452\n",
      "Epoch 28/30\n",
      "2871/2871 [==============================] - 12s 4ms/step - loss: 1.8090 - accuracy: 0.2539 - val_loss: 1.8160 - val_accuracy: 0.2452\n",
      "Epoch 29/30\n",
      "2871/2871 [==============================] - 12s 4ms/step - loss: 1.8097 - accuracy: 0.2507 - val_loss: 1.8150 - val_accuracy: 0.2452\n",
      "Epoch 30/30\n",
      "2871/2871 [==============================] - 12s 4ms/step - loss: 1.8070 - accuracy: 0.2532 - val_loss: 1.8150 - val_accuracy: 0.2449\n"
     ]
    },
    {
     "data": {
      "text/plain": [
       "<tensorflow.python.keras.callbacks.History at 0x7f5f29def6a0>"
      ]
     },
     "execution_count": 17,
     "metadata": {
      "tags": []
     },
     "output_type": "execute_result"
    }
   ],
   "source": [
    "#CNN+LSTM (CONV2D)\n",
    "from keras.layers import Convolution2D,Dropout,Activation, MaxPooling2D, TimeDistributed, Reshape,Conv2D,Flatten,InputLayer\n",
    "from keras import Sequential\n",
    "from keras.utils import to_categorical\n",
    "from keras.preprocessing.image import ImageDataGenerator\n",
    "from keras import Model\n",
    "cat_Y = to_categorical(Y)\n",
    "cnn = Sequential()\n",
    "model = Sequential()\n",
    "Xr = np.reshape(X,(28709,48,48,1))\n",
    "\n",
    "cat_Testy=to_categorical(ytest)\n",
    "testX=np.reshape(xtest,(3589,48,48,1))\n",
    "\n",
    "model.add(InputLayer(input_shape=(48, 48, 1)))\n",
    "model.add(Conv2D(64, (3, 3)))\n",
    "model.add(MaxPooling2D((2,2), strides=(2,2)))\n",
    "model.add(TimeDistributed(Flatten()))\n",
    "model.add(LSTM(10))\n",
    "model.add(Dense(7,activation='softmax'))\n",
    "model.compile(loss='categorical_crossentropy', optimizer='adam', metrics=['accuracy'])\n",
    "print(model.summary())\n",
    "model.fit(Xr,cat_Y,batch_size=10, epochs=30, validation_data=(testX, cat_Testy))"
   ]
  },
  {
   "cell_type": "code",
   "execution_count": null,
   "metadata": {
    "colab": {
     "base_uri": "https://localhost:8080/"
    },
    "executionInfo": {
     "elapsed": 8062,
     "status": "ok",
     "timestamp": 1610381949271,
     "user": {
      "displayName": "Abdellah Madane",
      "photoUrl": "",
      "userId": "06482294700582109576"
     },
     "user_tz": -60
    },
    "id": "q9M1rGnGADVJ",
    "outputId": "2d59900a-48fc-4ec5-a5a7-cb133ee0e8ed"
   },
   "outputs": [
    {
     "name": "stdout",
     "output_type": "stream",
     "text": [
      "TensorFlow 1.x selected.\n",
      "Collecting keras-vggface\n",
      "  Downloading https://files.pythonhosted.org/packages/2f/7d/5f0319ebdc09ac1a2272364fa9583f5067b6f8aff93fbbf8835d81cbaad7/keras_vggface-0.6-py3-none-any.whl\n",
      "Requirement already satisfied: keras in /tensorflow-1.15.2/python3.6 (from keras-vggface) (2.3.1)\n",
      "Requirement already satisfied: pyyaml in /usr/local/lib/python3.6/dist-packages (from keras-vggface) (3.13)\n",
      "Requirement already satisfied: numpy>=1.9.1 in /usr/local/lib/python3.6/dist-packages (from keras-vggface) (1.19.4)\n",
      "Requirement already satisfied: scipy>=0.14 in /usr/local/lib/python3.6/dist-packages (from keras-vggface) (1.4.1)\n",
      "Requirement already satisfied: pillow in /usr/local/lib/python3.6/dist-packages (from keras-vggface) (7.0.0)\n",
      "Requirement already satisfied: six>=1.9.0 in /usr/local/lib/python3.6/dist-packages (from keras-vggface) (1.15.0)\n",
      "Requirement already satisfied: h5py in /usr/local/lib/python3.6/dist-packages (from keras-vggface) (2.10.0)\n",
      "Requirement already satisfied: keras-preprocessing>=1.0.5 in /usr/local/lib/python3.6/dist-packages (from keras->keras-vggface) (1.1.2)\n",
      "Requirement already satisfied: keras-applications>=1.0.6 in /tensorflow-1.15.2/python3.6 (from keras->keras-vggface) (1.0.8)\n",
      "Installing collected packages: keras-vggface\n",
      "Successfully installed keras-vggface-0.6\n",
      "Requirement already satisfied: scikit-image in /usr/local/lib/python3.6/dist-packages (0.16.2)\n",
      "Requirement already satisfied: scipy>=0.19.0 in /usr/local/lib/python3.6/dist-packages (from scikit-image) (1.4.1)\n",
      "Requirement already satisfied: pillow>=4.3.0 in /usr/local/lib/python3.6/dist-packages (from scikit-image) (7.0.0)\n",
      "Requirement already satisfied: matplotlib!=3.0.0,>=2.0.0 in /usr/local/lib/python3.6/dist-packages (from scikit-image) (3.2.2)\n",
      "Requirement already satisfied: networkx>=2.0 in /usr/local/lib/python3.6/dist-packages (from scikit-image) (2.5)\n",
      "Requirement already satisfied: imageio>=2.3.0 in /usr/local/lib/python3.6/dist-packages (from scikit-image) (2.4.1)\n",
      "Requirement already satisfied: PyWavelets>=0.4.0 in /usr/local/lib/python3.6/dist-packages (from scikit-image) (1.1.1)\n",
      "Requirement already satisfied: numpy>=1.13.3 in /usr/local/lib/python3.6/dist-packages (from scipy>=0.19.0->scikit-image) (1.19.4)\n",
      "Requirement already satisfied: kiwisolver>=1.0.1 in /usr/local/lib/python3.6/dist-packages (from matplotlib!=3.0.0,>=2.0.0->scikit-image) (1.3.1)\n",
      "Requirement already satisfied: pyparsing!=2.0.4,!=2.1.2,!=2.1.6,>=2.0.1 in /usr/local/lib/python3.6/dist-packages (from matplotlib!=3.0.0,>=2.0.0->scikit-image) (2.4.7)\n",
      "Requirement already satisfied: cycler>=0.10 in /usr/local/lib/python3.6/dist-packages (from matplotlib!=3.0.0,>=2.0.0->scikit-image) (0.10.0)\n",
      "Requirement already satisfied: python-dateutil>=2.1 in /usr/local/lib/python3.6/dist-packages (from matplotlib!=3.0.0,>=2.0.0->scikit-image) (2.8.1)\n",
      "Requirement already satisfied: decorator>=4.3.0 in /usr/local/lib/python3.6/dist-packages (from networkx>=2.0->scikit-image) (4.4.2)\n",
      "Requirement already satisfied: six in /usr/local/lib/python3.6/dist-packages (from cycler>=0.10->matplotlib!=3.0.0,>=2.0.0->scikit-image) (1.15.0)\n",
      "Requirement already satisfied: pydot in /usr/local/lib/python3.6/dist-packages (1.3.0)\n",
      "Requirement already satisfied: pyparsing>=2.1.4 in /usr/local/lib/python3.6/dist-packages (from pydot) (2.4.7)\n"
     ]
    }
   ],
   "source": [
    "%tensorflow_version 1.x\n",
    "!pip install keras-vggface\n",
    "!pip install scikit-image\n",
    "!pip install pydot"
   ]
  },
  {
   "cell_type": "code",
   "execution_count": null,
   "metadata": {
    "colab": {
     "base_uri": "https://localhost:8080/"
    },
    "executionInfo": {
     "elapsed": 6205,
     "status": "ok",
     "timestamp": 1610381959031,
     "user": {
      "displayName": "Abdellah Madane",
      "photoUrl": "",
      "userId": "06482294700582109576"
     },
     "user_tz": -60
    },
    "id": "akJK6UDftvC6",
    "outputId": "e84c1b9b-a0c2-43d5-98e0-016749431909"
   },
   "outputs": [
    {
     "name": "stderr",
     "output_type": "stream",
     "text": [
      "Using TensorFlow backend.\n"
     ]
    }
   ],
   "source": [
    "import matplotlib.pyplot as plt\n",
    "import pandas as pd\n",
    "import numpy as np\n",
    "\n",
    "import tensorflow as tf\n",
    "from tensorflow.keras.layers import *\n",
    "from tensorflow.python.lib.io import file_io\n",
    "\n",
    "%matplotlib inline\n",
    "\n",
    "import keras\n",
    "from keras import backend as K\n",
    "from keras.callbacks import ModelCheckpoint, EarlyStopping\n",
    "from keras.models import load_model\n",
    "from keras.preprocessing.image import ImageDataGenerator\n",
    "from keras_vggface.vggface import VGGFace\n",
    "from keras.utils import plot_model\n",
    "from sklearn.metrics import *\n",
    "from keras.engine import Model\n",
    "from keras.layers import Input, Flatten, Dense, Activation, Conv2D, MaxPool2D, BatchNormalization, Dropout, MaxPooling2D\n",
    "import skimage\n",
    "from skimage.transform import rescale, resize\n",
    "\n",
    "import pydot"
   ]
  },
  {
   "cell_type": "code",
   "execution_count": null,
   "metadata": {
    "id": "WesUoXHUPqTg"
   },
   "outputs": [],
   "source": [
    "EPOCHS = 50\n",
    "BS = 128\n",
    "DROPOUT_RATE = 0.5\n",
    "FROZEN_LAYER_NUM = 19\n",
    "\n",
    "ADAM_LEARNING_RATE = 0.001\n",
    "SGD_LEARNING_RATE = 0.01\n",
    "SGD_DECAY = 0.0001\n",
    "\n",
    "Resize_pixelsize = 197"
   ]
  },
  {
   "cell_type": "code",
   "execution_count": null,
   "metadata": {
    "colab": {
     "base_uri": "https://localhost:8080/"
    },
    "executionInfo": {
     "elapsed": 12386,
     "status": "ok",
     "timestamp": 1610381987141,
     "user": {
      "displayName": "Abdellah Madane",
      "photoUrl": "",
      "userId": "06482294700582109576"
     },
     "user_tz": -60
    },
    "id": "nmenyzt9PscQ",
    "outputId": "25c20ac2-73c5-4197-d954-f17beacdb81f"
   },
   "outputs": [
    {
     "name": "stdout",
     "output_type": "stream",
     "text": [
      "WARNING:tensorflow:From /tensorflow-1.15.2/python3.6/tensorflow_core/python/ops/resource_variable_ops.py:1630: calling BaseResourceVariable.__init__ (from tensorflow.python.ops.resource_variable_ops) with constraint is deprecated and will be removed in a future version.\n",
      "Instructions for updating:\n",
      "If using Keras pass *_constraint arguments to layers.\n",
      "WARNING:tensorflow:From /tensorflow-1.15.2/python3.6/keras/backend/tensorflow_backend.py:4070: The name tf.nn.max_pool is deprecated. Please use tf.nn.max_pool2d instead.\n",
      "\n",
      "Downloading data from https://github.com/rcmalli/keras-vggface/releases/download/v2.0/rcmalli_vggface_tf_notop_vgg16.h5\n",
      "58916864/58909280 [==============================] - 2s 0us/step\n",
      "Model: \"vggface_vgg16\"\n",
      "_________________________________________________________________\n",
      "Layer (type)                 Output Shape              Param #   \n",
      "=================================================================\n",
      "input_1 (InputLayer)         (None, 197, 197, 3)       0         \n",
      "_________________________________________________________________\n",
      "conv1_1 (Conv2D)             (None, 197, 197, 64)      1792      \n",
      "_________________________________________________________________\n",
      "conv1_2 (Conv2D)             (None, 197, 197, 64)      36928     \n",
      "_________________________________________________________________\n",
      "pool1 (MaxPooling2D)         (None, 98, 98, 64)        0         \n",
      "_________________________________________________________________\n",
      "conv2_1 (Conv2D)             (None, 98, 98, 128)       73856     \n",
      "_________________________________________________________________\n",
      "conv2_2 (Conv2D)             (None, 98, 98, 128)       147584    \n",
      "_________________________________________________________________\n",
      "pool2 (MaxPooling2D)         (None, 49, 49, 128)       0         \n",
      "_________________________________________________________________\n",
      "conv3_1 (Conv2D)             (None, 49, 49, 256)       295168    \n",
      "_________________________________________________________________\n",
      "conv3_2 (Conv2D)             (None, 49, 49, 256)       590080    \n",
      "_________________________________________________________________\n",
      "conv3_3 (Conv2D)             (None, 49, 49, 256)       590080    \n",
      "_________________________________________________________________\n",
      "pool3 (MaxPooling2D)         (None, 24, 24, 256)       0         \n",
      "_________________________________________________________________\n",
      "conv4_1 (Conv2D)             (None, 24, 24, 512)       1180160   \n",
      "_________________________________________________________________\n",
      "conv4_2 (Conv2D)             (None, 24, 24, 512)       2359808   \n",
      "_________________________________________________________________\n",
      "conv4_3 (Conv2D)             (None, 24, 24, 512)       2359808   \n",
      "_________________________________________________________________\n",
      "pool4 (MaxPooling2D)         (None, 12, 12, 512)       0         \n",
      "_________________________________________________________________\n",
      "conv5_1 (Conv2D)             (None, 12, 12, 512)       2359808   \n",
      "_________________________________________________________________\n",
      "conv5_2 (Conv2D)             (None, 12, 12, 512)       2359808   \n",
      "_________________________________________________________________\n",
      "conv5_3 (Conv2D)             (None, 12, 12, 512)       2359808   \n",
      "_________________________________________________________________\n",
      "pool5 (MaxPooling2D)         (None, 6, 6, 512)         0         \n",
      "_________________________________________________________________\n",
      "global_average_pooling2d_1 ( (None, 512)               0         \n",
      "=================================================================\n",
      "Total params: 14,714,688\n",
      "Trainable params: 14,714,688\n",
      "Non-trainable params: 0\n",
      "_________________________________________________________________\n",
      "None\n",
      "False\n"
     ]
    }
   ],
   "source": [
    "#VGG16\n",
    "vgg_notop = VGGFace(model='vgg16', include_top=False, input_shape=(Resize_pixelsize, Resize_pixelsize, 3), pooling='avg')\n",
    "print(vgg_notop.summary())\n",
    "last_layer = vgg_notop.get_layer('pool5').output\n",
    "x = Flatten(name='flatten')(last_layer)\n",
    "x = Dropout(DROPOUT_RATE)(x)\n",
    "x = Dense(4096, activation='relu', name='fc6')(x)\n",
    "x = Dropout(DROPOUT_RATE)(x)\n",
    "x = Dense(1024, activation='relu', name='fc7')(x)\n",
    "\n",
    "for i in range(FROZEN_LAYER_NUM):\n",
    "    vgg_notop.layers[i].trainable = False\n",
    "\n",
    "print(vgg_notop.get_layer('pool5').trainable) \n",
    "\n",
    "out = Dense(7, activation='softmax', name='classifier')(x)\n",
    "\n",
    "model = Model(vgg_notop.input, out)\n",
    "\n",
    "\n",
    "optim = keras.optimizers.Adam(lr=ADAM_LEARNING_RATE, beta_1=0.9, beta_2=0.999, epsilon=1e-08, decay=0.0)\n",
    "#optim = keras.optimizers.Adam(lr=0.0005, beta_1=0.9, beta_2=0.999, epsilon=1e-08, decay=0.0)\n",
    "sgd = keras.optimizers.SGD(lr=SGD_LEARNING_RATE, momentum=0.9, decay=SGD_DECAY, nesterov=True)\n",
    "rlrop = keras.callbacks.ReduceLROnPlateau(monitor='val_acc',mode='max',factor=0.5, patience=10, min_lr=0.00001, verbose=1)\n",
    "\n",
    "model.compile(optimizer=sgd, loss='categorical_crossentropy', metrics=['accuracy'])"
   ]
  },
  {
   "cell_type": "code",
   "execution_count": null,
   "metadata": {
    "id": "xTjJHY7pPy1t"
   },
   "outputs": [],
   "source": [
    "! rm -rf train; mkdir train\n",
    "! unzip -q '/content/drive/My Drive/train.zip' -d train"
   ]
  },
  {
   "cell_type": "code",
   "execution_count": null,
   "metadata": {
    "id": "urfxl_QBP937"
   },
   "outputs": [],
   "source": [
    "! rm -rf dev; mkdir dev\n",
    "! unzip -q '/content/drive/My Drive/test-public.zip' -d dev"
   ]
  },
  {
   "cell_type": "code",
   "execution_count": null,
   "metadata": {
    "id": "8ookzNxdQFRs"
   },
   "outputs": [],
   "source": [
    "def get_datagen(dataset, aug=False):\n",
    "    if aug:\n",
    "        datagen = ImageDataGenerator(\n",
    "                            rescale=1./255,\n",
    "                            featurewise_center=False,\n",
    "                            featurewise_std_normalization=False,\n",
    "                            rotation_range=10,\n",
    "                            width_shift_range=0.1,\n",
    "                            height_shift_range=0.1,\n",
    "                            zoom_range=0.1,\n",
    "                            horizontal_flip=True)\n",
    "    else:\n",
    "        datagen = ImageDataGenerator(rescale=1./255)\n",
    "\n",
    "    return datagen.flow_from_directory(\n",
    "            dataset,\n",
    "            target_size=(197, 197),\n",
    "            color_mode='rgb',\n",
    "            shuffle = True,\n",
    "            class_mode='categorical',\n",
    "            batch_size=BS)"
   ]
  },
  {
   "cell_type": "code",
   "execution_count": null,
   "metadata": {
    "colab": {
     "base_uri": "https://localhost:8080/"
    },
    "executionInfo": {
     "elapsed": 1005,
     "status": "ok",
     "timestamp": 1610382091954,
     "user": {
      "displayName": "Abdellah Madane",
      "photoUrl": "",
      "userId": "06482294700582109576"
     },
     "user_tz": -60
    },
    "id": "5NqoPT3BQI_E",
    "outputId": "04bfd4b8-493a-48e7-f73d-e915a55d897e"
   },
   "outputs": [
    {
     "name": "stdout",
     "output_type": "stream",
     "text": [
      "Found 28709 images belonging to 7 classes.\n",
      "Found 3589 images belonging to 7 classes.\n"
     ]
    }
   ],
   "source": [
    "train_generator  = get_datagen('/content/train', True)\n",
    "dev_generator    = get_datagen('/content/dev')"
   ]
  },
  {
   "cell_type": "code",
   "execution_count": null,
   "metadata": {
    "colab": {
     "base_uri": "https://localhost:8080/"
    },
    "id": "b-Cvqu5PQTgT",
    "outputId": "9f5b4b39-9e2f-450f-ccde-1db37bc79983"
   },
   "outputs": [
    {
     "name": "stdout",
     "output_type": "stream",
     "text": [
      "Epoch 1/100\n",
      "224/224 [==============================] - 304s 1s/step - loss: 1.4368 - accuracy: 0.4525 - val_loss: 1.1419 - val_accuracy: 0.5764\n",
      "Epoch 2/100\n"
     ]
    },
    {
     "name": "stderr",
     "output_type": "stream",
     "text": [
      "/tensorflow-1.15.2/python3.6/keras/callbacks/callbacks.py:1042: RuntimeWarning: Reduce LR on plateau conditioned on metric `val_acc` which is not available. Available metrics are: val_loss,val_accuracy,loss,accuracy,lr\n",
      "  (self.monitor, ','.join(list(logs.keys()))), RuntimeWarning\n"
     ]
    },
    {
     "name": "stdout",
     "output_type": "stream",
     "text": [
      "223/224 [============================>.] - ETA: 1s - loss: 1.1978 - accuracy: 0.5544Epoch 1/100\n",
      "224/224 [==============================] - 294s 1s/step - loss: 1.1974 - accuracy: 0.5546 - val_loss: 1.2185 - val_accuracy: 0.5893\n",
      "Epoch 3/100\n",
      "224/224 [==============================] - 293s 1s/step - loss: 1.1397 - accuracy: 0.5730 - val_loss: 1.0767 - val_accuracy: 0.6040\n",
      "Epoch 4/100\n",
      "224/224 [==============================] - 289s 1s/step - loss: 1.1184 - accuracy: 0.5791 - val_loss: 0.9801 - val_accuracy: 0.6076\n",
      "Epoch 5/100\n",
      "224/224 [==============================] - 286s 1s/step - loss: 1.0941 - accuracy: 0.5919 - val_loss: 1.1220 - val_accuracy: 0.6034\n",
      "Epoch 6/100\n",
      "224/224 [==============================] - 288s 1s/step - loss: 1.0811 - accuracy: 0.5941 - val_loss: 0.9557 - val_accuracy: 0.6196\n",
      "Epoch 7/100\n",
      "224/224 [==============================] - 291s 1s/step - loss: 1.0614 - accuracy: 0.6017 - val_loss: 0.9933 - val_accuracy: 0.6232\n",
      "Epoch 8/100\n",
      "224/224 [==============================] - 290s 1s/step - loss: 1.0496 - accuracy: 0.6051 - val_loss: 1.0567 - val_accuracy: 0.6100\n",
      "Epoch 9/100\n",
      "224/224 [==============================] - 291s 1s/step - loss: 1.0366 - accuracy: 0.6117 - val_loss: 1.0325 - val_accuracy: 0.6223\n",
      "Epoch 10/100\n",
      "224/224 [==============================] - 290s 1s/step - loss: 1.0188 - accuracy: 0.6185 - val_loss: 0.9676 - val_accuracy: 0.6208\n",
      "Epoch 11/100\n",
      "224/224 [==============================] - 288s 1s/step - loss: 1.0150 - accuracy: 0.6228 - val_loss: 1.0802 - val_accuracy: 0.6304\n",
      "Epoch 12/100\n",
      "224/224 [==============================] - 287s 1s/step - loss: 0.9947 - accuracy: 0.6273 - val_loss: 0.9240 - val_accuracy: 0.6331\n",
      "Epoch 13/100\n",
      "224/224 [==============================] - 287s 1s/step - loss: 0.9932 - accuracy: 0.6284 - val_loss: 0.9291 - val_accuracy: 0.6409\n",
      "Epoch 14/100\n",
      "224/224 [==============================] - 286s 1s/step - loss: 0.9766 - accuracy: 0.6333 - val_loss: 1.0588 - val_accuracy: 0.6349\n",
      "Epoch 15/100\n",
      "224/224 [==============================] - 286s 1s/step - loss: 0.9735 - accuracy: 0.6344 - val_loss: 0.9370 - val_accuracy: 0.6392\n",
      "Epoch 16/100\n",
      "224/224 [==============================] - 285s 1s/step - loss: 0.9620 - accuracy: 0.6415 - val_loss: 0.8608 - val_accuracy: 0.6430\n",
      "Epoch 17/100\n",
      "224/224 [==============================] - 285s 1s/step - loss: 0.9518 - accuracy: 0.6432 - val_loss: 0.8329 - val_accuracy: 0.6331\n",
      "Epoch 18/100\n",
      "224/224 [==============================] - 287s 1s/step - loss: 0.9482 - accuracy: 0.6456 - val_loss: 0.9748 - val_accuracy: 0.6505\n",
      "Epoch 19/100\n",
      "224/224 [==============================] - 287s 1s/step - loss: 0.9326 - accuracy: 0.6522 - val_loss: 0.8297 - val_accuracy: 0.6463\n",
      "Epoch 20/100\n",
      "224/224 [==============================] - 287s 1s/step - loss: 0.9288 - accuracy: 0.6548 - val_loss: 0.8198 - val_accuracy: 0.6592\n",
      "Epoch 21/100\n",
      "224/224 [==============================] - 287s 1s/step - loss: 0.9255 - accuracy: 0.6562 - val_loss: 0.9425 - val_accuracy: 0.6475\n",
      "Epoch 22/100\n",
      "224/224 [==============================] - 287s 1s/step - loss: 0.9117 - accuracy: 0.6615 - val_loss: 1.0143 - val_accuracy: 0.6472\n",
      "Epoch 23/100\n",
      "224/224 [==============================] - 288s 1s/step - loss: 0.9107 - accuracy: 0.6628 - val_loss: 0.8336 - val_accuracy: 0.6541\n",
      "Epoch 24/100\n",
      "224/224 [==============================] - 289s 1s/step - loss: 0.8931 - accuracy: 0.6682 - val_loss: 0.8097 - val_accuracy: 0.6568\n",
      "Epoch 25/100\n",
      "224/224 [==============================] - 288s 1s/step - loss: 0.8873 - accuracy: 0.6723 - val_loss: 0.9179 - val_accuracy: 0.6562\n",
      "Epoch 26/100\n",
      "224/224 [==============================] - 287s 1s/step - loss: 0.8886 - accuracy: 0.6681 - val_loss: 0.8831 - val_accuracy: 0.6580\n",
      "Epoch 27/100\n",
      "224/224 [==============================] - 289s 1s/step - loss: 0.8767 - accuracy: 0.6725 - val_loss: 0.9844 - val_accuracy: 0.6601\n",
      "Epoch 28/100\n",
      "224/224 [==============================] - 288s 1s/step - loss: 0.8735 - accuracy: 0.6767 - val_loss: 1.1450 - val_accuracy: 0.6601\n",
      "Epoch 29/100\n",
      "224/224 [==============================] - 287s 1s/step - loss: 0.8597 - accuracy: 0.6784 - val_loss: 0.7418 - val_accuracy: 0.6601\n",
      "Epoch 30/100\n",
      "224/224 [==============================] - 288s 1s/step - loss: 0.8591 - accuracy: 0.6802 - val_loss: 0.9332 - val_accuracy: 0.6603\n",
      "Epoch 31/100\n",
      "224/224 [==============================] - 289s 1s/step - loss: 0.8524 - accuracy: 0.6807 - val_loss: 0.9125 - val_accuracy: 0.6592\n",
      "Epoch 32/100\n",
      "224/224 [==============================] - 288s 1s/step - loss: 0.8354 - accuracy: 0.6853 - val_loss: 1.0003 - val_accuracy: 0.6646\n",
      "Epoch 33/100\n",
      "224/224 [==============================] - 289s 1s/step - loss: 0.8415 - accuracy: 0.6864 - val_loss: 0.8591 - val_accuracy: 0.6718\n",
      "Epoch 34/100\n",
      "224/224 [==============================] - 287s 1s/step - loss: 0.8328 - accuracy: 0.6898 - val_loss: 1.0438 - val_accuracy: 0.6661\n",
      "Epoch 35/100\n",
      "224/224 [==============================] - 289s 1s/step - loss: 0.8182 - accuracy: 0.6960 - val_loss: 0.7934 - val_accuracy: 0.6628\n",
      "Epoch 36/100\n",
      "224/224 [==============================] - 287s 1s/step - loss: 0.8162 - accuracy: 0.6958 - val_loss: 1.1309 - val_accuracy: 0.6676\n",
      "Epoch 37/100\n",
      "224/224 [==============================] - 288s 1s/step - loss: 0.8051 - accuracy: 0.7028 - val_loss: 0.9685 - val_accuracy: 0.6751\n",
      "Epoch 38/100\n",
      "224/224 [==============================] - 287s 1s/step - loss: 0.8114 - accuracy: 0.6961 - val_loss: 0.9337 - val_accuracy: 0.6631\n",
      "Epoch 39/100\n",
      "224/224 [==============================] - 287s 1s/step - loss: 0.7909 - accuracy: 0.7074 - val_loss: 0.9085 - val_accuracy: 0.6535\n",
      "Epoch 40/100\n",
      "224/224 [==============================] - 287s 1s/step - loss: 0.7883 - accuracy: 0.7068 - val_loss: 0.8748 - val_accuracy: 0.6802\n",
      "Epoch 41/100\n",
      "224/224 [==============================] - 287s 1s/step - loss: 0.7832 - accuracy: 0.7109 - val_loss: 1.0974 - val_accuracy: 0.6574\n",
      "Epoch 42/100\n",
      "224/224 [==============================] - 289s 1s/step - loss: 0.7791 - accuracy: 0.7137 - val_loss: 0.8264 - val_accuracy: 0.6700\n",
      "Epoch 43/100\n",
      "224/224 [==============================] - 288s 1s/step - loss: 0.7685 - accuracy: 0.7170 - val_loss: 1.0193 - val_accuracy: 0.6601\n",
      "Epoch 44/100\n",
      "224/224 [==============================] - 287s 1s/step - loss: 0.7628 - accuracy: 0.7183 - val_loss: 0.9296 - val_accuracy: 0.6707\n",
      "Epoch 45/100\n",
      "224/224 [==============================] - 289s 1s/step - loss: 0.7631 - accuracy: 0.7179 - val_loss: 0.8481 - val_accuracy: 0.6670\n",
      "Epoch 46/100\n",
      "224/224 [==============================] - 289s 1s/step - loss: 0.7643 - accuracy: 0.7164 - val_loss: 0.9586 - val_accuracy: 0.6700\n",
      "Epoch 47/100\n",
      "224/224 [==============================] - 290s 1s/step - loss: 0.7472 - accuracy: 0.7241 - val_loss: 0.7851 - val_accuracy: 0.6814\n",
      "Epoch 48/100\n",
      "224/224 [==============================] - 289s 1s/step - loss: 0.7423 - accuracy: 0.7262 - val_loss: 1.0621 - val_accuracy: 0.6655\n",
      "Epoch 49/100\n",
      "224/224 [==============================] - 289s 1s/step - loss: 0.7292 - accuracy: 0.7298 - val_loss: 0.8526 - val_accuracy: 0.6700\n",
      "Epoch 50/100\n",
      "224/224 [==============================] - 288s 1s/step - loss: 0.7324 - accuracy: 0.7284 - val_loss: 0.9628 - val_accuracy: 0.6676\n",
      "Epoch 51/100\n",
      "224/224 [==============================] - 288s 1s/step - loss: 0.7186 - accuracy: 0.7363 - val_loss: 0.8152 - val_accuracy: 0.6886\n",
      "Epoch 52/100\n",
      "224/224 [==============================] - 287s 1s/step - loss: 0.7188 - accuracy: 0.7322 - val_loss: 0.9529 - val_accuracy: 0.6784\n",
      "Epoch 53/100\n",
      "224/224 [==============================] - 286s 1s/step - loss: 0.7180 - accuracy: 0.7347 - val_loss: 0.9103 - val_accuracy: 0.6769\n",
      "Epoch 54/100\n",
      "224/224 [==============================] - 286s 1s/step - loss: 0.7067 - accuracy: 0.7384 - val_loss: 0.9123 - val_accuracy: 0.6769\n",
      "Epoch 55/100\n",
      "224/224 [==============================] - 288s 1s/step - loss: 0.7015 - accuracy: 0.7420 - val_loss: 0.7969 - val_accuracy: 0.6790\n",
      "Epoch 56/100\n",
      "224/224 [==============================] - 287s 1s/step - loss: 0.6999 - accuracy: 0.7411 - val_loss: 0.9455 - val_accuracy: 0.6805\n",
      "Epoch 57/100\n",
      "224/224 [==============================] - 290s 1s/step - loss: 0.6913 - accuracy: 0.7447 - val_loss: 1.0004 - val_accuracy: 0.6808\n",
      "Epoch 58/100\n",
      "224/224 [==============================] - 289s 1s/step - loss: 0.6845 - accuracy: 0.7473 - val_loss: 1.5360 - val_accuracy: 0.6733\n",
      "Epoch 59/100\n",
      "224/224 [==============================] - 288s 1s/step - loss: 0.6843 - accuracy: 0.7480 - val_loss: 1.1406 - val_accuracy: 0.6829\n",
      "Epoch 60/100\n",
      "224/224 [==============================] - 289s 1s/step - loss: 0.6745 - accuracy: 0.7535 - val_loss: 0.9314 - val_accuracy: 0.6850\n",
      "Epoch 61/100\n",
      "224/224 [==============================] - 290s 1s/step - loss: 0.6697 - accuracy: 0.7535 - val_loss: 0.7973 - val_accuracy: 0.6829\n",
      "Epoch 62/100\n",
      "224/224 [==============================] - 291s 1s/step - loss: 0.6673 - accuracy: 0.7561 - val_loss: 0.8648 - val_accuracy: 0.6865\n",
      "Epoch 63/100\n",
      "224/224 [==============================] - 293s 1s/step - loss: 0.6566 - accuracy: 0.7569 - val_loss: 0.8521 - val_accuracy: 0.6685\n",
      "Epoch 64/100\n",
      "224/224 [==============================] - 288s 1s/step - loss: 0.6484 - accuracy: 0.7615 - val_loss: 0.8943 - val_accuracy: 0.6880\n",
      "Epoch 65/100\n",
      "224/224 [==============================] - 289s 1s/step - loss: 0.6529 - accuracy: 0.7586 - val_loss: 1.2079 - val_accuracy: 0.6871\n",
      "Epoch 66/100\n",
      "224/224 [==============================] - 289s 1s/step - loss: 0.6369 - accuracy: 0.7649 - val_loss: 1.1111 - val_accuracy: 0.6790\n",
      "Epoch 67/100\n",
      "224/224 [==============================] - 289s 1s/step - loss: 0.6423 - accuracy: 0.7645 - val_loss: 1.0779 - val_accuracy: 0.6886\n",
      "Epoch 68/100\n",
      "224/224 [==============================] - 288s 1s/step - loss: 0.6360 - accuracy: 0.7651 - val_loss: 0.9583 - val_accuracy: 0.6835\n",
      "Epoch 69/100\n",
      "224/224 [==============================] - 288s 1s/step - loss: 0.6307 - accuracy: 0.7694 - val_loss: 0.8147 - val_accuracy: 0.6811\n",
      "Epoch 70/100\n",
      "224/224 [==============================] - 292s 1s/step - loss: 0.6260 - accuracy: 0.7704 - val_loss: 0.9845 - val_accuracy: 0.6841\n",
      "Epoch 71/100\n",
      "224/224 [==============================] - 287s 1s/step - loss: 0.6267 - accuracy: 0.7681 - val_loss: 1.0009 - val_accuracy: 0.6796\n",
      "Epoch 72/100\n",
      "224/224 [==============================] - 289s 1s/step - loss: 0.6174 - accuracy: 0.7715 - val_loss: 0.7251 - val_accuracy: 0.6793\n",
      "Epoch 73/100\n",
      "224/224 [==============================] - 290s 1s/step - loss: 0.6142 - accuracy: 0.7728 - val_loss: 0.9313 - val_accuracy: 0.6774\n",
      "Epoch 74/100\n",
      "224/224 [==============================] - 289s 1s/step - loss: 0.6052 - accuracy: 0.7773 - val_loss: 1.0567 - val_accuracy: 0.6793\n",
      "Epoch 75/100\n",
      "224/224 [==============================] - 290s 1s/step - loss: 0.5992 - accuracy: 0.7785 - val_loss: 0.9548 - val_accuracy: 0.6823\n",
      "Epoch 76/100\n",
      "224/224 [==============================] - 290s 1s/step - loss: 0.5993 - accuracy: 0.7796 - val_loss: 0.9537 - val_accuracy: 0.6916\n",
      "Epoch 77/100\n",
      "224/224 [==============================] - 289s 1s/step - loss: 0.5868 - accuracy: 0.7859 - val_loss: 0.9224 - val_accuracy: 0.6790\n",
      "Epoch 78/100\n",
      "224/224 [==============================] - 289s 1s/step - loss: 0.5901 - accuracy: 0.7844 - val_loss: 0.8611 - val_accuracy: 0.6856\n",
      "Epoch 79/100\n",
      "224/224 [==============================] - 289s 1s/step - loss: 0.5800 - accuracy: 0.7878 - val_loss: 0.8032 - val_accuracy: 0.6880\n",
      "Epoch 80/100\n",
      "224/224 [==============================] - 288s 1s/step - loss: 0.5882 - accuracy: 0.7821 - val_loss: 0.8547 - val_accuracy: 0.6781\n",
      "Epoch 81/100\n",
      "224/224 [==============================] - 289s 1s/step - loss: 0.5793 - accuracy: 0.7894 - val_loss: 0.9188 - val_accuracy: 0.6862\n",
      "Epoch 82/100\n",
      "224/224 [==============================] - 295s 1s/step - loss: 0.5736 - accuracy: 0.7882 - val_loss: 0.8464 - val_accuracy: 0.6880\n",
      "Epoch 83/100\n",
      "224/224 [==============================] - 291s 1s/step - loss: 0.5634 - accuracy: 0.7941 - val_loss: 0.9703 - val_accuracy: 0.6892\n",
      "Epoch 84/100\n",
      "224/224 [==============================] - 289s 1s/step - loss: 0.5714 - accuracy: 0.7909 - val_loss: 0.9771 - val_accuracy: 0.6934\n",
      "Epoch 85/100\n",
      "224/224 [==============================] - 291s 1s/step - loss: 0.5644 - accuracy: 0.7933 - val_loss: 0.8454 - val_accuracy: 0.6850\n",
      "Epoch 86/100\n",
      "224/224 [==============================] - 289s 1s/step - loss: 0.5504 - accuracy: 0.7996 - val_loss: 0.8955 - val_accuracy: 0.6856\n",
      "Epoch 87/100\n",
      " 84/224 [==========>...................] - ETA: 2:44 - loss: 0.5637 - accuracy: 0.7886"
     ]
    }
   ],
   "source": [
    "history = model.fit_generator(\n",
    "    generator = train_generator,\n",
    "    validation_data=dev_generator, \n",
    "    steps_per_epoch=28709// BS,\n",
    "    validation_steps=3509 // BS,\n",
    "    shuffle=True,\n",
    "    epochs=100,\n",
    "    callbacks=[rlrop],\n",
    "    use_multiprocessing=True,\n",
    ")"
   ]
  },
  {
   "cell_type": "code",
   "execution_count": null,
   "metadata": {
    "colab": {
     "base_uri": "https://localhost:8080/"
    },
    "executionInfo": {
     "elapsed": 66211,
     "status": "ok",
     "timestamp": 1610470348636,
     "user": {
      "displayName": "Abdellah Madane",
      "photoUrl": "",
      "userId": "06482294700582109576"
     },
     "user_tz": -60
    },
    "id": "J4hXViNqUi4S",
    "outputId": "12bbef24-5241-4f8d-f82f-3e747aeb4f7b"
   },
   "outputs": [
    {
     "name": "stdout",
     "output_type": "stream",
     "text": [
      "WARNING:tensorflow:From /tensorflow-1.15.2/python3.6/tensorflow_core/python/ops/resource_variable_ops.py:1630: calling BaseResourceVariable.__init__ (from tensorflow.python.ops.resource_variable_ops) with constraint is deprecated and will be removed in a future version.\n",
      "Instructions for updating:\n",
      "If using Keras pass *_constraint arguments to layers.\n",
      "WARNING:tensorflow:From /tensorflow-1.15.2/python3.6/keras/backend/tensorflow_backend.py:4070: The name tf.nn.max_pool is deprecated. Please use tf.nn.max_pool2d instead.\n",
      "\n",
      "WARNING:tensorflow:From /tensorflow-1.15.2/python3.6/keras/backend/tensorflow_backend.py:4074: The name tf.nn.avg_pool is deprecated. Please use tf.nn.avg_pool2d instead.\n",
      "\n",
      "Downloading data from https://github.com/rcmalli/keras-vggface/releases/download/v2.0/rcmalli_vggface_tf_notop_resnet50.h5\n",
      "94699520/94694792 [==============================] - 1s 0us/step\n"
     ]
    }
   ],
   "source": [
    "#resnet50\n",
    "FROZEN_LAYER_NUM = 170\n",
    "vgg_notop = VGGFace(model='resnet50', include_top=False, input_shape=(Resize_pixelsize, Resize_pixelsize, 3), pooling='avg')\n",
    "last_layer = vgg_notop.get_layer('avg_pool').output\n",
    "x = Flatten(name='flatten')(last_layer)\n",
    "x = Dropout(DROPOUT_RATE)(x)\n",
    "x = Dense(4096, activation='relu', name='fc6')(x)\n",
    "x = Dropout(DROPOUT_RATE)(x)\n",
    "x = Dense(1024, activation='relu', name='fc7')(x)\n",
    "x = Dropout(DROPOUT_RATE)(x)\n",
    "\n",
    "    \n",
    "batch_norm_indices = [2, 6, 9, 13, 14, 18, 21, 24, 28, 31, 34, 38, 41, 45, 46, 53, 56, 60, 63, 66, 70, 73, 76, 80, 83, 87, 88, 92, 95, 98, 102, 105, 108, 112, 115, 118, 122, 125, 128, 132, 135, 138, 142, 145, 149, 150, 154, 157, 160, 164, 167, 170]\n",
    "for i in range(FROZEN_LAYER_NUM):\n",
    "    if i not in batch_norm_indices:\n",
    "        vgg_notop.layers[i].trainable = False\n",
    "\n",
    "out = Dense(7, activation='softmax', name='classifier')(x)\n",
    "\n",
    "model = Model(vgg_notop.input, out)\n",
    "\n",
    "\n",
    "optim = keras.optimizers.Adam(lr=ADAM_LEARNING_RATE, beta_1=0.9, beta_2=0.999, epsilon=1e-08, decay=0.0)\n",
    "sgd = keras.optimizers.SGD(lr=SGD_LEARNING_RATE, momentum=0.9, decay=SGD_DECAY, nesterov=True)\n",
    "rlrop = keras.callbacks.ReduceLROnPlateau(monitor='val_acc',mode='max',factor=0.5, patience=10, min_lr=0.00001, verbose=1)\n",
    "\n",
    "model.compile(optimizer=sgd, loss='categorical_crossentropy', metrics=['accuracy'])\n",
    "# plot_model(model, to_file='model2.png', show_shapes=True)"
   ]
  },
  {
   "cell_type": "code",
   "execution_count": null,
   "metadata": {
    "colab": {
     "base_uri": "https://localhost:8080/"
    },
    "id": "_4FOzTgAwhDx",
    "outputId": "7d01fde5-dd42-48e4-e6c8-e5db53612508"
   },
   "outputs": [
    {
     "name": "stdout",
     "output_type": "stream",
     "text": [
      "Epoch 1/100\n",
      "224/224 [==============================] - 339s 2s/step - loss: 1.8203 - accuracy: 0.3446 - val_loss: 1.8598 - val_accuracy: 0.1701\n",
      "Epoch 2/100\n"
     ]
    },
    {
     "name": "stderr",
     "output_type": "stream",
     "text": [
      "/tensorflow-1.15.2/python3.6/keras/callbacks/callbacks.py:1042: RuntimeWarning: Reduce LR on plateau conditioned on metric `val_acc` which is not available. Available metrics are: val_loss,val_accuracy,loss,accuracy,lr\n",
      "  (self.monitor, ','.join(list(logs.keys()))), RuntimeWarning\n"
     ]
    },
    {
     "name": "stdout",
     "output_type": "stream",
     "text": [
      "224/224 [==============================] - 332s 1s/step - loss: 1.3699 - accuracy: 0.4828 - val_loss: 2.0599 - val_accuracy: 0.1908\n",
      "Epoch 3/100\n",
      "224/224 [==============================] - 332s 1s/step - loss: 1.2683 - accuracy: 0.5242 - val_loss: 1.5000 - val_accuracy: 0.4269\n",
      "Epoch 4/100\n",
      "224/224 [==============================] - 331s 1s/step - loss: 1.2067 - accuracy: 0.5480 - val_loss: 1.1534 - val_accuracy: 0.5707\n",
      "Epoch 5/100\n",
      "224/224 [==============================] - 331s 1s/step - loss: 1.1565 - accuracy: 0.5682 - val_loss: 1.0918 - val_accuracy: 0.6166\n",
      "Epoch 6/100\n",
      "224/224 [==============================] - 332s 1s/step - loss: 1.1266 - accuracy: 0.5776 - val_loss: 1.0650 - val_accuracy: 0.6217\n",
      "Epoch 7/100\n",
      "224/224 [==============================] - 330s 1s/step - loss: 1.0954 - accuracy: 0.5930 - val_loss: 1.0479 - val_accuracy: 0.6184\n",
      "Epoch 8/100\n",
      "224/224 [==============================] - 331s 1s/step - loss: 1.0771 - accuracy: 0.5977 - val_loss: 0.9228 - val_accuracy: 0.6277\n",
      "Epoch 9/100\n",
      "224/224 [==============================] - 329s 1s/step - loss: 1.0520 - accuracy: 0.6045 - val_loss: 0.9626 - val_accuracy: 0.6340\n",
      "Epoch 10/100\n",
      "224/224 [==============================] - 330s 1s/step - loss: 1.0381 - accuracy: 0.6102 - val_loss: 0.9953 - val_accuracy: 0.6289\n",
      "Epoch 11/100\n",
      "224/224 [==============================] - 329s 1s/step - loss: 1.0207 - accuracy: 0.6175 - val_loss: 0.9600 - val_accuracy: 0.6475\n",
      "Epoch 12/100\n",
      "224/224 [==============================] - 330s 1s/step - loss: 1.0019 - accuracy: 0.6259 - val_loss: 0.9559 - val_accuracy: 0.6412\n",
      "Epoch 13/100\n",
      "224/224 [==============================] - 329s 1s/step - loss: 0.9886 - accuracy: 0.6282 - val_loss: 0.8628 - val_accuracy: 0.6445\n",
      "Epoch 14/100\n",
      "224/224 [==============================] - 328s 1s/step - loss: 0.9741 - accuracy: 0.6332 - val_loss: 0.9855 - val_accuracy: 0.6496\n",
      "Epoch 15/100\n",
      "224/224 [==============================] - 328s 1s/step - loss: 0.9598 - accuracy: 0.6364 - val_loss: 0.9312 - val_accuracy: 0.6464\n",
      "Epoch 16/100\n",
      "224/224 [==============================] - 328s 1s/step - loss: 0.9451 - accuracy: 0.6403 - val_loss: 0.9769 - val_accuracy: 0.6496\n",
      "Epoch 17/100\n",
      "224/224 [==============================] - 327s 1s/step - loss: 0.9401 - accuracy: 0.6476 - val_loss: 0.8580 - val_accuracy: 0.6625\n",
      "Epoch 18/100\n",
      "224/224 [==============================] - 327s 1s/step - loss: 0.9281 - accuracy: 0.6498 - val_loss: 0.9208 - val_accuracy: 0.6640\n",
      "Epoch 19/100\n",
      "224/224 [==============================] - 330s 1s/step - loss: 0.9161 - accuracy: 0.6527 - val_loss: 0.9062 - val_accuracy: 0.6676\n",
      "Epoch 20/100\n",
      "224/224 [==============================] - 329s 1s/step - loss: 0.8933 - accuracy: 0.6642 - val_loss: 0.9955 - val_accuracy: 0.6535\n",
      "Epoch 21/100\n",
      "224/224 [==============================] - 329s 1s/step - loss: 0.9059 - accuracy: 0.6606 - val_loss: 0.9472 - val_accuracy: 0.6676\n",
      "Epoch 22/100\n",
      "224/224 [==============================] - 329s 1s/step - loss: 0.8812 - accuracy: 0.6690 - val_loss: 0.9409 - val_accuracy: 0.6766\n",
      "Epoch 23/100\n",
      "224/224 [==============================] - 329s 1s/step - loss: 0.8743 - accuracy: 0.6706 - val_loss: 0.9191 - val_accuracy: 0.6736\n",
      "Epoch 24/100\n",
      "224/224 [==============================] - 333s 1s/step - loss: 0.8644 - accuracy: 0.6712 - val_loss: 0.9327 - val_accuracy: 0.6739\n",
      "Epoch 25/100\n",
      "224/224 [==============================] - 335s 1s/step - loss: 0.8578 - accuracy: 0.6745 - val_loss: 0.9455 - val_accuracy: 0.6790\n",
      "Epoch 26/100\n",
      "224/224 [==============================] - 332s 1s/step - loss: 0.8512 - accuracy: 0.6767 - val_loss: 0.8684 - val_accuracy: 0.6811\n",
      "Epoch 27/100\n",
      "224/224 [==============================] - 336s 1s/step - loss: 0.8424 - accuracy: 0.6836 - val_loss: 0.9703 - val_accuracy: 0.6697\n",
      "Epoch 28/100\n",
      "224/224 [==============================] - 341s 2s/step - loss: 0.8331 - accuracy: 0.6847 - val_loss: 0.9035 - val_accuracy: 0.6847\n",
      "Epoch 29/100\n",
      "224/224 [==============================] - 337s 2s/step - loss: 0.8234 - accuracy: 0.6902 - val_loss: 0.9435 - val_accuracy: 0.6820\n",
      "Epoch 30/100\n",
      "224/224 [==============================] - 335s 1s/step - loss: 0.8205 - accuracy: 0.6899 - val_loss: 0.9393 - val_accuracy: 0.6823\n",
      "Epoch 31/100\n",
      "224/224 [==============================] - 338s 2s/step - loss: 0.8050 - accuracy: 0.6942 - val_loss: 0.8196 - val_accuracy: 0.6835\n",
      "Epoch 32/100\n",
      "224/224 [==============================] - 343s 2s/step - loss: 0.8017 - accuracy: 0.6970 - val_loss: 0.8036 - val_accuracy: 0.6769\n",
      "Epoch 33/100\n",
      "224/224 [==============================] - 343s 2s/step - loss: 0.7904 - accuracy: 0.7033 - val_loss: 0.9054 - val_accuracy: 0.6931\n",
      "Epoch 34/100\n",
      "224/224 [==============================] - 342s 2s/step - loss: 0.7915 - accuracy: 0.7008 - val_loss: 0.8062 - val_accuracy: 0.6922\n",
      "Epoch 35/100\n",
      "224/224 [==============================] - 333s 1s/step - loss: 0.7766 - accuracy: 0.7069 - val_loss: 0.9166 - val_accuracy: 0.7021\n",
      "Epoch 36/100\n",
      "224/224 [==============================] - 327s 1s/step - loss: 0.7619 - accuracy: 0.7118 - val_loss: 0.7796 - val_accuracy: 0.6733\n",
      "Epoch 37/100\n",
      "224/224 [==============================] - 327s 1s/step - loss: 0.7629 - accuracy: 0.7097 - val_loss: 0.9201 - val_accuracy: 0.6979\n",
      "Epoch 38/100\n",
      "224/224 [==============================] - 331s 1s/step - loss: 0.7556 - accuracy: 0.7140 - val_loss: 0.8308 - val_accuracy: 0.6859\n",
      "Epoch 39/100\n",
      "224/224 [==============================] - 334s 1s/step - loss: 0.7423 - accuracy: 0.7194 - val_loss: 0.7241 - val_accuracy: 0.6976\n",
      "Epoch 40/100\n",
      "224/224 [==============================] - 336s 2s/step - loss: 0.7400 - accuracy: 0.7189 - val_loss: 0.7496 - val_accuracy: 0.6985\n",
      "Epoch 41/100\n",
      "224/224 [==============================] - 340s 2s/step - loss: 0.7362 - accuracy: 0.7217 - val_loss: 0.7820 - val_accuracy: 0.6961\n",
      "Epoch 42/100\n",
      "224/224 [==============================] - 340s 2s/step - loss: 0.7330 - accuracy: 0.7235 - val_loss: 0.9551 - val_accuracy: 0.7012\n",
      "Epoch 43/100\n",
      "224/224 [==============================] - 340s 2s/step - loss: 0.7202 - accuracy: 0.7267 - val_loss: 0.9341 - val_accuracy: 0.6952\n",
      "Epoch 44/100\n",
      "224/224 [==============================] - 341s 2s/step - loss: 0.7180 - accuracy: 0.7286 - val_loss: 0.9285 - val_accuracy: 0.6956\n",
      "Epoch 45/100\n",
      "224/224 [==============================] - 330s 1s/step - loss: 0.7091 - accuracy: 0.7298 - val_loss: 1.0083 - val_accuracy: 0.6961\n",
      "Epoch 46/100\n",
      "224/224 [==============================] - 330s 1s/step - loss: 0.7121 - accuracy: 0.7298 - val_loss: 0.7382 - val_accuracy: 0.7063\n",
      "Epoch 47/100\n",
      "224/224 [==============================] - 330s 1s/step - loss: 0.7025 - accuracy: 0.7336 - val_loss: 0.8144 - val_accuracy: 0.7012\n",
      "Epoch 48/100\n",
      "224/224 [==============================] - 334s 1s/step - loss: 0.6975 - accuracy: 0.7358 - val_loss: 0.9003 - val_accuracy: 0.6979\n",
      "Epoch 49/100\n",
      "224/224 [==============================] - 333s 1s/step - loss: 0.6828 - accuracy: 0.7397 - val_loss: 0.8142 - val_accuracy: 0.6982\n",
      "Epoch 50/100\n",
      "224/224 [==============================] - 331s 1s/step - loss: 0.6716 - accuracy: 0.7454 - val_loss: 0.8317 - val_accuracy: 0.7039\n",
      "Epoch 51/100\n",
      "224/224 [==============================] - 334s 1s/step - loss: 0.6722 - accuracy: 0.7443 - val_loss: 0.8337 - val_accuracy: 0.7021\n",
      "Epoch 52/100\n",
      "224/224 [==============================] - 332s 1s/step - loss: 0.6662 - accuracy: 0.7494 - val_loss: 0.9214 - val_accuracy: 0.7174\n",
      "Epoch 53/100\n",
      "224/224 [==============================] - 334s 1s/step - loss: 0.6604 - accuracy: 0.7495 - val_loss: 0.7389 - val_accuracy: 0.6946\n",
      "Epoch 54/100\n",
      "224/224 [==============================] - 336s 1s/step - loss: 0.6528 - accuracy: 0.7548 - val_loss: 0.9499 - val_accuracy: 0.6928\n",
      "Epoch 55/100\n",
      "224/224 [==============================] - 337s 2s/step - loss: 0.6497 - accuracy: 0.7556 - val_loss: 0.7181 - val_accuracy: 0.7096\n",
      "Epoch 56/100\n",
      "224/224 [==============================] - 339s 2s/step - loss: 0.6416 - accuracy: 0.7544 - val_loss: 0.8746 - val_accuracy: 0.6943\n",
      "Epoch 57/100\n",
      "224/224 [==============================] - 339s 2s/step - loss: 0.6399 - accuracy: 0.7571 - val_loss: 0.8386 - val_accuracy: 0.7063\n",
      "Epoch 58/100\n",
      "224/224 [==============================] - 342s 2s/step - loss: 0.6313 - accuracy: 0.7597 - val_loss: 1.0759 - val_accuracy: 0.7024\n",
      "Epoch 59/100\n",
      "224/224 [==============================] - 342s 2s/step - loss: 0.6239 - accuracy: 0.7648 - val_loss: 0.7640 - val_accuracy: 0.7060\n",
      "Epoch 60/100\n",
      "224/224 [==============================] - 338s 2s/step - loss: 0.6161 - accuracy: 0.7672 - val_loss: 0.8718 - val_accuracy: 0.7102\n",
      "Epoch 61/100\n",
      "224/224 [==============================] - 337s 2s/step - loss: 0.6028 - accuracy: 0.7723 - val_loss: 0.8397 - val_accuracy: 0.6976\n",
      "Epoch 62/100\n",
      "224/224 [==============================] - 342s 2s/step - loss: 0.6193 - accuracy: 0.7666 - val_loss: 0.8692 - val_accuracy: 0.7045\n",
      "Epoch 63/100\n",
      "224/224 [==============================] - 339s 2s/step - loss: 0.6050 - accuracy: 0.7724 - val_loss: 0.9506 - val_accuracy: 0.7084\n",
      "Epoch 64/100\n",
      "224/224 [==============================] - 339s 2s/step - loss: 0.5949 - accuracy: 0.7778 - val_loss: 0.9770 - val_accuracy: 0.6979\n",
      "Epoch 65/100\n",
      "224/224 [==============================] - 330s 1s/step - loss: 0.5982 - accuracy: 0.7764 - val_loss: 0.8186 - val_accuracy: 0.7006\n",
      "Epoch 66/100\n",
      "224/224 [==============================] - 329s 1s/step - loss: 0.5934 - accuracy: 0.7756 - val_loss: 0.8913 - val_accuracy: 0.6964\n",
      "Epoch 67/100\n",
      "224/224 [==============================] - 327s 1s/step - loss: 0.5879 - accuracy: 0.7767 - val_loss: 0.9925 - val_accuracy: 0.7051\n",
      "Epoch 68/100\n",
      "224/224 [==============================] - 329s 1s/step - loss: 0.5755 - accuracy: 0.7815 - val_loss: 0.8382 - val_accuracy: 0.6958\n",
      "Epoch 69/100\n",
      "224/224 [==============================] - 330s 1s/step - loss: 0.5767 - accuracy: 0.7834 - val_loss: 0.7577 - val_accuracy: 0.7090\n",
      "Epoch 70/100\n",
      "224/224 [==============================] - 327s 1s/step - loss: 0.5694 - accuracy: 0.7848 - val_loss: 0.7920 - val_accuracy: 0.7000\n",
      "Epoch 71/100\n",
      "224/224 [==============================] - 328s 1s/step - loss: 0.5710 - accuracy: 0.7841 - val_loss: 0.8437 - val_accuracy: 0.7042\n",
      "Epoch 72/100\n",
      "224/224 [==============================] - 327s 1s/step - loss: 0.5621 - accuracy: 0.7862 - val_loss: 0.7556 - val_accuracy: 0.7030\n",
      "Epoch 73/100\n",
      "224/224 [==============================] - 329s 1s/step - loss: 0.5653 - accuracy: 0.7879 - val_loss: 0.9474 - val_accuracy: 0.7049\n",
      "Epoch 74/100\n",
      "224/224 [==============================] - 329s 1s/step - loss: 0.5482 - accuracy: 0.7952 - val_loss: 0.7034 - val_accuracy: 0.7000\n",
      "Epoch 75/100\n",
      "224/224 [==============================] - 329s 1s/step - loss: 0.5438 - accuracy: 0.7930 - val_loss: 0.7184 - val_accuracy: 0.7093\n",
      "Epoch 76/100\n",
      "224/224 [==============================] - 329s 1s/step - loss: 0.5430 - accuracy: 0.7975 - val_loss: 0.7143 - val_accuracy: 0.7006\n",
      "Epoch 77/100\n",
      "224/224 [==============================] - 328s 1s/step - loss: 0.5442 - accuracy: 0.7928 - val_loss: 1.0087 - val_accuracy: 0.7036\n",
      "Epoch 78/100\n",
      "224/224 [==============================] - 328s 1s/step - loss: 0.5330 - accuracy: 0.7975 - val_loss: 0.8780 - val_accuracy: 0.7087\n",
      "Epoch 79/100\n",
      "224/224 [==============================] - 330s 1s/step - loss: 0.5338 - accuracy: 0.7949 - val_loss: 0.8903 - val_accuracy: 0.6886\n",
      "Epoch 80/100\n",
      "224/224 [==============================] - 327s 1s/step - loss: 0.5344 - accuracy: 0.7995 - val_loss: 0.8090 - val_accuracy: 0.7186\n",
      "Epoch 81/100\n",
      "224/224 [==============================] - 329s 1s/step - loss: 0.5254 - accuracy: 0.8039 - val_loss: 0.9974 - val_accuracy: 0.6883\n",
      "Epoch 82/100\n",
      "224/224 [==============================] - 330s 1s/step - loss: 0.5206 - accuracy: 0.8046 - val_loss: 0.8105 - val_accuracy: 0.7138\n",
      "Epoch 83/100\n",
      "224/224 [==============================] - 326s 1s/step - loss: 0.5254 - accuracy: 0.8019 - val_loss: 0.9674 - val_accuracy: 0.7093\n",
      "Epoch 84/100\n",
      "224/224 [==============================] - 329s 1s/step - loss: 0.5086 - accuracy: 0.8072 - val_loss: 0.7943 - val_accuracy: 0.7006\n",
      "Epoch 85/100\n",
      "224/224 [==============================] - 329s 1s/step - loss: 0.5091 - accuracy: 0.8095 - val_loss: 0.8781 - val_accuracy: 0.7057\n",
      "Epoch 86/100\n",
      "224/224 [==============================] - 331s 1s/step - loss: 0.5144 - accuracy: 0.8042 - val_loss: 0.6887 - val_accuracy: 0.7096\n",
      "Epoch 87/100\n",
      "224/224 [==============================] - 326s 1s/step - loss: 0.4907 - accuracy: 0.8146 - val_loss: 0.9425 - val_accuracy: 0.7093\n",
      "Epoch 88/100\n",
      "224/224 [==============================] - 330s 1s/step - loss: 0.4963 - accuracy: 0.8122 - val_loss: 0.7569 - val_accuracy: 0.7069\n",
      "Epoch 89/100\n",
      " 43/224 [====>.........................] - ETA: 3:54 - loss: 0.4931 - accuracy: 0.8143"
     ]
    }
   ],
   "source": [
    "history = model.fit_generator(\n",
    "    generator = train_generator,\n",
    "    validation_data=dev_generator, \n",
    "    steps_per_epoch=28709// BS,\n",
    "    validation_steps=3509 // BS,\n",
    "    shuffle=True,\n",
    "    epochs=100,\n",
    "    callbacks=[rlrop],\n",
    "    use_multiprocessing=True,\n",
    ")"
   ]
  },
  {
   "cell_type": "code",
   "execution_count": null,
   "metadata": {
    "id": "5z9XhgdgwkHk"
   },
   "outputs": [],
   "source": [
    "# list all data in history\n",
    "print(history.history.keys())\n",
    "# summarize history for accuracy\n",
    "plt.plot(history.history['acc'])\n",
    "plt.plot(history.history['val_acc'])\n",
    "plt.title('model accuracy')\n",
    "plt.ylabel('accuracy')\n",
    "plt.xlabel('epoch')\n",
    "plt.legend(['train', 'test'], loc='upper left')\n",
    "plt.show()\n",
    "# summarize history for loss\n",
    "plt.plot(history.history['loss'])\n",
    "plt.plot(history.history['val_loss'])\n",
    "plt.title('model loss')\n",
    "plt.ylabel('loss')\n",
    "plt.xlabel('epoch')\n",
    "plt.legend(['train', 'test'], loc='upper left')\n",
    "plt.show()\n"
   ]
  },
  {
   "cell_type": "code",
   "execution_count": null,
   "metadata": {
    "id": "6K419xDSwdWj"
   },
   "outputs": [],
   "source": [
    "# list all data in history\n",
    "print(history.history.keys())\n",
    "# summarize history for accuracy\n",
    "plt.plot(history.history['acc'])\n",
    "plt.plot(history.history['val_acc'])\n",
    "plt.title('model accuracy')\n",
    "plt.ylabel('accuracy')\n",
    "plt.xlabel('epoch')\n",
    "plt.legend(['train', 'test'], loc='upper left')\n",
    "plt.show()\n",
    "# summarize history for loss\n",
    "plt.plot(history.history['loss'])\n",
    "plt.plot(history.history['val_loss'])\n",
    "plt.title('model loss')\n",
    "plt.ylabel('loss')\n",
    "plt.xlabel('epoch')\n",
    "plt.legend(['train', 'test'], loc='upper left')\n",
    "plt.show()"
   ]
  },
  {
   "cell_type": "code",
   "execution_count": null,
   "metadata": {
    "id": "8KNQdiql3nRE"
   },
   "outputs": [],
   "source": [
    "import tensorflow as tf\n",
    "import numpy as np\n",
    "import pandas as pd\n",
    "import matplotlib.pyplot as plt\n",
    "import seaborn as sns\n",
    "from tensorflow.keras.callbacks import Callback, EarlyStopping, ReduceLROnPlateau"
   ]
  },
  {
   "cell_type": "code",
   "execution_count": null,
   "metadata": {
    "id": "274lFqy-3udD"
   },
   "outputs": [],
   "source": [
    "import tarfile\n",
    "taf = tarfile.open(\"/content/drive/MyDrive/fer2013 (1).tar.gz\")\n",
    "taf.extractall()"
   ]
  },
  {
   "cell_type": "code",
   "execution_count": null,
   "metadata": {
    "id": "RxrLuq5J34HC"
   },
   "outputs": [],
   "source": [
    "data = pd.read_csv('/content/fer2013/fer2013.csv')"
   ]
  },
  {
   "cell_type": "code",
   "execution_count": null,
   "metadata": {
    "id": "9vy0MGBC4G84"
   },
   "outputs": [],
   "source": [
    "data['emotion'].replace({0:'Angry', 1:'Disgust', 2:'Fear', 3:'Happy', 4:'Sad', 5:'Surprise', 6:'Neutral'}, inplace=True)\n"
   ]
  },
  {
   "cell_type": "code",
   "execution_count": null,
   "metadata": {
    "colab": {
     "base_uri": "https://localhost:8080/",
     "height": 204
    },
    "executionInfo": {
     "elapsed": 7136,
     "status": "ok",
     "timestamp": 1610376863539,
     "user": {
      "displayName": "Abdellah Madane",
      "photoUrl": "",
      "userId": "06482294700582109576"
     },
     "user_tz": -60
    },
    "id": "_Kc8sRCG4CKK",
    "outputId": "5e81d5aa-dc85-48cc-c417-6b93bd7897f6"
   },
   "outputs": [
    {
     "data": {
      "text/html": [
       "<div>\n",
       "<style scoped>\n",
       "    .dataframe tbody tr th:only-of-type {\n",
       "        vertical-align: middle;\n",
       "    }\n",
       "\n",
       "    .dataframe tbody tr th {\n",
       "        vertical-align: top;\n",
       "    }\n",
       "\n",
       "    .dataframe thead th {\n",
       "        text-align: right;\n",
       "    }\n",
       "</style>\n",
       "<table border=\"1\" class=\"dataframe\">\n",
       "  <thead>\n",
       "    <tr style=\"text-align: right;\">\n",
       "      <th></th>\n",
       "      <th>emotion</th>\n",
       "      <th>pixels</th>\n",
       "      <th>Usage</th>\n",
       "    </tr>\n",
       "  </thead>\n",
       "  <tbody>\n",
       "    <tr>\n",
       "      <th>0</th>\n",
       "      <td>Angry</td>\n",
       "      <td>70 80 82 72 58 58 60 63 54 58 60 48 89 115 121...</td>\n",
       "      <td>Training</td>\n",
       "    </tr>\n",
       "    <tr>\n",
       "      <th>1</th>\n",
       "      <td>Angry</td>\n",
       "      <td>151 150 147 155 148 133 111 140 170 174 182 15...</td>\n",
       "      <td>Training</td>\n",
       "    </tr>\n",
       "    <tr>\n",
       "      <th>2</th>\n",
       "      <td>Fear</td>\n",
       "      <td>231 212 156 164 174 138 161 173 182 200 106 38...</td>\n",
       "      <td>Training</td>\n",
       "    </tr>\n",
       "    <tr>\n",
       "      <th>3</th>\n",
       "      <td>Sad</td>\n",
       "      <td>24 32 36 30 32 23 19 20 30 41 21 22 32 34 21 1...</td>\n",
       "      <td>Training</td>\n",
       "    </tr>\n",
       "    <tr>\n",
       "      <th>4</th>\n",
       "      <td>Neutral</td>\n",
       "      <td>4 0 0 0 0 0 0 0 0 0 0 0 3 15 23 28 48 50 58 84...</td>\n",
       "      <td>Training</td>\n",
       "    </tr>\n",
       "  </tbody>\n",
       "</table>\n",
       "</div>"
      ],
      "text/plain": [
       "   emotion                                             pixels     Usage\n",
       "0    Angry  70 80 82 72 58 58 60 63 54 58 60 48 89 115 121...  Training\n",
       "1    Angry  151 150 147 155 148 133 111 140 170 174 182 15...  Training\n",
       "2     Fear  231 212 156 164 174 138 161 173 182 200 106 38...  Training\n",
       "3      Sad  24 32 36 30 32 23 19 20 30 41 21 22 32 34 21 1...  Training\n",
       "4  Neutral  4 0 0 0 0 0 0 0 0 0 0 0 3 15 23 28 48 50 58 84...  Training"
      ]
     },
     "execution_count": 30,
     "metadata": {
      "tags": []
     },
     "output_type": "execute_result"
    }
   ],
   "source": [
    "data.head()"
   ]
  },
  {
   "cell_type": "code",
   "execution_count": null,
   "metadata": {
    "colab": {
     "base_uri": "https://localhost:8080/"
    },
    "executionInfo": {
     "elapsed": 7123,
     "status": "ok",
     "timestamp": 1610376863540,
     "user": {
      "displayName": "Abdellah Madane",
      "photoUrl": "",
      "userId": "06482294700582109576"
     },
     "user_tz": -60
    },
    "id": "1LAf8Cy44RzM",
    "outputId": "00809975-c12b-4fc9-8fe3-732b72fbca47"
   },
   "outputs": [
    {
     "data": {
      "text/plain": [
       "Training       28709\n",
       "PublicTest      3589\n",
       "PrivateTest     3589\n",
       "Name: Usage, dtype: int64"
      ]
     },
     "execution_count": 31,
     "metadata": {
      "tags": []
     },
     "output_type": "execute_result"
    }
   ],
   "source": [
    "data['Usage'].value_counts()"
   ]
  },
  {
   "cell_type": "code",
   "execution_count": null,
   "metadata": {
    "id": "X0TzzvHT4ZI1"
   },
   "outputs": [],
   "source": [
    "train_data = data[:][0:28709]\n",
    "test_data = data[:][28709:]\n",
    "test_data.reset_index(inplace=True)\n",
    "\n",
    "test_data.drop(['index', 'Usage'], axis=1, inplace=True)\n",
    "train_data.drop('Usage', axis=1, inplace=True)\n",
    "needed_sample_label = ['Sad', 'Neutral', 'Happy']\n",
    "train = train_data[train_data['emotion'].isin(needed_sample_label)]\n",
    "test = test_data[test_data['emotion'].isin(needed_sample_label)]"
   ]
  },
  {
   "cell_type": "code",
   "execution_count": null,
   "metadata": {
    "colab": {
     "base_uri": "https://localhost:8080/"
    },
    "executionInfo": {
     "elapsed": 7108,
     "status": "ok",
     "timestamp": 1610376863543,
     "user": {
      "displayName": "Abdellah Madane",
      "photoUrl": "",
      "userId": "06482294700582109576"
     },
     "user_tz": -60
    },
    "id": "gGnRAH5c4-CX",
    "outputId": "99c578fb-cd0b-41f1-c7c5-2510469931f5"
   },
   "outputs": [
    {
     "name": "stderr",
     "output_type": "stream",
     "text": [
      "/usr/local/lib/python3.6/dist-packages/pandas/core/frame.py:4174: SettingWithCopyWarning: \n",
      "A value is trying to be set on a copy of a slice from a DataFrame\n",
      "\n",
      "See the caveats in the documentation: https://pandas.pydata.org/pandas-docs/stable/user_guide/indexing.html#returning-a-view-versus-a-copy\n",
      "  errors=errors,\n"
     ]
    }
   ],
   "source": [
    "train.reset_index(inplace=True)\n",
    "test.reset_index(inplace=True)\n",
    "train.drop('index', axis=1, inplace=True)\n",
    "test.drop('index', axis=1, inplace=True)"
   ]
  },
  {
   "cell_type": "code",
   "execution_count": null,
   "metadata": {
    "colab": {
     "base_uri": "https://localhost:8080/"
    },
    "executionInfo": {
     "elapsed": 7100,
     "status": "ok",
     "timestamp": 1610376863545,
     "user": {
      "displayName": "Abdellah Madane",
      "photoUrl": "",
      "userId": "06482294700582109576"
     },
     "user_tz": -60
    },
    "id": "uDekBIgf4lvJ",
    "outputId": "65592961-c8fb-46ac-dbed-87d9606001e2"
   },
   "outputs": [
    {
     "data": {
      "text/plain": [
       "(28709, 2)"
      ]
     },
     "execution_count": 34,
     "metadata": {
      "tags": []
     },
     "output_type": "execute_result"
    }
   ],
   "source": [
    "train_data.shape"
   ]
  },
  {
   "cell_type": "code",
   "execution_count": null,
   "metadata": {
    "colab": {
     "base_uri": "https://localhost:8080/"
    },
    "executionInfo": {
     "elapsed": 7091,
     "status": "ok",
     "timestamp": 1610376863546,
     "user": {
      "displayName": "Abdellah Madane",
      "photoUrl": "",
      "userId": "06482294700582109576"
     },
     "user_tz": -60
    },
    "id": "MOmkQqDG4nkB",
    "outputId": "9b3d3ec5-a6fd-4d7a-e6e7-eac72dac31b8"
   },
   "outputs": [
    {
     "data": {
      "text/plain": [
       "(7178, 2)"
      ]
     },
     "execution_count": 35,
     "metadata": {
      "tags": []
     },
     "output_type": "execute_result"
    }
   ],
   "source": [
    "test_data.shape"
   ]
  },
  {
   "cell_type": "code",
   "execution_count": null,
   "metadata": {
    "colab": {
     "base_uri": "https://localhost:8080/"
    },
    "executionInfo": {
     "elapsed": 24488,
     "status": "ok",
     "timestamp": 1610376880953,
     "user": {
      "displayName": "Abdellah Madane",
      "photoUrl": "",
      "userId": "06482294700582109576"
     },
     "user_tz": -60
    },
    "id": "6cosrY4J5jjT",
    "outputId": "f08a25ed-71d7-4a01-ce29-444eb33c2fb8"
   },
   "outputs": [
    {
     "data": {
      "text/plain": [
       "(17010, 48, 48, 1)"
      ]
     },
     "execution_count": 36,
     "metadata": {
      "tags": []
     },
     "output_type": "execute_result"
    }
   ],
   "source": [
    "x_train = []\n",
    "\n",
    "for i in range(len(train['emotion'])):\n",
    "  x_train.append(np.array(train['pixels'][i].split(' ')).reshape(48,48,1).astype('float32'))\n",
    "\n",
    "x_train = np.array(x_train)\n",
    "x_train.shape"
   ]
  },
  {
   "cell_type": "code",
   "execution_count": null,
   "metadata": {
    "id": "-FFtSjmS5pbV"
   },
   "outputs": [],
   "source": [
    "from sklearn.preprocessing import LabelEncoder\n",
    "from keras.utils import np_utils"
   ]
  },
  {
   "cell_type": "code",
   "execution_count": null,
   "metadata": {
    "colab": {
     "base_uri": "https://localhost:8080/"
    },
    "executionInfo": {
     "elapsed": 24467,
     "status": "ok",
     "timestamp": 1610376880954,
     "user": {
      "displayName": "Abdellah Madane",
      "photoUrl": "",
      "userId": "06482294700582109576"
     },
     "user_tz": -60
    },
    "id": "lbnSoj0T5rvX",
    "outputId": "1e97c5cd-17f3-4b5a-8e76-cb6c531e38f0"
   },
   "outputs": [
    {
     "data": {
      "text/plain": [
       "(17010, 3)"
      ]
     },
     "execution_count": 38,
     "metadata": {
      "tags": []
     },
     "output_type": "execute_result"
    }
   ],
   "source": [
    "le = LabelEncoder()\n",
    "y_train = le.fit_transform(train['emotion'])\n",
    "y_train = np_utils.to_categorical(y_train)\n",
    "y_train.shape"
   ]
  },
  {
   "cell_type": "code",
   "execution_count": null,
   "metadata": {
    "id": "0ZF4psqv5x-s"
   },
   "outputs": [],
   "source": [
    "x_test = []\n",
    "\n",
    "for i in range(len(test['emotion'])):\n",
    "  x_test.append(np.array(test['pixels'][i].split(' ')).reshape(48,48,1).astype('float32'))"
   ]
  },
  {
   "cell_type": "code",
   "execution_count": null,
   "metadata": {
    "colab": {
     "base_uri": "https://localhost:8080/"
    },
    "executionInfo": {
     "elapsed": 28616,
     "status": "ok",
     "timestamp": 1610376885136,
     "user": {
      "displayName": "Abdellah Madane",
      "photoUrl": "",
      "userId": "06482294700582109576"
     },
     "user_tz": -60
    },
    "id": "m11ER-xX5z1F",
    "outputId": "7c92cd8b-816b-4c00-925a-65261aef2c6a"
   },
   "outputs": [
    {
     "data": {
      "text/plain": [
       "(4254, 48, 48, 1)"
      ]
     },
     "execution_count": 40,
     "metadata": {
      "tags": []
     },
     "output_type": "execute_result"
    }
   ],
   "source": [
    "x_test = np.array(x_test)\n",
    "x_test.shape"
   ]
  },
  {
   "cell_type": "code",
   "execution_count": null,
   "metadata": {
    "colab": {
     "base_uri": "https://localhost:8080/"
    },
    "executionInfo": {
     "elapsed": 28599,
     "status": "ok",
     "timestamp": 1610376885137,
     "user": {
      "displayName": "Abdellah Madane",
      "photoUrl": "",
      "userId": "06482294700582109576"
     },
     "user_tz": -60
    },
    "id": "zBtyLhV152hs",
    "outputId": "0897d3cc-3c1d-4e09-ebd5-37990ca3c0e8"
   },
   "outputs": [
    {
     "data": {
      "text/plain": [
       "(4254, 3)"
      ]
     },
     "execution_count": 41,
     "metadata": {
      "tags": []
     },
     "output_type": "execute_result"
    }
   ],
   "source": [
    "le = LabelEncoder()\n",
    "y_test = le.fit_transform(test['emotion'])\n",
    "y_test = np_utils.to_categorical(y_test)\n",
    "y_test.shape"
   ]
  },
  {
   "cell_type": "code",
   "execution_count": null,
   "metadata": {
    "id": "3XD4U3nf55IQ"
   },
   "outputs": [],
   "source": [
    "x_train = x_train/255\n",
    "x_test = x_test/255"
   ]
  },
  {
   "cell_type": "code",
   "execution_count": null,
   "metadata": {
    "colab": {
     "base_uri": "https://localhost:8080/"
    },
    "executionInfo": {
     "elapsed": 8022,
     "status": "ok",
     "timestamp": 1610379281521,
     "user": {
      "displayName": "Abdellah Madane",
      "photoUrl": "",
      "userId": "06482294700582109576"
     },
     "user_tz": -60
    },
    "id": "hPHfOr88FY-O",
    "outputId": "59a4e993-c366-441e-c8dc-09c1a9138f21"
   },
   "outputs": [
    {
     "name": "stdout",
     "output_type": "stream",
     "text": [
      "Collecting keras-tuner\n",
      "\u001b[?25l  Downloading https://files.pythonhosted.org/packages/20/ec/1ef246787174b1e2bb591c95f29d3c1310070cad877824f907faba3dade9/keras-tuner-1.0.2.tar.gz (62kB)\n",
      "\r",
      "\u001b[K     |█████▏                          | 10kB 16.7MB/s eta 0:00:01\r",
      "\u001b[K     |██████████▍                     | 20kB 11.0MB/s eta 0:00:01\r",
      "\u001b[K     |███████████████▋                | 30kB 9.6MB/s eta 0:00:01\r",
      "\u001b[K     |████████████████████▉           | 40kB 7.8MB/s eta 0:00:01\r",
      "\u001b[K     |██████████████████████████      | 51kB 4.3MB/s eta 0:00:01\r",
      "\u001b[K     |███████████████████████████████▎| 61kB 4.9MB/s eta 0:00:01\r",
      "\u001b[K     |████████████████████████████████| 71kB 3.5MB/s \n",
      "\u001b[?25hRequirement already satisfied: packaging in /usr/local/lib/python3.6/dist-packages (from keras-tuner) (20.8)\n",
      "Requirement already satisfied: future in /usr/local/lib/python3.6/dist-packages (from keras-tuner) (0.16.0)\n",
      "Requirement already satisfied: numpy in /usr/local/lib/python3.6/dist-packages (from keras-tuner) (1.19.4)\n",
      "Requirement already satisfied: tabulate in /usr/local/lib/python3.6/dist-packages (from keras-tuner) (0.8.7)\n",
      "Collecting terminaltables\n",
      "  Downloading https://files.pythonhosted.org/packages/9b/c4/4a21174f32f8a7e1104798c445dacdc1d4df86f2f26722767034e4de4bff/terminaltables-3.1.0.tar.gz\n",
      "Collecting colorama\n",
      "  Downloading https://files.pythonhosted.org/packages/44/98/5b86278fbbf250d239ae0ecb724f8572af1c91f4a11edf4d36a206189440/colorama-0.4.4-py2.py3-none-any.whl\n",
      "Requirement already satisfied: tqdm in /usr/local/lib/python3.6/dist-packages (from keras-tuner) (4.41.1)\n",
      "Requirement already satisfied: requests in /usr/local/lib/python3.6/dist-packages (from keras-tuner) (2.23.0)\n",
      "Requirement already satisfied: scipy in /usr/local/lib/python3.6/dist-packages (from keras-tuner) (1.4.1)\n",
      "Requirement already satisfied: scikit-learn in /usr/local/lib/python3.6/dist-packages (from keras-tuner) (0.22.2.post1)\n",
      "Requirement already satisfied: pyparsing>=2.0.2 in /usr/local/lib/python3.6/dist-packages (from packaging->keras-tuner) (2.4.7)\n",
      "Requirement already satisfied: chardet<4,>=3.0.2 in /usr/local/lib/python3.6/dist-packages (from requests->keras-tuner) (3.0.4)\n",
      "Requirement already satisfied: idna<3,>=2.5 in /usr/local/lib/python3.6/dist-packages (from requests->keras-tuner) (2.10)\n",
      "Requirement already satisfied: certifi>=2017.4.17 in /usr/local/lib/python3.6/dist-packages (from requests->keras-tuner) (2020.12.5)\n",
      "Requirement already satisfied: urllib3!=1.25.0,!=1.25.1,<1.26,>=1.21.1 in /usr/local/lib/python3.6/dist-packages (from requests->keras-tuner) (1.24.3)\n",
      "Requirement already satisfied: joblib>=0.11 in /usr/local/lib/python3.6/dist-packages (from scikit-learn->keras-tuner) (1.0.0)\n",
      "Building wheels for collected packages: keras-tuner, terminaltables\n",
      "  Building wheel for keras-tuner (setup.py) ... \u001b[?25l\u001b[?25hdone\n",
      "  Created wheel for keras-tuner: filename=keras_tuner-1.0.2-cp36-none-any.whl size=78939 sha256=ae222adbb7683fc3efe3e2c64c7f20c4879ed3114b5d832c87881973aca8ccb2\n",
      "  Stored in directory: /root/.cache/pip/wheels/bb/a1/8a/7c3de0efb3707a1701b36ebbfdbc4e67aedf6d4943a1f463d6\n",
      "  Building wheel for terminaltables (setup.py) ... \u001b[?25l\u001b[?25hdone\n",
      "  Created wheel for terminaltables: filename=terminaltables-3.1.0-cp36-none-any.whl size=15358 sha256=1182c222f6d92e06fdf322adf3c0a194d4b44163e2b93961a084f535b14edb2b\n",
      "  Stored in directory: /root/.cache/pip/wheels/30/6b/50/6c75775b681fb36cdfac7f19799888ef9d8813aff9e379663e\n",
      "Successfully built keras-tuner terminaltables\n",
      "Installing collected packages: terminaltables, colorama, keras-tuner\n",
      "Successfully installed colorama-0.4.4 keras-tuner-1.0.2 terminaltables-3.1.0\n"
     ]
    }
   ],
   "source": [
    "pip install keras-tuner"
   ]
  },
  {
   "cell_type": "code",
   "execution_count": null,
   "metadata": {
    "colab": {
     "base_uri": "https://localhost:8080/"
    },
    "executionInfo": {
     "elapsed": 884,
     "status": "ok",
     "timestamp": 1610379801977,
     "user": {
      "displayName": "Abdellah Madane",
      "photoUrl": "",
      "userId": "06482294700582109576"
     },
     "user_tz": -60
    },
    "id": "7r_YDQhaHaft",
    "outputId": "a0e04633-6cc8-4c62-a572-3ed85fa9e4c5"
   },
   "outputs": [
    {
     "data": {
      "text/plain": [
       "(48, 48, 1)"
      ]
     },
     "execution_count": 59,
     "metadata": {
      "tags": []
     },
     "output_type": "execute_result"
    }
   ],
   "source": [
    "x_train[0].shape"
   ]
  },
  {
   "cell_type": "code",
   "execution_count": null,
   "metadata": {
    "colab": {
     "base_uri": "https://localhost:8080/"
    },
    "executionInfo": {
     "elapsed": 933,
     "status": "ok",
     "timestamp": 1610379829613,
     "user": {
      "displayName": "Abdellah Madane",
      "photoUrl": "",
      "userId": "06482294700582109576"
     },
     "user_tz": -60
    },
    "id": "8nW8v9mdB-Jd",
    "outputId": "46722342-0a03-4cb6-d5d9-ce5c354c3698"
   },
   "outputs": [
    {
     "name": "stdout",
     "output_type": "stream",
     "text": [
      "INFO:tensorflow:Reloading Oracle from existing project Facial Emotion Recognition/Facial_Emotion_Recognition/oracle.json\n",
      "Search space summary\n",
      "Default search space size: 2\n",
      "units (Int)\n",
      "{'default': None, 'conditions': [], 'min_value': 32, 'max_value': 128, 'step': 32, 'sampling': None}\n",
      "learning_rate (Choice)\n",
      "{'default': 0.01, 'conditions': [], 'values': [0.01, 0.001, 0.0001], 'ordered': True}\n"
     ]
    }
   ],
   "source": [
    "from tensorflow import keras\n",
    "from kerastuner.tuners import RandomSearch\n",
    "from kerastuner.engine.hyperparameters import HyperParameters\n",
    "\n",
    "def build_model(hp):\n",
    "  model = tf.keras.models.Sequential([\n",
    "                  tf.keras.layers.Conv2D(\n",
    "                    hp.Int('units',    \n",
    "                    min_value=32,\n",
    "                    max_value=128,\n",
    "                    step=32), \n",
    "                    hp.Int('units',\n",
    "                    min_value=3,\n",
    "                    max_value=5,\n",
    "                    step=1),activation='relu',padding = 'same',input_shape=x_train[0].shape),\n",
    "                  \n",
    "\n",
    "\n",
    "                  tf.keras.layers.Conv2D(\n",
    "                    hp.Int('units',\n",
    "                    min_value=32,\n",
    "                    max_value=128,\n",
    "                    step=32), \n",
    "                    hp.Int('units',\n",
    "                    min_value=3,\n",
    "                    max_value=5,\n",
    "                    step=1), activation='relu',padding = 'same'),\n",
    "                  \n",
    "                  \n",
    "                  tf.keras.layers.Conv2D(\n",
    "                    hp.Int('units',\n",
    "                    min_value=32,\n",
    "                    max_value=128,\n",
    "                    step=32), \n",
    "                    hp.Int('units',\n",
    "                    min_value=3,\n",
    "                    max_value=5,\n",
    "                    step=1), activation='relu',padding = 'same'),\n",
    "\n",
    "\n",
    "                  tf.keras.layers.Flatten(),\n",
    "                  \n",
    "                  \n",
    "                  tf.keras.layers.Dense(\n",
    "                    hp.Int('units',\n",
    "                    min_value=32,\n",
    "                    max_value=128,\n",
    "                    step=32), activation='relu'),\n",
    "                  \n",
    "                  tf.keras.layers.Dense(3, activation='softmax'),\n",
    "  ])\n",
    "\n",
    "  model.compile(\n",
    "    optimizer=keras.optimizers.Adam(\n",
    "      hp.Choice('learning_rate',\n",
    "            values=[1e-2, 1e-3, 1e-4])),\n",
    "    loss='categorical_crossentropy',\n",
    "    metrics=['accuracy'])\n",
    "\n",
    "  return model\n",
    "\n",
    "\n",
    "\n",
    "\n",
    "tuner = RandomSearch(\n",
    "build_model,\n",
    "objective='val_accuracy',\n",
    "max_trials=5,\n",
    "executions_per_trial=3,\n",
    "directory='Facial Emotion Recognition',\n",
    "project_name='Facial_Emotion_Recognition')\n",
    "\n",
    "tuner.search_space_summary()"
   ]
  },
  {
   "cell_type": "code",
   "execution_count": null,
   "metadata": {
    "colab": {
     "base_uri": "https://localhost:8080/"
    },
    "id": "_9jwZP5KGS_0",
    "outputId": "6b513ae2-6d6a-4be7-a44a-2eb9f90ce16f"
   },
   "outputs": [
    {
     "name": "stdout",
     "output_type": "stream",
     "text": [
      "\n",
      "Search: Running Trial #1\n",
      "\n",
      "Hyperparameter    |Value             |Best Value So Far \n",
      "units             |96                |?                 \n",
      "learning_rate     |0.001             |?                 \n",
      "\n",
      "Epoch 1/5\n",
      "  6/532 [..............................] - ETA: 10:25:05 - loss: 4707.4111 - accuracy: 0.2941WARNING:tensorflow:Callback method `on_train_batch_end` is slow compared to the batch time (batch time: 29.4909s vs `on_train_batch_end` time: 34.8505s). Check your callbacks.\n",
      "393/532 [=====================>........] - ETA: 2:41:35 - loss: 276.3629 - accuracy: 0.4134"
     ]
    }
   ],
   "source": [
    "tuner.search(x_train, y_train,\n",
    "\t\t epochs=5,  \n",
    "\t\t validation_data=(x_test, y_test))"
   ]
  },
  {
   "cell_type": "code",
   "execution_count": null,
   "metadata": {
    "colab": {
     "base_uri": "https://localhost:8080/"
    },
    "executionInfo": {
     "elapsed": 28947,
     "status": "ok",
     "timestamp": 1610376885513,
     "user": {
      "displayName": "Abdellah Madane",
      "photoUrl": "",
      "userId": "06482294700582109576"
     },
     "user_tz": -60
    },
    "id": "VO3kP_2i58J2",
    "outputId": "aaa226f4-b045-489e-cec6-43fe10dddbe0"
   },
   "outputs": [
    {
     "name": "stdout",
     "output_type": "stream",
     "text": [
      "Model: \"sequential_1\"\n",
      "_________________________________________________________________\n",
      "Layer (type)                 Output Shape              Param #   \n",
      "=================================================================\n",
      "conv2d_6 (Conv2D)            (None, 48, 48, 64)        1664      \n",
      "_________________________________________________________________\n",
      "batch_normalization_8 (Batch (None, 48, 48, 64)        256       \n",
      "_________________________________________________________________\n",
      "conv2d_7 (Conv2D)            (None, 48, 48, 64)        102464    \n",
      "_________________________________________________________________\n",
      "batch_normalization_9 (Batch (None, 48, 48, 64)        256       \n",
      "_________________________________________________________________\n",
      "max_pooling2d_3 (MaxPooling2 (None, 24, 24, 64)        0         \n",
      "_________________________________________________________________\n",
      "dropout_5 (Dropout)          (None, 24, 24, 64)        0         \n",
      "_________________________________________________________________\n",
      "conv2d_8 (Conv2D)            (None, 24, 24, 128)       73856     \n",
      "_________________________________________________________________\n",
      "batch_normalization_10 (Batc (None, 24, 24, 128)       512       \n",
      "_________________________________________________________________\n",
      "conv2d_9 (Conv2D)            (None, 24, 24, 128)       147584    \n",
      "_________________________________________________________________\n",
      "batch_normalization_11 (Batc (None, 24, 24, 128)       512       \n",
      "_________________________________________________________________\n",
      "max_pooling2d_4 (MaxPooling2 (None, 12, 12, 128)       0         \n",
      "_________________________________________________________________\n",
      "dropout_6 (Dropout)          (None, 12, 12, 128)       0         \n",
      "_________________________________________________________________\n",
      "conv2d_10 (Conv2D)           (None, 12, 12, 256)       295168    \n",
      "_________________________________________________________________\n",
      "batch_normalization_12 (Batc (None, 12, 12, 256)       1024      \n",
      "_________________________________________________________________\n",
      "conv2d_11 (Conv2D)           (None, 12, 12, 256)       590080    \n",
      "_________________________________________________________________\n",
      "batch_normalization_13 (Batc (None, 12, 12, 256)       1024      \n",
      "_________________________________________________________________\n",
      "max_pooling2d_5 (MaxPooling2 (None, 6, 6, 256)         0         \n",
      "_________________________________________________________________\n",
      "dropout_7 (Dropout)          (None, 6, 6, 256)         0         \n",
      "_________________________________________________________________\n",
      "flatten_1 (Flatten)          (None, 9216)              0         \n",
      "_________________________________________________________________\n",
      "dense_3 (Dense)              (None, 128)               1179776   \n",
      "_________________________________________________________________\n",
      "batch_normalization_14 (Batc (None, 128)               512       \n",
      "_________________________________________________________________\n",
      "dropout_8 (Dropout)          (None, 128)               0         \n",
      "_________________________________________________________________\n",
      "dense_4 (Dense)              (None, 128)               16512     \n",
      "_________________________________________________________________\n",
      "batch_normalization_15 (Batc (None, 128)               512       \n",
      "_________________________________________________________________\n",
      "dropout_9 (Dropout)          (None, 128)               0         \n",
      "_________________________________________________________________\n",
      "dense_5 (Dense)              (None, 3)                 387       \n",
      "=================================================================\n",
      "Total params: 2,412,099\n",
      "Trainable params: 2,409,795\n",
      "Non-trainable params: 2,304\n",
      "_________________________________________________________________\n"
     ]
    }
   ],
   "source": [
    "\n",
    "model = tf.keras.models.Sequential([\n",
    "                                    tf.keras.layers.Conv2D(64, 5, padding='same', activation='elu', input_shape = (48,48,1)),\n",
    "                                    tf.keras.layers.BatchNormalization(),\n",
    "                                    tf.keras.layers.Conv2D(64, 5, padding='same', activation='elu'), \n",
    "                                    tf.keras.layers.BatchNormalization(),\n",
    "                                    tf.keras.layers.MaxPool2D(2),\n",
    "                                    tf.keras.layers.Dropout(0.3),\n",
    "\n",
    "                                    tf.keras.layers.Conv2D(128, 3, padding='same', activation='elu'),\n",
    "                                    tf.keras.layers.BatchNormalization(),\n",
    "                                    tf.keras.layers.Conv2D(128, 3, padding='same', activation='elu'),\n",
    "                                    tf.keras.layers.BatchNormalization(),\n",
    "                                    tf.keras.layers.MaxPool2D(2),\n",
    "                                    tf.keras.layers.Dropout(0.4),\n",
    "\n",
    "                                    tf.keras.layers.Conv2D(256, 3, padding='same', activation='elu'),\n",
    "                                    tf.keras.layers.BatchNormalization(),\n",
    "                                    tf.keras.layers.Conv2D(256, 3, padding='same', activation='elu'),\n",
    "                                    tf.keras.layers.BatchNormalization(),\n",
    "                                    tf.keras.layers.MaxPool2D(2),\n",
    "                                    tf.keras.layers.Dropout(0.5),\n",
    "\n",
    "                                    tf.keras.layers.Flatten(),\n",
    "\n",
    "                                    tf.keras.layers.Dense(128, activation='elu'),\n",
    "                                    tf.keras.layers.BatchNormalization(),\n",
    "                                    tf.keras.layers.Dropout(0.6),\n",
    "\n",
    "                                    tf.keras.layers.Dense(128, activation='elu'),\n",
    "                                    tf.keras.layers.BatchNormalization(),\n",
    "                                    tf.keras.layers.Dropout(0.6),\n",
    "                                   \n",
    "                                    tf.keras.layers.Dense(3, activation='softmax')\n",
    "])\n",
    "model.summary()\n"
   ]
  },
  {
   "cell_type": "code",
   "execution_count": null,
   "metadata": {
    "id": "ZAEfMBzc6xtg"
   },
   "outputs": [],
   "source": [
    "from keras.preprocessing.image import ImageDataGenerator\n",
    "train_datagen = ImageDataGenerator(rotation_range=15,width_shift_range=0.15,height_shift_range=0.15,shear_range=0.15,zoom_range=0.15,horizontal_flip=True,)\n",
    "train_datagen.fit(x_train)\n",
    "optim = tf.keras.optimizers.Adam(learning_rate=0.001)\n",
    "model.compile(optimizer=optim,loss = 'categorical_crossentropy',metrics= ['accuracy'])\n",
    "batch_size = 32\n",
    "epochs =55"
   ]
  },
  {
   "cell_type": "code",
   "execution_count": null,
   "metadata": {
    "id": "XwCfu0EE69-d"
   },
   "outputs": [],
   "source": [
    "early_stopping = EarlyStopping(monitor='val_accuracy',min_delta=0.00005,patience=11,verbose=1,restore_best_weights=True,)\n",
    "\n",
    "lr_scheduler = ReduceLROnPlateau(monitor='val_accuracy',factor=0.5,patience=7,min_lr=1e-7,verbose=1,)\n",
    "\n",
    "callbacks = [early_stopping,lr_scheduler,]"
   ]
  },
  {
   "cell_type": "code",
   "execution_count": null,
   "metadata": {
    "colab": {
     "base_uri": "https://localhost:8080/"
    },
    "executionInfo": {
     "elapsed": 1623945,
     "status": "ok",
     "timestamp": 1610378480553,
     "user": {
      "displayName": "Abdellah Madane",
      "photoUrl": "",
      "userId": "06482294700582109576"
     },
     "user_tz": -60
    },
    "id": "C-WqyzCJ7BOH",
    "outputId": "f0bbf7c4-7090-4844-cc30-56b18cfc7a3d"
   },
   "outputs": [
    {
     "name": "stdout",
     "output_type": "stream",
     "text": [
      "Epoch 1/55\n"
     ]
    },
    {
     "name": "stderr",
     "output_type": "stream",
     "text": [
      "/usr/local/lib/python3.6/dist-packages/tensorflow/python/keras/engine/training.py:1844: UserWarning: `Model.fit_generator` is deprecated and will be removed in a future version. Please use `Model.fit`, which supports generators.\n",
      "  warnings.warn('`Model.fit_generator` is deprecated and '\n"
     ]
    },
    {
     "name": "stdout",
     "output_type": "stream",
     "text": [
      "531/531 [==============================] - 31s 55ms/step - loss: 1.6757 - accuracy: 0.3600 - val_loss: 1.0650 - val_accuracy: 0.4309\n",
      "Epoch 2/55\n",
      "531/531 [==============================] - 29s 54ms/step - loss: 1.1097 - accuracy: 0.4048 - val_loss: 1.0314 - val_accuracy: 0.4805\n",
      "Epoch 3/55\n",
      "531/531 [==============================] - 28s 53ms/step - loss: 1.0627 - accuracy: 0.4383 - val_loss: 1.0383 - val_accuracy: 0.4579\n",
      "Epoch 4/55\n",
      "531/531 [==============================] - 29s 54ms/step - loss: 1.0087 - accuracy: 0.4922 - val_loss: 0.9377 - val_accuracy: 0.5672\n",
      "Epoch 5/55\n",
      "531/531 [==============================] - 29s 54ms/step - loss: 0.9113 - accuracy: 0.5645 - val_loss: 0.8412 - val_accuracy: 0.5811\n",
      "Epoch 6/55\n",
      "531/531 [==============================] - 29s 54ms/step - loss: 0.8317 - accuracy: 0.5997 - val_loss: 0.7508 - val_accuracy: 0.6460\n",
      "Epoch 7/55\n",
      "531/531 [==============================] - 28s 54ms/step - loss: 0.7819 - accuracy: 0.6294 - val_loss: 0.7735 - val_accuracy: 0.6185\n",
      "Epoch 8/55\n",
      "531/531 [==============================] - 28s 53ms/step - loss: 0.7282 - accuracy: 0.6687 - val_loss: 0.7734 - val_accuracy: 0.6537\n",
      "Epoch 9/55\n",
      "531/531 [==============================] - 28s 53ms/step - loss: 0.7177 - accuracy: 0.6803 - val_loss: 0.6768 - val_accuracy: 0.6916\n",
      "Epoch 10/55\n",
      "531/531 [==============================] - 29s 54ms/step - loss: 0.6957 - accuracy: 0.6965 - val_loss: 0.6974 - val_accuracy: 0.6892\n",
      "Epoch 11/55\n",
      "531/531 [==============================] - 28s 53ms/step - loss: 0.6740 - accuracy: 0.7000 - val_loss: 0.6265 - val_accuracy: 0.7087\n",
      "Epoch 12/55\n",
      "531/531 [==============================] - 29s 54ms/step - loss: 0.6479 - accuracy: 0.7204 - val_loss: 0.5890 - val_accuracy: 0.7417\n",
      "Epoch 13/55\n",
      "531/531 [==============================] - 28s 53ms/step - loss: 0.6322 - accuracy: 0.7309 - val_loss: 0.5851 - val_accuracy: 0.7374\n",
      "Epoch 14/55\n",
      "531/531 [==============================] - 29s 55ms/step - loss: 0.6272 - accuracy: 0.7287 - val_loss: 0.5917 - val_accuracy: 0.7351\n",
      "Epoch 15/55\n",
      "531/531 [==============================] - 29s 54ms/step - loss: 0.6147 - accuracy: 0.7350 - val_loss: 0.6085 - val_accuracy: 0.7254\n",
      "Epoch 16/55\n",
      "531/531 [==============================] - 28s 53ms/step - loss: 0.6181 - accuracy: 0.7380 - val_loss: 0.5597 - val_accuracy: 0.7574\n",
      "Epoch 17/55\n",
      "531/531 [==============================] - 29s 54ms/step - loss: 0.5972 - accuracy: 0.7441 - val_loss: 0.5334 - val_accuracy: 0.7722\n",
      "Epoch 18/55\n",
      "531/531 [==============================] - 29s 54ms/step - loss: 0.5850 - accuracy: 0.7533 - val_loss: 0.5522 - val_accuracy: 0.7560\n",
      "Epoch 19/55\n",
      "531/531 [==============================] - 29s 54ms/step - loss: 0.5747 - accuracy: 0.7597 - val_loss: 0.5249 - val_accuracy: 0.7743\n",
      "Epoch 20/55\n",
      "531/531 [==============================] - 29s 54ms/step - loss: 0.5755 - accuracy: 0.7592 - val_loss: 0.5636 - val_accuracy: 0.7511\n",
      "Epoch 21/55\n",
      "531/531 [==============================] - 29s 54ms/step - loss: 0.5669 - accuracy: 0.7597 - val_loss: 0.5802 - val_accuracy: 0.7475\n",
      "Epoch 22/55\n",
      "531/531 [==============================] - 29s 54ms/step - loss: 0.5615 - accuracy: 0.7624 - val_loss: 0.5074 - val_accuracy: 0.7776\n",
      "Epoch 23/55\n",
      "531/531 [==============================] - 29s 54ms/step - loss: 0.5658 - accuracy: 0.7590 - val_loss: 0.5255 - val_accuracy: 0.7732\n",
      "Epoch 24/55\n",
      "531/531 [==============================] - 29s 55ms/step - loss: 0.5502 - accuracy: 0.7693 - val_loss: 0.5471 - val_accuracy: 0.7677\n",
      "Epoch 25/55\n",
      "531/531 [==============================] - 29s 54ms/step - loss: 0.5549 - accuracy: 0.7645 - val_loss: 0.5254 - val_accuracy: 0.7703\n",
      "Epoch 26/55\n",
      "531/531 [==============================] - 29s 54ms/step - loss: 0.5470 - accuracy: 0.7742 - val_loss: 0.5430 - val_accuracy: 0.7640\n",
      "Epoch 27/55\n",
      "531/531 [==============================] - 29s 54ms/step - loss: 0.5333 - accuracy: 0.7746 - val_loss: 0.5478 - val_accuracy: 0.7567\n",
      "Epoch 28/55\n",
      "531/531 [==============================] - 29s 55ms/step - loss: 0.5445 - accuracy: 0.7750 - val_loss: 0.5437 - val_accuracy: 0.7638\n",
      "Epoch 29/55\n",
      "531/531 [==============================] - 29s 55ms/step - loss: 0.5381 - accuracy: 0.7808 - val_loss: 0.5578 - val_accuracy: 0.7581\n",
      "\n",
      "Epoch 00029: ReduceLROnPlateau reducing learning rate to 0.0005000000237487257.\n",
      "Epoch 30/55\n",
      "531/531 [==============================] - 29s 54ms/step - loss: 0.5188 - accuracy: 0.7847 - val_loss: 0.5121 - val_accuracy: 0.7795\n",
      "Epoch 31/55\n",
      "531/531 [==============================] - 29s 54ms/step - loss: 0.5069 - accuracy: 0.7914 - val_loss: 0.5058 - val_accuracy: 0.7948\n",
      "Epoch 32/55\n",
      "531/531 [==============================] - 29s 54ms/step - loss: 0.5059 - accuracy: 0.7899 - val_loss: 0.4965 - val_accuracy: 0.7934\n",
      "Epoch 33/55\n",
      "531/531 [==============================] - 29s 55ms/step - loss: 0.5003 - accuracy: 0.7964 - val_loss: 0.4796 - val_accuracy: 0.8011\n",
      "Epoch 34/55\n",
      "531/531 [==============================] - 29s 55ms/step - loss: 0.4798 - accuracy: 0.8023 - val_loss: 0.4792 - val_accuracy: 0.7988\n",
      "Epoch 35/55\n",
      "531/531 [==============================] - 29s 55ms/step - loss: 0.4976 - accuracy: 0.7919 - val_loss: 0.4948 - val_accuracy: 0.7920\n",
      "Epoch 36/55\n",
      "531/531 [==============================] - 29s 55ms/step - loss: 0.4920 - accuracy: 0.7993 - val_loss: 0.5078 - val_accuracy: 0.7861\n",
      "Epoch 37/55\n",
      "531/531 [==============================] - 29s 55ms/step - loss: 0.4842 - accuracy: 0.8032 - val_loss: 0.4772 - val_accuracy: 0.7964\n",
      "Epoch 38/55\n",
      "531/531 [==============================] - 29s 55ms/step - loss: 0.4756 - accuracy: 0.8041 - val_loss: 0.4839 - val_accuracy: 0.7901\n",
      "Epoch 39/55\n",
      "531/531 [==============================] - 29s 55ms/step - loss: 0.4845 - accuracy: 0.8010 - val_loss: 0.4828 - val_accuracy: 0.8011\n",
      "Epoch 40/55\n",
      "531/531 [==============================] - 29s 55ms/step - loss: 0.4732 - accuracy: 0.8127 - val_loss: 0.5080 - val_accuracy: 0.7833\n",
      "\n",
      "Epoch 00040: ReduceLROnPlateau reducing learning rate to 0.0002500000118743628.\n",
      "Epoch 41/55\n",
      "531/531 [==============================] - 29s 55ms/step - loss: 0.4634 - accuracy: 0.8112 - val_loss: 0.4812 - val_accuracy: 0.8039\n",
      "Epoch 42/55\n",
      "531/531 [==============================] - 29s 55ms/step - loss: 0.4574 - accuracy: 0.8147 - val_loss: 0.4769 - val_accuracy: 0.8063\n",
      "Epoch 43/55\n",
      "531/531 [==============================] - 29s 55ms/step - loss: 0.4550 - accuracy: 0.8139 - val_loss: 0.4796 - val_accuracy: 0.8039\n",
      "Epoch 44/55\n",
      "531/531 [==============================] - 29s 55ms/step - loss: 0.4539 - accuracy: 0.8192 - val_loss: 0.4873 - val_accuracy: 0.8014\n",
      "Epoch 45/55\n",
      "531/531 [==============================] - 29s 55ms/step - loss: 0.4447 - accuracy: 0.8223 - val_loss: 0.4727 - val_accuracy: 0.8023\n",
      "Epoch 46/55\n",
      "531/531 [==============================] - 29s 55ms/step - loss: 0.4500 - accuracy: 0.8181 - val_loss: 0.4887 - val_accuracy: 0.8023\n",
      "Epoch 47/55\n",
      "531/531 [==============================] - 29s 55ms/step - loss: 0.4488 - accuracy: 0.8200 - val_loss: 0.4738 - val_accuracy: 0.8065\n",
      "Epoch 48/55\n",
      "531/531 [==============================] - 29s 55ms/step - loss: 0.4481 - accuracy: 0.8213 - val_loss: 0.4870 - val_accuracy: 0.7988\n",
      "Epoch 49/55\n",
      "531/531 [==============================] - 29s 54ms/step - loss: 0.4373 - accuracy: 0.8248 - val_loss: 0.4734 - val_accuracy: 0.8101\n",
      "Epoch 50/55\n",
      "531/531 [==============================] - 29s 55ms/step - loss: 0.4349 - accuracy: 0.8224 - val_loss: 0.4861 - val_accuracy: 0.8037\n",
      "Epoch 51/55\n",
      "531/531 [==============================] - 29s 55ms/step - loss: 0.4371 - accuracy: 0.8279 - val_loss: 0.4893 - val_accuracy: 0.7964\n",
      "Epoch 52/55\n",
      "531/531 [==============================] - 29s 55ms/step - loss: 0.4436 - accuracy: 0.8232 - val_loss: 0.4761 - val_accuracy: 0.8051\n",
      "Epoch 53/55\n",
      "531/531 [==============================] - 29s 55ms/step - loss: 0.4333 - accuracy: 0.8244 - val_loss: 0.4871 - val_accuracy: 0.8021\n",
      "Epoch 54/55\n",
      "531/531 [==============================] - 29s 55ms/step - loss: 0.4416 - accuracy: 0.8246 - val_loss: 0.4765 - val_accuracy: 0.8023\n",
      "Epoch 55/55\n",
      "531/531 [==============================] - 29s 55ms/step - loss: 0.4261 - accuracy: 0.8283 - val_loss: 0.4790 - val_accuracy: 0.8028\n"
     ]
    }
   ],
   "source": [
    "history = model.fit_generator(train_datagen.flow(x_train, y_train, batch_size=batch_size),validation_data=(x_test, y_test),steps_per_epoch=len(x_train) / batch_size,epochs=epochs,callbacks = callbacks)"
   ]
  },
  {
   "cell_type": "code",
   "execution_count": null,
   "metadata": {
    "colab": {
     "base_uri": "https://localhost:8080/",
     "height": 282
    },
    "executionInfo": {
     "elapsed": 3037,
     "status": "ok",
     "timestamp": 1610378654572,
     "user": {
      "displayName": "Abdellah Madane",
      "photoUrl": "",
      "userId": "06482294700582109576"
     },
     "user_tz": -60
    },
    "id": "n28arEgqB20m",
    "outputId": "501b2cb3-e7ce-4728-fe43-4e2d992011ab"
   },
   "outputs": [
    {
     "data": {
      "text/plain": [
       "[<matplotlib.lines.Line2D at 0x7f19789e8c50>]"
      ]
     },
     "execution_count": 48,
     "metadata": {
      "tags": []
     },
     "output_type": "execute_result"
    },
    {
     "data": {
      "image/png": "[encoded data removed]",
      "text/plain": [
       "<Figure size 432x288 with 1 Axes>"
      ]
     },
     "metadata": {
      "needs_background": "light",
      "tags": []
     },
     "output_type": "display_data"
    }
   ],
   "source": [
    "loss = history.history['loss']\n",
    "val_loss = history.history['val_loss']\n",
    "plt.plot(loss)\n",
    "plt.plot(val_loss)"
   ]
  },
  {
   "cell_type": "code",
   "execution_count": null,
   "metadata": {
    "colab": {
     "base_uri": "https://localhost:8080/",
     "height": 282
    },
    "executionInfo": {
     "elapsed": 951,
     "status": "ok",
     "timestamp": 1610378657756,
     "user": {
      "displayName": "Abdellah Madane",
      "photoUrl": "",
      "userId": "06482294700582109576"
     },
     "user_tz": -60
    },
    "id": "nIa_LM4aB7SV",
    "outputId": "0649033a-f449-419d-e79a-5cfff9c4fe89"
   },
   "outputs": [
    {
     "data": {
      "text/plain": [
       "[<matplotlib.lines.Line2D at 0x7f1973d54ef0>]"
      ]
     },
     "execution_count": 49,
     "metadata": {
      "tags": []
     },
     "output_type": "execute_result"
    },
    {
     "data": {
      "image/png": "[encoded data removed]",
      "text/plain": [
       "<Figure size 432x288 with 1 Axes>"
      ]
     },
     "metadata": {
      "needs_background": "light",
      "tags": []
     },
     "output_type": "display_data"
    }
   ],
   "source": [
    "accuracy = history.history['accuracy']\n",
    "val_accuracy = history.history['val_accuracy']\n",
    "plt.plot(accuracy)\n",
    "plt.plot(val_accuracy)"
   ]
  }
 ],
 "metadata": {
  "accelerator": "GPU",
  "colab": {
   "collapsed_sections": [],
   "name": "ReconnaissanceExpressionsFaciales_Elhlou_Madane.ipynb",
   "provenance": []
  },
  "kernelspec": {
   "display_name": "Python 3",
   "language": "python",
   "name": "python3"
  },
  "language_info": {
   "codemirror_mode": {
    "name": "ipython",
    "version": 3
   },
   "file_extension": ".py",
   "mimetype": "text/x-python",
   "name": "python",
   "nbconvert_exporter": "python",
   "pygments_lexer": "ipython3",
   "version": "3.7.4"
  }
 },
 "nbformat": 4,
 "nbformat_minor": 1
}
